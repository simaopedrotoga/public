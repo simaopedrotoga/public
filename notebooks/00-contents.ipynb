{
 "cells": [
  {
   "cell_type": "markdown",
   "metadata": {
    "colab_type": "text",
    "id": "89c5-BpMY8y2"
   },
   "source": [
    "# FPRO: Programming Fundamentals (with Python)\n",
    "\n",
    "> The Unit aim at giving the student the ability to create algorithms, and to use a programming language to implement, test, and debug algorithms to solve simple problems.\n",
    "\n",
    "Here you find:\n",
    "- A collection of Jupyter Notebooks that help you learn: basic principles of programming, problem solving, testing and data structures: to embrace the **Computational Thinking**\n",
    "- The content is based on:\n",
    "  - the open-source book: http://openbookproject.net/thinkcs/python/english3e/index.html\n",
    "  - one interactive version of the book: https://runestone.academy/runestone/books/published/thinkcspy/index.html\n",
    "\n",
    "For more, go to FPRO's landing page at: https://fpro.fe.up.pt\n",
    "\n",
    "## Table of Contents\n",
    "\n",
    "- [NB00: Preface](00-preface.ipynb)\n",
    "- [NB01: Introduction](01-introduction.ipynb)\n",
    "- [NB02: Data, Variables Expressions and Statements](02-simple-data.ipynb)\n",
    "- [NB03: Program flow, Conditionals](03-flow-conditionals.ipynb)\n",
    "- [NB04: Iteration](04-iteration.ipynb)\n",
    "- [NB05: Functions](05-functions.ipynb)\n",
    "- [NB06: Fruitful functions](06-more-functions.ipynb)\n",
    "- [NB07: Strings](07-strings.ipynb)\n",
    "- [NB08: Tuples](08-tuples.ipynb)\n",
    "- [NB09: Lists](09-lists.ipynb)\n",
    "- [NB10: Work with lists](10-more-lists.ipynb)\n",
    "- [NB11: Dictionaries](11-dictionaries.ipynb)\n",
    "- [NB12: Sets](12-sets.ipynb)\n",
    "- [NB13: Recursion](13-recursion.ipynb)\n",
    "- [NB14: Recursion vs. Iteration](14-more-recursion.ipynb)\n",
    "- [NB15: Functional Programming with Collections](15-fp-collections.ipynb)\n",
    "- [NB16: Comprehensions](16-comprehensions.ipynb)\n",
    "- [NB17: Higher-order functions](17-higher-order.ipynb)\n",
    "- [NB18: Effect-free programming style](18-effect-free.ipynb)\n",
    "- [NB19: List algorithms](19-list-algorithms.ipnyb)\n",
    "- [NB20: Analysis of algorithms](20-analysis-algorithms.ipnyb)\n",
    "- [NB21: Modules](21-modules.ipnyb)\n",
    "- [NB22: Programs](22-programs.ipnyb)\n",
    "- [NB23: Files](23-files.ipnyb)\n",
    "- [NB24: Exceptions](24-exceptions.ipnyb)\n",
    "\n",
    "> To be continued...\n",
    "\n",
    "## Finale\n",
    "\n",
    "- Whenever deemed necessary, students are encouraged to go to the \"Clinic\", supervised by student assistants, to get help; see the [Attendance hours](https://web.fe.up.pt/~jlopes/doku.php/teach/fpro/clinic).\n",
    "\n",
    "- ... and [always look on the bright side of life](https://www.youtube.com/watch?v=-ECUtkv2qV8) or [always](https://www.youtube.com/watch?v=JrdEMERq8MA)\n"
   ]
  },
  {
   "cell_type": "code",
   "execution_count": 0,
   "metadata": {
    "colab": {},
    "colab_type": "code",
    "id": "fKOcINUN5Ejo"
   },
   "outputs": [],
   "source": [
    "from IPython.display import YouTubeVideo\n",
    "YouTubeVideo('JrdEMERq8MA')"
   ]
  },
  {
   "cell_type": "markdown",
   "metadata": {
    "colab_type": "text",
    "id": "lv9uIaId5rJ_"
   },
   "source": [
    "---\n",
    "-- JCL,  Tue Sep 17 17:01:45 2019"
   ]
  }
 ],
 "metadata": {
  "colab": {
   "collapsed_sections": [],
   "name": "00-contents.ipynb",
   "provenance": [],
   "toc_visible": true
  },
  "kernelspec": {
   "display_name": "Python 3",
   "language": "python",
   "name": "python3"
  },
  "language_info": {
   "codemirror_mode": {
    "name": "ipython",
    "version": 3
   },
   "file_extension": ".py",
   "mimetype": "text/x-python",
   "name": "python",
   "nbconvert_exporter": "python",
   "pygments_lexer": "ipython3",
   "version": "3.7.3"
  }
 },
 "nbformat": 4,
 "nbformat_minor": 1
}
