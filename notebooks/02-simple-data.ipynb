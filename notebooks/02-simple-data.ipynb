{
  "nbformat": 4,
  "nbformat_minor": 0,
  "metadata": {
    "colab": {
      "name": "02-simple-data.ipynb",
      "provenance": [],
      "private_outputs": true,
      "collapsed_sections": [
        "8z5cONg8rUrX"
      ],
      "toc_visible": true
    },
    "kernelspec": {
      "name": "python3",
      "display_name": "Python 3"
    }
  },
  "cells": [
    {
      "cell_type": "markdown",
      "metadata": {
        "id": "8z5cONg8rUrX",
        "colab_type": "text"
      },
      "source": [
        "# Variables, expressions and statements\n",
        "\n",
        "## Programming Fundamentals (NB02)\n",
        "\n",
        "### MIEIC/2019-20\n",
        "\n",
        "#### João Correia Lopes\n",
        "\n",
        "INESC TEC, FEUP"
      ]
    },
    {
      "cell_type": "markdown",
      "metadata": {
        "id": "MZzE7pYorju5",
        "colab_type": "text"
      },
      "source": [
        "## Goals\n",
        "\n",
        "\n",
        "By the end of this class, the student should be able to:\n",
        "\n",
        "- Describe and distinguish the concepts of variable, location, value, type\n",
        "\n",
        "- Identify the Python reserved words\n",
        "\n",
        "- Describe the concepts of statement and expression\n",
        "\n",
        "- Identify some of the Python operands and their precedence\n",
        "\n",
        "- Use operators with suitable operands\n",
        "\n",
        "- Describe the Python type conversion operations and use them\n",
        "\n",
        "- Describe how to get input, at runtime, from an user of the program"
      ]
    },
    {
      "cell_type": "markdown",
      "metadata": {
        "id": "eR5Lh1jNroE2",
        "colab_type": "text"
      },
      "source": [
        "## Bibliography\n",
        "\n",
        "\n",
        "* Peter Wentworth, Jeffrey Elkner, Allen B. Downey, and Chris Meyers, *How to Think Like a Computer Scientist — Learning with Python 3* (Chapter 2)\n",
        "[[PDF 2019](https://media.readthedocs.org/pdf/howtothink/latest/howtothink.pdf)] \n",
        "[[HTML](http://openbookproject.net/thinkcs/python/english3e/)]\n",
        "\n",
        "* Brad Miller and David Ranum, *How to Think Like a Computer Scientist: Interactive Edition*. (Chapter 2)\n",
        "    [[HTML](https://runestone.academy/runestone/books/published/thinkcspy/SimplePythonData/toctree.html)]"
      ]
    },
    {
      "cell_type": "markdown",
      "metadata": {
        "id": "Z8WW57Uj8bJg",
        "colab_type": "text"
      },
      "source": [
        "Runestone Interactive vídeo:"
      ]
    },
    {
      "cell_type": "code",
      "metadata": {
        "id": "XKa-IV0363yA",
        "colab_type": "code",
        "colab": {}
      },
      "source": [
        "from IPython.display import YouTubeVideo\n",
        "YouTubeVideo('vNfCfowr-pQ')"
      ],
      "execution_count": 0,
      "outputs": []
    },
    {
      "cell_type": "markdown",
      "metadata": {
        "id": "pPfDMznP1B1k",
        "colab_type": "text"
      },
      "source": [
        "# Simple Python Data\n"
      ]
    },
    {
      "cell_type": "markdown",
      "metadata": {
        "id": "sWBpWyCZ1GY-",
        "colab_type": "text"
      },
      "source": [
        "## Python\n",
        "\n",
        "You may download the Python program from GitHug and play with it using the IDE Spyder.\n",
        "\n",
        "$\\Rightarrow$ \n",
        "https://github.com/fpro-feup/public/blob/master/lectures/01/basics.py\n"
      ]
    },
    {
      "cell_type": "code",
      "metadata": {
        "id": "JNGjfMPrXw2J",
        "colab_type": "code",
        "colab": {}
      },
      "source": [
        "#!/usr/bin/env python3\n",
        "\n",
        "import datetime\n",
        "now = datetime.datetime.now()\n",
        "\n",
        "# 1\n",
        "print()\n",
        "print(\"Current date and time using str method of datetime object:\")"
      ],
      "execution_count": 0,
      "outputs": []
    },
    {
      "cell_type": "code",
      "metadata": {
        "id": "pO2vDxBY8Fvk",
        "colab_type": "code",
        "colab": {}
      },
      "source": [
        "# 2 \n",
        "print()\n",
        "print(str(now))"
      ],
      "execution_count": 0,
      "outputs": []
    },
    {
      "cell_type": "code",
      "metadata": {
        "id": "D1OUslox8JKU",
        "colab_type": "code",
        "colab": {}
      },
      "source": [
        "# 3\n",
        "print()\n",
        "print(\"Current date and time using instance attributes:\")\n",
        "print()\n",
        "print(\"Current year: %d\" % now.year)\n",
        "print(\"Current month: %d\" % now.month)\n",
        "print(\"Current day: %d\" % now.day)\n",
        "print(\"Current hour: %d\" % now.hour)\n",
        "print(\"Current minute: %d\" % now.minute)\n",
        "print(\"Current second: %d\" % now.second)\n",
        "print(\"Current microsecond: %d\" % now.microsecond)"
      ],
      "execution_count": 0,
      "outputs": []
    },
    {
      "cell_type": "code",
      "metadata": {
        "id": "oTsclRTe8OMT",
        "colab_type": "code",
        "colab": {}
      },
      "source": [
        "# 4\n",
        "print()\n",
        "print(\"Current date and time using strftime:\")\n",
        "print(now.strftime(\"%Y-%m-%d %H:%M\"))"
      ],
      "execution_count": 0,
      "outputs": []
    },
    {
      "cell_type": "markdown",
      "metadata": {
        "id": "MagKTtyv1QlU",
        "colab_type": "text"
      },
      "source": [
        "## 2.1 Values and data types\n",
        "\n",
        "\n",
        "- A **value** is one of the fundamental things that a program\n",
        "    manipulates (like `5` ou `\"Hello world!\"`)\n",
        "\n",
        "- The values are refered to as **objects** in Python\n",
        "\n",
        "- Values are classified into different classes, or **data types** (`5` is an integer and `\"Hello world!\"` is a string)\n",
        "\n",
        "- **type()** is a function that tell us the type of a value\n",
        "\n",
        "\n",
        "Try running the following code and think about the results you get:"
      ]
    },
    {
      "cell_type": "code",
      "metadata": {
        "id": "hobcz42boLn6",
        "colab_type": "code",
        "colab": {}
      },
      "source": [
        "print(type(\"Hello, World!\"))\n",
        "print(type(5))"
      ],
      "execution_count": 0,
      "outputs": []
    },
    {
      "cell_type": "code",
      "metadata": {
        "id": "4ggrLK_WpR15",
        "colab_type": "code",
        "colab": {}
      },
      "source": [
        "print(type(\"3.2\"))\n",
        "print(type(3.2))"
      ],
      "execution_count": 0,
      "outputs": []
    },
    {
      "cell_type": "code",
      "metadata": {
        "id": "me-eKXqK89nX",
        "colab_type": "code",
        "colab": {}
      },
      "source": [
        "print(\"Hello, World\")\n",
        "type('Hello, World!')"
      ],
      "execution_count": 0,
      "outputs": []
    },
    {
      "cell_type": "code",
      "metadata": {
        "id": "Twkb-b6BqBZk",
        "colab_type": "code",
        "colab": {}
      },
      "source": [
        "print(42000)\n",
        "print(42,000)"
      ],
      "execution_count": 0,
      "outputs": []
    },
    {
      "cell_type": "code",
      "metadata": {
        "id": "KPbwopsmp0pm",
        "colab_type": "code",
        "colab": {}
      },
      "source": [
        "print(42, 17, 56, 34, 11, 4.35, 32)\n",
        "print(3.4, \"hello\", 45)"
      ],
      "execution_count": 0,
      "outputs": []
    },
    {
      "cell_type": "markdown",
      "metadata": {
        "id": "ez_5o9ir2oDq",
        "colab_type": "text"
      },
      "source": [
        "## 2.2 Variables\n",
        "\n",
        "\n",
        "- A variable is a **name** that refers to a **value**\n",
        "\n",
        "- The **assignment statement** gives a value to a variable\n",
        "\n",
        "- The assignment statement binds a *name*, on the left-hand side of\n",
        "    the operator, to a *value*, on the right-hand side\n",
        "\n",
        "- Later, one can assign a different value to the same variable (this\n",
        "    is different from maths!)\n",
        "\n",
        "- The assignment token, `=`, should not be confused with the equals\n",
        "    token, `==`\n",
        "\n"
      ]
    },
    {
      "cell_type": "markdown",
      "metadata": {
        "id": "1lGCHgs18eab",
        "colab_type": "text"
      },
      "source": [
        "Runestone Interactive vídeo:"
      ]
    },
    {
      "cell_type": "code",
      "metadata": {
        "id": "R3khzUvP7Mat",
        "colab_type": "code",
        "colab": {}
      },
      "source": [
        "from IPython.display import YouTubeVideo\n",
        "YouTubeVideo('1uQM-TVlaMo')"
      ],
      "execution_count": 0,
      "outputs": []
    },
    {
      "cell_type": "markdown",
      "metadata": {
        "id": "Cwe-RAYoZEwa",
        "colab_type": "text"
      },
      "source": [
        "## Assignment\n",
        "\n",
        "Assignment statements create new variables and also give them values to refer to."
      ]
    },
    {
      "cell_type": "code",
      "metadata": {
        "id": "sEgRXRafZJPZ",
        "colab_type": "code",
        "colab": {}
      },
      "source": [
        "message = \"What's up, Doc?\"\n",
        "n = 17\n",
        "pi = 3.14159\n",
        "\n",
        "message = \"For something completely different.\"\n",
        "\n",
        "print(message)\n",
        "print(n)\n",
        "print(pi)\n",
        "\n",
        "print(type(message))\n",
        "print(type(n))\n",
        "print(type(pi))"
      ],
      "execution_count": 0,
      "outputs": []
    },
    {
      "cell_type": "markdown",
      "metadata": {
        "id": "GF1tOcZFZKmM",
        "colab_type": "text"
      },
      "source": [
        "Copy the previous code and Visualise a **state snapshot**\n",
        "\n",
        "$\\Rightarrow$ \n",
        "[pytontutor](http://www.pythontutor.com/visualize.html#mode=edit)"
      ]
    },
    {
      "cell_type": "markdown",
      "metadata": {
        "id": "jrr9ZZgwEr04",
        "colab_type": "text"
      },
      "source": [
        "## Equality\n",
        "\n",
        "- It is important to note that in mathematics, a statement of equality is always true. \n",
        "  * If a is equal to b now, then a will always equal to b.\n",
        "  \n",
        "- In Python, an assignment statement can make two variables refer to the same object and therefore have the same value. \n",
        "\n",
        "- They appear to be equal. \n",
        "\n",
        "- However, because of the possibility of reassignment, they don’t have to stay that way:"
      ]
    },
    {
      "cell_type": "code",
      "metadata": {
        "id": "XDhnh5mYFCFE",
        "colab_type": "code",
        "colab": {}
      },
      "source": [
        "a = 5\n",
        "b = a      # after executing this line, a and b are now equal\n",
        "print(a, b)\n",
        "a = 3      # after executing this line, a and b are no longer equal\n",
        "print(a, b)\n",
        "\n",
        "a = a + 1  # update with a new value \n",
        "print(a)"
      ],
      "execution_count": 0,
      "outputs": []
    },
    {
      "cell_type": "markdown",
      "metadata": {
        "id": "F8ry2fjOFMu0",
        "colab_type": "text"
      },
      "source": [
        "Copy the previous code and Visualise a **state snapshot**\n",
        "\n",
        "$\\Rightarrow$ \n",
        "[pytontutor](http://www.pythontutor.com/visualize.html#mode=edit)"
      ]
    },
    {
      "cell_type": "markdown",
      "metadata": {
        "id": "lEU7DVfQ3Dcr",
        "colab_type": "text"
      },
      "source": [
        "## 2.3 Variable names and keywords\n",
        "\n",
        "\n",
        "### Variable names\n",
        "\n",
        "- **Variable names** can be arbitrarily long\n",
        "\n",
        "- They can contain both letters and digits, but they have to begin\n",
        "    with a letter or an underscore\n",
        "\n",
        "- It is legal to use uppercase letters, but it is not done (by\n",
        "    convention)\n",
        "\n",
        "- Names should be \"meaningful to the human readers\" (not to be\n",
        "    confused with \"meaningful to the computer\")\n"
      ]
    },
    {
      "cell_type": "markdown",
      "metadata": {
        "id": "Ndal8aHn3Lej",
        "colab_type": "text"
      },
      "source": [
        "### Keywords\n",
        "\n",
        "- Keywords define the language's syntax rules and structure\n",
        "\n",
        "- They cannot be used as variable names\n",
        "\n",
        "| and     | as    | assert | break    | class  | continue |\n",
        "|:--------|:------|:-------|:---------|:-------|:---------|\n",
        "| def     | del   | elif   | else     | except | exec     |\n",
        "| finally | for   | from   | global   | if     | import   |\n",
        "| in      | is    | lambda | nonlocal | not    | or       |\n",
        "| pass    | raise | return | try      | while  | with     |\n",
        "| yield   | True  | False  | None     |        |          |\n",
        "          "
      ]
    },
    {
      "cell_type": "code",
      "metadata": {
        "id": "YBNnVF7EaZKu",
        "colab_type": "code",
        "colab": {}
      },
      "source": [
        "True = \"true\""
      ],
      "execution_count": 0,
      "outputs": []
    },
    {
      "cell_type": "code",
      "metadata": {
        "id": "nSKeZN4OakEZ",
        "colab_type": "code",
        "colab": {}
      },
      "source": [
        "true = False\n",
        "print(true)\n",
        "print(type(true))\n",
        "\n",
        "true = 'False'\n",
        "print(true)\n",
        "print(type(true))"
      ],
      "execution_count": 0,
      "outputs": []
    },
    {
      "cell_type": "markdown",
      "metadata": {
        "id": "GzAzTYG63qTF",
        "colab_type": "text"
      },
      "source": [
        "## 2.4 Statements\n",
        "\n",
        "\n",
        "- A **statement** is an instruction that the Python interpreter can\n",
        "    execute\n",
        "\n",
        "- Statements don't produce any result\n",
        "\n",
        "- Further to the assignment statement, there are others (`while`\n",
        "    statements, `for` statements, `if` statements, `import` statements)\n",
        "\n",
        "- (There are other kinds too!)\n"
      ]
    },
    {
      "cell_type": "markdown",
      "metadata": {
        "id": "VZ0_aBxk8hcG",
        "colab_type": "text"
      },
      "source": [
        "Runestone Interactive vídeo:"
      ]
    },
    {
      "cell_type": "code",
      "metadata": {
        "id": "441hI6mi7xEH",
        "colab_type": "code",
        "colab": {}
      },
      "source": [
        "from IPython.display import YouTubeVideo\n",
        "YouTubeVideo('3WgmLIsXFkI')"
      ],
      "execution_count": 0,
      "outputs": []
    },
    {
      "cell_type": "markdown",
      "metadata": {
        "id": "1vWbvpEA3yxE",
        "colab_type": "text"
      },
      "source": [
        "## 2.5 Evaluating expressions\n",
        "\n",
        "\n",
        "- An **expression** is a combination of values, variables, operators,\n",
        "    and calls to functions\n",
        "\n",
        "- The Python interpreter evaluates expressions and displays its result\n",
        "    (a value)\n",
        "\n",
        "- A value all by itself is a simple expression, and so is a variable\n"
      ]
    },
    {
      "cell_type": "code",
      "metadata": {
        "id": "aXxPbVzSbQ6z",
        "colab_type": "code",
        "colab": {}
      },
      "source": [
        "print(1 + 1)\n",
        "print(len(\"hello\"))"
      ],
      "execution_count": 0,
      "outputs": []
    },
    {
      "cell_type": "code",
      "metadata": {
        "id": "domY3_rBbYMB",
        "colab_type": "code",
        "colab": {}
      },
      "source": [
        "y = 3.14\n",
        "x = len(\"hello\")\n",
        "print(x)\n",
        "print(y)"
      ],
      "execution_count": 0,
      "outputs": []
    },
    {
      "cell_type": "markdown",
      "metadata": {
        "id": "bsWZDXm_bliu",
        "colab_type": "text"
      },
      "source": [
        "See the differences between statements and expression in the Python shell\n",
        "\n",
        "You may use Spyder3 for that."
      ]
    },
    {
      "cell_type": "markdown",
      "metadata": {
        "id": "CjmNjO7K38mG",
        "colab_type": "text"
      },
      "source": [
        "## 2.6 Operators and operands\n",
        "\n",
        "\n",
        "- **Operators** are special tokens that represent computations like\n",
        "    addition, multiplication and division\n",
        "\n",
        "- The values the operator uses are called **operands**\n",
        "\n",
        "- Operations in Python (`+`, `-`, `/`) mean what they mean in\n",
        "    mathematics\n",
        "\n",
        "- Asterisk ( `*` ) is the token for multiplication, and `**` is the\n",
        "    token for exponentiation"
      ]
    },
    {
      "cell_type": "code",
      "metadata": {
        "id": "eH_9OmPC6NiF",
        "colab_type": "code",
        "colab": {}
      },
      "source": [
        "print(2 + 3)\n",
        "print(2 - 3)\n",
        "print(2 * 3)\n",
        "print(2 ** 3)\n",
        "print(3 ** 2)"
      ],
      "execution_count": 0,
      "outputs": []
    },
    {
      "cell_type": "markdown",
      "metadata": {
        "id": "UYucGUm16iYs",
        "colab_type": "text"
      },
      "source": [
        " When a variable name appears in the place of an operand, it is\n",
        "    replaced with its value before the operation is performed"
      ]
    },
    {
      "cell_type": "code",
      "metadata": {
        "id": "QcZxxJN46pXo",
        "colab_type": "code",
        "colab": {}
      },
      "source": [
        "minutes = 645\n",
        "hours = minutes / 60\n",
        "print(hours)"
      ],
      "execution_count": 0,
      "outputs": []
    },
    {
      "cell_type": "markdown",
      "metadata": {
        "id": "3xse6J8l4E5J",
        "colab_type": "text"
      },
      "source": [
        "## 2.7 Type conversion functions\n",
        "\n",
        "\n",
        "- Type conversion functions `int()`, `float()` and `str()`\n",
        "\n",
        "- will (attempt to) convert their arguments into types `int`, `float`\n",
        "    and `str` respectively\n"
      ]
    },
    {
      "cell_type": "code",
      "metadata": {
        "id": "R-Rx9_4kYKcT",
        "colab_type": "code",
        "colab": {}
      },
      "source": [
        "print(3.14, int(3.14))\n",
        "print(3.9999, int(3.9999))        # This doesn't round to the closest int!\n",
        "print(3.0, int(3.0))\n",
        "print(-3.999, int(-3.999))        # Note that the result is closer to zero\n",
        "\n",
        "print(\"2345\", int(\"2345\"))        # parse a string to produce an int\n",
        "print(17, int(17))                # int even works on integers\n",
        "print(int(\"23bottles\"))"
      ],
      "execution_count": 0,
      "outputs": []
    },
    {
      "cell_type": "markdown",
      "metadata": {
        "id": "M6IJ_posYYm3",
        "colab_type": "text"
      },
      "source": [
        "The type converter `float` can turn an integer, a float, or a syntactically legal string into a float."
      ]
    },
    {
      "cell_type": "code",
      "metadata": {
        "id": "o5JyTBPxYXwZ",
        "colab_type": "code",
        "colab": {}
      },
      "source": [
        "print(float(\"123.45\"))\n",
        "print(type(float(\"123.45\")))"
      ],
      "execution_count": 0,
      "outputs": []
    },
    {
      "cell_type": "markdown",
      "metadata": {
        "id": "HrRrrM3iYooN",
        "colab_type": "text"
      },
      "source": [
        "The type converter `str` turns its argument into a string. Remember that when we print a string, the quotes are removed. "
      ]
    },
    {
      "cell_type": "code",
      "metadata": {
        "id": "jQYahc_aYsuF",
        "colab_type": "code",
        "colab": {}
      },
      "source": [
        "print(str(17))\n",
        "print(str(123.45))\n",
        "print(type(str(123.45)))"
      ],
      "execution_count": 0,
      "outputs": []
    },
    {
      "cell_type": "code",
      "metadata": {
        "id": "cZRuyrE79AlC",
        "colab_type": "code",
        "colab": {}
      },
      "source": [
        "print(7 / 4)     # division\n",
        "print(7 // 4)    # integer division"
      ],
      "execution_count": 0,
      "outputs": []
    },
    {
      "cell_type": "markdown",
      "metadata": {
        "id": "NLkBO8bl4MtV",
        "colab_type": "text"
      },
      "source": [
        "## 2.8 Order of operations\n",
        "\n",
        "\n",
        "- When more than one operator appears in an expression, the order of\n",
        "    evaluation depends on the **rules of precedence**\n",
        "\n",
        "- Python follows the same precedence rules for its mathematical\n",
        "    operators that mathematics does\n",
        "    * PEMDAS =  Parentheses, Exponents, Multiplication/Division, Addition/Subtraction\n",
        "\n",
        "- Operators with the same precedence are evaluated from left-to-right\n",
        "    (*left-associative*)\n",
        "\n",
        "- An exception to the left-to-right left-associative rule is the\n",
        "    exponentiation operator `**`"
      ]
    },
    {
      "cell_type": "code",
      "metadata": {
        "id": "Ivlxb-m__hnk",
        "colab_type": "code",
        "colab": {}
      },
      "source": [
        "print(2 * 3 - 1)\n",
        "print(2 * (3-1))   #  force the evaluation order"
      ],
      "execution_count": 0,
      "outputs": []
    },
    {
      "cell_type": "code",
      "metadata": {
        "id": "mUCLiQlV_QUP",
        "colab_type": "code",
        "colab": {}
      },
      "source": [
        "print(2 ** 3 ** 2)     # the right-most ** operator gets done first!\n",
        "print((2 ** 3) ** 2)   # use parentheses to force the order you want!"
      ],
      "execution_count": 0,
      "outputs": []
    },
    {
      "cell_type": "markdown",
      "metadata": {
        "id": "GsBWNeF59idt",
        "colab_type": "text"
      },
      "source": [
        "Runestone Interactive vídeo:"
      ]
    },
    {
      "cell_type": "code",
      "metadata": {
        "id": "1vf3s1Wj9kMU",
        "colab_type": "code",
        "colab": {}
      },
      "source": [
        "from IPython.display import YouTubeVideo\n",
        "YouTubeVideo('Ezve3QJv6Aw')"
      ],
      "execution_count": 0,
      "outputs": []
    },
    {
      "cell_type": "markdown",
      "metadata": {
        "id": "4S79Tply4SCl",
        "colab_type": "text"
      },
      "source": [
        "## 2.9 Operations on strings\n",
        "\n",
        "\n",
        "- One cannot perform mathematical operations on strings, even if the\n",
        "    strings look like numbers\n",
        "\n",
        "- The `+` operator represents concatenation, not addition\n",
        "\n",
        "- The `*` operator also works on strings; it performs repetition\n"
      ]
    },
    {
      "cell_type": "code",
      "metadata": {
        "id": "2fuIPQXsHufZ",
        "colab_type": "code",
        "colab": {}
      },
      "source": [
        "message = \"Hi\"\n",
        "message - 1"
      ],
      "execution_count": 0,
      "outputs": []
    },
    {
      "cell_type": "code",
      "metadata": {
        "id": "hk23U3RMH5Yp",
        "colab_type": "code",
        "colab": {}
      },
      "source": [
        "print(message + \" \" + \"John Snow\")\n",
        "print(message * 3)"
      ],
      "execution_count": 0,
      "outputs": []
    },
    {
      "cell_type": "markdown",
      "metadata": {
        "id": "JhAHpRed4fHw",
        "colab_type": "text"
      },
      "source": [
        "## 2.10 Input\n",
        "\n",
        "\n",
        "- There is a built-in function in Python, `input()`, for getting input\n",
        "    from the user\n",
        "\n",
        "- The user of the program can enter the input and click OK\n",
        "\n",
        "- The `input()` function always return a string (without the new-line)"
      ]
    },
    {
      "cell_type": "code",
      "metadata": {
        "id": "UAZFQM8h9ygk",
        "colab_type": "code",
        "colab": {}
      },
      "source": [
        "n = input(\"Please enter your name: \")\n",
        "print(\"Hello\", n)\n",
        "print(\"n of \", type(n))"
      ],
      "execution_count": 0,
      "outputs": []
    },
    {
      "cell_type": "markdown",
      "metadata": {
        "id": "9zOucsmI8Uzc",
        "colab_type": "text"
      },
      "source": [
        "Runestone Interactive vídeo:"
      ]
    },
    {
      "cell_type": "code",
      "metadata": {
        "id": "zpugFN4Y8Hp3",
        "colab_type": "code",
        "colab": {}
      },
      "source": [
        "from IPython.display import YouTubeVideo\n",
        "YouTubeVideo('2KYixkCBXSQ')"
      ],
      "execution_count": 0,
      "outputs": []
    },
    {
      "cell_type": "markdown",
      "metadata": {
        "id": "nl2HIiIy5e12",
        "colab_type": "text"
      },
      "source": [
        "## 2.11 Composition\n",
        "\n",
        "\n",
        "- One of the most useful features of programming languages is their\n",
        "    ability to take small building blocks and **compose** them into\n",
        "    larger chunks.\n",
        "\n",
        "- Let's do four-step program that asks the user to input a value for\n",
        "    the radius of a circle, and then computes the area of the circle\n",
        "    from the formula $\\pi r^{2}$\n",
        "\n",
        "\n",
        "Try with Spyder:\n",
        "\n",
        "-   TIP: try to make code as simple as you can for the human to follow\n",
        "\n",
        "$\\Rightarrow$\n",
        "<https://github.com/fpro-feup/public/tree/master/lectures/02/area.py>"
      ]
    },
    {
      "cell_type": "markdown",
      "metadata": {
        "id": "LuWB8wa16xHw",
        "colab_type": "text"
      },
      "source": [
        "## 2.12 The modulus operator\n",
        "\n",
        "\n",
        "- The **modulus operator** works on integers (and integer expressions)\n",
        "\n",
        "  - and gives the remainder when the first number is divided by the\n",
        "    second\n",
        "\n",
        "- In Python, the modulus operator is a percent sign (`%`)\n",
        "\n",
        "- It has the same precedence as the multiplication operator\n",
        "\n",
        "\n",
        "Try with Spyder:\n",
        "\n",
        "$\\Rightarrow$\n",
        "<https://github.com/fpro-feup/public/tree/master/lectures/02/remainder.py>\n",
        "\n"
      ]
    },
    {
      "cell_type": "markdown",
      "metadata": {
        "id": "kiX4OWRo7HAa",
        "colab_type": "text"
      },
      "source": [
        "# Ticket to Leave"
      ]
    },
    {
      "cell_type": "markdown",
      "metadata": {
        "id": "WFz9dmO07Tes",
        "colab_type": "text"
      },
      "source": [
        "## Moodle activity\n",
        "\n",
        "\n",
        "[LE02: Simple Python Data](https://moodle.up.pt/mod/quiz/view.php?id=27079)\n"
      ]
    },
    {
      "cell_type": "markdown",
      "metadata": {
        "id": "4NDZSZIG7Rid",
        "colab_type": "text"
      },
      "source": [
        "\n",
        "$\\Rightarrow$ \n",
        "[Go back to the Table of Contents](00-contents.ipynb)\n",
        "\n",
        "$\\Rightarrow$ \n",
        "[Read the Preface](00-preface.ipynb)"
      ]
    }
  ]
}