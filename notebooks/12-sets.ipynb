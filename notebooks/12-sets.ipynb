{
  "nbformat": 4,
  "nbformat_minor": 0,
  "metadata": {
    "colab": {
      "name": "12-sets.ipynb",
      "provenance": [],
      "private_outputs": true,
      "collapsed_sections": [],
      "toc_visible": true
    },
    "kernelspec": {
      "name": "python3",
      "display_name": "Python 3"
    }
  },
  "cells": [
    {
      "cell_type": "markdown",
      "metadata": {
        "id": "8z5cONg8rUrX",
        "colab_type": "text"
      },
      "source": [
        "# Sets & Frozensets\n",
        "\n",
        "## Programming Fundamentals (NB12)\n",
        "\n",
        "### MIEIC/2019-20\n",
        "\n",
        "#### João Correia Lopes\n",
        "\n",
        "INESC TEC, FEUP"
      ]
    },
    {
      "cell_type": "markdown",
      "metadata": {
        "id": "MZzE7pYorju5",
        "colab_type": "text"
      },
      "source": [
        "## Goals\n",
        "\n",
        "By the end of this class, the student should be able to:\n",
        "\n",
        "- Distinguish between mutable and immutable datatypes & describing alising\n",
        "- Distinguish between ordered and unordered datatypes\n",
        "- Use the main operations and methods available to work with sets\n",
        "- Use immutable sets (frozensets)\n"
      ]
    },
    {
      "cell_type": "markdown",
      "metadata": {
        "id": "eR5Lh1jNroE2",
        "colab_type": "text"
      },
      "source": [
        "## Bibliography\n",
        "\n",
        "- Peter Wentworth, Jeffrey Elkner, Allen B. Downey, and Chris Meyers, *How to Think Like a Computer Scientist — Learning with Python 3* (Section 9.1, 9.2)\n",
        "\n",
        "- Set and Frozensets: <https://www.python-course.eu/python3_sets_frozensets.php>\n"
      ]
    },
    {
      "cell_type": "markdown",
      "metadata": {
        "id": "JBjTWMYwrVxG",
        "colab_type": "text"
      },
      "source": [
        "# Data types: Sets & frozensets"
      ]
    },
    {
      "cell_type": "markdown",
      "metadata": {
        "id": "s9h04W7YNYpz",
        "colab_type": "text"
      },
      "source": [
        "## 9.1 Mutable versus immutable and aliasing"
      ]
    },
    {
      "cell_type": "markdown",
      "metadata": {
        "id": "2Fjo8LgeNj8P",
        "colab_type": "text"
      },
      "source": [
        "### Mutable data types\n",
        "\n",
        "- Some datatypes in Python are mutable\n",
        "- This means their contents can be changed after they have been created\n",
        "- Lists and dictionaries are good examples of mutable datatypes\n",
        "```\n",
        ">>> my_list = [2, 4, 5, 3, 6, 1]\n",
        ">>> my_list[0] = 9\n",
        ">>> my_list\n",
        "[9, 4, 5, 3, 6, 1]\n",
        "```"
      ]
    },
    {
      "cell_type": "markdown",
      "metadata": {
        "id": "Vt3rKu2GOFgT",
        "colab_type": "text"
      },
      "source": [
        "### Immutable data types\n",
        "\n",
        "- Tuples and strings are examples of immutable datatypes\n",
        "- their contents can not be changed after they have been created:\n",
        "\n",
        "```\n",
        ">>> my_tuple = (2, 5, 3, 1)\n",
        ">>> my_tuple[0] = 9\n",
        "Traceback (most recent call last):\n",
        "  File \"<stdin>\", line 1, in <module>\n",
        "TypeError: 'tuple' object does not support item assignment\n",
        "```\n"
      ]
    },
    {
      "cell_type": "markdown",
      "metadata": {
        "id": "pF1gxwVmOxXu",
        "colab_type": "text"
      },
      "source": [
        "### Aliasing\n",
        "\n",
        "- Mutability is usually useful, but it may lead to something called **aliasing**\n",
        "- In this case, two variables refer to the same object and mutating one will also change the other:\n",
        "\n",
        "```\n",
        ">>> list_one = [1, 2, 3, 4, 6]\n",
        ">>> list_two = list_one\n",
        ">>> id(list_one) == id(list_two)\n",
        "True\n",
        "```"
      ]
    },
    {
      "cell_type": "markdown",
      "metadata": {
        "id": "4NYolAaqPSZz",
        "colab_type": "text"
      },
      "source": [
        "### Cloning\n",
        "\n",
        "You can escape this problem by making a copy of the list<sup>1</sup>\n",
        "```\n",
        ">>> list_one = [1, 2, 3, 4, 6]\n",
        ">>> list_two = list_one[:]         # list_two = list_one.copy()\n",
        ">>> id(list_one) == id(list_two)\n",
        "False\n",
        "\n",
        ">>> list_two[-1] = 5\n",
        ">>> list_two\n",
        "[1, 2, 3, 4, 5]\n",
        ">>> list_one\n",
        "[1, 2, 3, 4, 6]\n",
        "```\n",
        "\n",
        "<sup>1</sup> However, this will not work for nested lists; the module `copy` provides functions to solve this"
      ]
    },
    {
      "cell_type": "markdown",
      "metadata": {
        "id": "UfvrqlYhRXn2",
        "colab_type": "text"
      },
      "source": [
        "## 9.2 Sets and frozensets"
      ]
    },
    {
      "cell_type": "markdown",
      "metadata": {
        "id": "C9BCcfDwRyBv",
        "colab_type": "text"
      },
      "source": [
        "### Ordered & unordered datatypes (dict)\n",
        "\n",
        "- Given that tuples and lists are ordered, and dictionaries are unordered (before 3.7), we can construct the following table:\n",
        "\n",
        "|           | Ordered  | Unordered |\n",
        "| ---------:|:--------:|:---------:|\n",
        "| Mutable   | list     | dict?     |\n",
        "| Immutable | tuple    | ?         |\n",
        "\n",
        "- This reveals an empty spot: we don’t know any immutable, unordered datatypes yet\n",
        "- Additionally, you can argue that a dictionary doesn’t belong in this table, since it is a *mapping type*: a dictionary maps keys to values"
      ]
    },
    {
      "cell_type": "markdown",
      "metadata": {
        "colab_type": "text",
        "id": "LwO6QXIWs4lV"
      },
      "source": [
        "### Ordered & unordered datatypes (set)\n",
        "\n",
        "- A **set** is an unordered, mutable datatype<sup>2</sub>\n",
        "- a **frozenset** is an unordered, immutable datatype\n",
        "\n",
        "|           | Ordered  | Unordered |\n",
        "| ---------:|:--------:|:---------:|\n",
        "| Mutable   | list     | set       |\n",
        "| Immutable | tuple    | frozenset |\n",
        "\n",
        "- Since sets and frozensets are unordered, they share some properties with dictionaries: \n",
        "  - for example, it’s elements are **unique**.\n",
        "\n",
        " <sup>2</sup> **The set itself is mutable, but the set elements are immutable**."
      ]
    },
    {
      "cell_type": "markdown",
      "metadata": {
        "id": "BrC8fWrVjhDn",
        "colab_type": "text"
      },
      "source": [
        "### Sets\n",
        "\n",
        "- A set contains an unordered collection of **unique** and **immutable** objects\n",
        "- Sets unlike lists or tuples can't have multiple occurrences of the same element\n",
        "- Any immutable data type can be an element of a set: \n",
        "  - a number, a string, a tuple\n",
        "- Mutable (changeable) data types cannot be elements of the set\n",
        "  - list cannot be an element of a set (but tuple can)\n",
        "  - another set cannot be an element of a set\n",
        "- The requirement of immutability follows from the way how computers represent sets in memory"
      ]
    },
    {
      "cell_type": "markdown",
      "metadata": {
        "id": "oITKxGOUp_MN",
        "colab_type": "text"
      },
      "source": [
        "### Create a set using the `set` function\n",
        "\n",
        "- we can call the built-in `set()` function with a sequence or another iterable object\n",
        "```\n",
        ">>> A = set('qwerty')\n",
        ">>> print(A)\n",
        "{'e', 'r', 'q', 't', 'y', 'w'}\n",
        "```"
      ]
    },
    {
      "cell_type": "markdown",
      "metadata": {
        "id": "HggLNIEjvVID",
        "colab_type": "text"
      },
      "source": [
        "### Create a set using the compact notation\n",
        "\n",
        "- we can use the compact notation\n",
        "```\n",
        ">>> A = {1, 2, 3}\n",
        ">>> B = {3, 2, 3, 1}\n",
        ">>> print(A == B)\n",
        "True\n",
        ">>> print(B)\n",
        "{1, 2, 3}\n",
        "```\n",
        "\n",
        "$\\Rightarrow$\n",
        "<https://github.com/fpro-feup/public/tree/master/lectures/12/sets.py>"
      ]
    },
    {
      "cell_type": "markdown",
      "metadata": {
        "id": "tgovUnlRvehQ",
        "colab_type": "text"
      },
      "source": [
        "Try some examples:"
      ]
    },
    {
      "cell_type": "code",
      "metadata": {
        "id": "9vAErTzAro9X",
        "colab_type": "code",
        "colab": {}
      },
      "source": [
        "x = set(\"A Python Tutorial\")\n",
        "print(x)\n",
        "print(type(x))"
      ],
      "execution_count": 0,
      "outputs": []
    },
    {
      "cell_type": "code",
      "metadata": {
        "id": "7qbxzXehsB4X",
        "colab_type": "code",
        "colab": {}
      },
      "source": [
        "x = set([\"Perl\", \"Python\", \"Java\"])\n",
        "print(x)"
      ],
      "execution_count": 0,
      "outputs": []
    },
    {
      "cell_type": "code",
      "metadata": {
        "id": "4N1pGDqesTn4",
        "colab_type": "code",
        "colab": {}
      },
      "source": [
        "cities = {\"Paris\", \"Madrid\", \"London\", \"Berlin\", \"Paris\", \"London\"}\n",
        "print(cities)"
      ],
      "execution_count": 0,
      "outputs": []
    },
    {
      "cell_type": "markdown",
      "metadata": {
        "id": "Wx20hum8uQ9y",
        "colab_type": "text"
      },
      "source": [
        "Immutable objects"
      ]
    },
    {
      "cell_type": "code",
      "metadata": {
        "id": "txoeIpuruTnc",
        "colab_type": "code",
        "colab": {}
      },
      "source": [
        "cities = set(((\"Python\",\"Perl\"), (\"Paris\", \"Berlin\", \"London\")))\n",
        "print(cities)"
      ],
      "execution_count": 0,
      "outputs": []
    },
    {
      "cell_type": "markdown",
      "metadata": {
        "id": "WDvoAth7xV-o",
        "colab_type": "text"
      },
      "source": [
        "### Frozensets\n",
        "\n",
        "- Frozensets are like sets except that they cannot be changed, i.e. they are **immutable**:\n",
        "\n",
        "```\n",
        ">>> cities = frozenset([\"Frankfurt\", \"Basel\", \"Freiburg\"])\n",
        ">>> cities.add(\"Strasbourg\")\n",
        "Traceback (most recent call last):\n",
        "  File \"<stdin>\", line 1, in <module>\n",
        "AttributeError: 'frozenset' object has no attribute 'add'\n",
        "```\n",
        "\n",
        "- Frozensets are *hashable* and we can use them as dictionary keys\n",
        "\n",
        "$\\Rightarrow$\n",
        "<https://github.com/fpro-feup/public/tree/master/lectures/12/frozensets.py>"
      ]
    },
    {
      "cell_type": "markdown",
      "metadata": {
        "id": "F1oxwCcMy3bJ",
        "colab_type": "text"
      },
      "source": [
        "Try the same with sets:"
      ]
    },
    {
      "cell_type": "code",
      "metadata": {
        "id": "3Zs7vjBxyol_",
        "colab_type": "code",
        "colab": {}
      },
      "source": [
        "cities = set([\"Frankfurt\", \"Basel\",\"Freiburg\"])\n",
        "cities.add(\"Strasbourg\")\n",
        "print(cities)"
      ],
      "execution_count": 0,
      "outputs": []
    },
    {
      "cell_type": "markdown",
      "metadata": {
        "id": "1fXf2bxmde1K",
        "colab_type": "text"
      },
      "source": [
        "Let's create two frozensets, X and Y:"
      ]
    },
    {
      "cell_type": "code",
      "metadata": {
        "id": "SsNhFVt-dqj3",
        "colab_type": "code",
        "colab": {}
      },
      "source": [
        "X = frozenset([1, 2, 3, 4, 5, 6])\n",
        "Y = frozenset([4, 5, 6, 7, 8, 9])\n",
        "\n",
        "print(X)\n",
        "print(Y)"
      ],
      "execution_count": 0,
      "outputs": []
    },
    {
      "cell_type": "markdown",
      "metadata": {
        "id": "6tYrMgbO8I-H",
        "colab_type": "text"
      },
      "source": [
        "## Accessing Set Elements "
      ]
    },
    {
      "cell_type": "markdown",
      "metadata": {
        "id": "ymx8-v1V2BfZ",
        "colab_type": "text"
      },
      "source": [
        "### Using `for` and `in`\n",
        "\n",
        "- Python does not provide us with a way of accessing an individual set item\n",
        "- We can use a `for` loop to iterate through all the items of a set\n",
        "\n",
        "```\n",
        ">>> months = set([\"Sep\", \"Oct\", \"Nov\", \"Dec\", \"Jan\"])\n",
        ">>> for m in months:\n",
        "...     print(m)\n",
        "... \n",
        "Jan\n",
        "Nov\n",
        "Dec\n",
        "Oct\n",
        "Sep\n",
        "```"
      ]
    },
    {
      "cell_type": "markdown",
      "metadata": {
        "id": "QmhikHHo3QrQ",
        "colab_type": "text"
      },
      "source": [
        "Use `in` to check for the presence of an element:"
      ]
    },
    {
      "cell_type": "code",
      "metadata": {
        "id": "5eRoHkBO3Zf3",
        "colab_type": "code",
        "colab": {}
      },
      "source": [
        "months = set([\"Sep\", \"Oct\", \"Nov\", \"Dec\", \"Jan\"])\n",
        "print(\"Jan\" in months)\n",
        "print(\"Fev\" in months)"
      ],
      "execution_count": 0,
      "outputs": []
    },
    {
      "cell_type": "markdown",
      "metadata": {
        "id": "nbATYTP48l6E",
        "colab_type": "text"
      },
      "source": [
        "## Adding Items to a Set"
      ]
    },
    {
      "cell_type": "markdown",
      "metadata": {
        "id": "4JMRTm1s3tfF",
        "colab_type": "text"
      },
      "source": [
        "### Using `add()`\n",
        "\n",
        "- Python allows us to add new items to a set via the `add()` method\n",
        "\n",
        "```\n",
        ">>> N = {1, 2, 3}\n",
        ">>> N.add(4)\n",
        ">>> print(N)\n",
        "{1, 2, 3, 4}\n",
        ">>> \n",
        ">>> N.add(4)\n",
        ">>> print(N)\n",
        "{1, 2, 3, 4}\n",
        "```"
      ]
    },
    {
      "cell_type": "code",
      "metadata": {
        "id": "CZYTywas4nbK",
        "colab_type": "code",
        "colab": {}
      },
      "source": [
        "months = set([\"Sep\", \"Oct\", \"Nov\", \"Dec\", \"Jan\"])\n",
        "months.add(\"Fev\")\n",
        "print(\"Fev\" in months)"
      ],
      "execution_count": 0,
      "outputs": []
    },
    {
      "cell_type": "markdown",
      "metadata": {
        "id": "pe7sFhtd861I",
        "colab_type": "text"
      },
      "source": [
        "## Removing Items from a Set"
      ]
    },
    {
      "cell_type": "markdown",
      "metadata": {
        "id": "4Fr7yIOy3tbo",
        "colab_type": "text"
      },
      "source": [
        "### Using `discard()` and `remove()`\n",
        "\n",
        "- Python allows us to remove an item from a set, but not using an index as **set elements are not indexed**\n",
        "- The items can be removed using either the `discard()` or `remove()` methods\n",
        "\n",
        "```\n",
        ">>> N = {1, 2, 3, 4, 5, 6}\n",
        ">>> N.discard(3)\n",
        ">>> print(N)\n",
        "{1, 2, 4, 5, 6}\n",
        "```\n",
        "```\n",
        ">>> N.remove(2)\n",
        ">>> print(N)\n",
        "{1, 4, 5, 6}\n",
        "```\n"
      ]
    },
    {
      "cell_type": "markdown",
      "metadata": {
        "id": "k6MnGyMU6lwh",
        "colab_type": "text"
      },
      "source": [
        "So, what is the difference between `discard()` and `remoce()`?"
      ]
    },
    {
      "cell_type": "code",
      "metadata": {
        "id": "nZNeqUqQ6jev",
        "colab_type": "code",
        "colab": {}
      },
      "source": [
        "months = set([\"Sep\", \"Oct\", \"Nov\", \"Dec\", \"Jan\"])\n",
        "months.discard(\"Fev\")\n",
        "print(months)"
      ],
      "execution_count": 0,
      "outputs": []
    },
    {
      "cell_type": "code",
      "metadata": {
        "id": "li0o_zMs66HT",
        "colab_type": "code",
        "colab": {}
      },
      "source": [
        "months.remove(\"Fev\")\n",
        "print(months)"
      ],
      "execution_count": 0,
      "outputs": []
    },
    {
      "cell_type": "markdown",
      "metadata": {
        "id": "5DGeaBNU9NmS",
        "colab_type": "text"
      },
      "source": [
        "### Using `pop()`\n",
        "\n",
        "- With the `pop()` method, we can remove and return an element\n",
        "- Since the elements are unordered, we cannot tell or predict the item that will be removed\n",
        "\n",
        "```\n",
        ">>> N = {1, 2, 3, 4, 5, 6}\n",
        ">>> print(N.pop())\n",
        "1\n",
        ">>> print(N)\n",
        "{2, 3, 4, 5, 6}\n",
        "```\n"
      ]
    },
    {
      "cell_type": "markdown",
      "metadata": {
        "id": "QONmmE3k_hgk",
        "colab_type": "text"
      },
      "source": [
        "For example:"
      ]
    },
    {
      "cell_type": "code",
      "metadata": {
        "id": "BG9PHGmz_P87",
        "colab_type": "code",
        "colab": {}
      },
      "source": [
        "months = set([\"Sep\", \"Oct\", \"Nov\", \"Dec\", \"Jan\"])\n",
        "print(months.pop())\n",
        "print(months.pop())\n",
        "print(months.pop())"
      ],
      "execution_count": 0,
      "outputs": []
    },
    {
      "cell_type": "markdown",
      "metadata": {
        "id": "2qqIBbIh_qY6",
        "colab_type": "text"
      },
      "source": [
        "### Using clear()\n",
        "\n",
        "- The Python's `clear()` method helps us remove all elements from a set\n",
        "\n",
        "```\n",
        ">>> N = {1, 2, 3, 4, 5, 6}\n",
        ">>> N.clear()\n",
        ">>> print(N)\n",
        "set()\n",
        "```"
      ]
    },
    {
      "cell_type": "markdown",
      "metadata": {
        "id": "H7baEDAzBGrv",
        "colab_type": "text"
      },
      "source": [
        "## Set alias and cloning"
      ]
    },
    {
      "cell_type": "markdown",
      "metadata": {
        "id": "FIbdQtw0BRCd",
        "colab_type": "text"
      },
      "source": [
        "### Aliasing\n",
        "\n",
        "- The assignment just creates a alias, i.e. another name, to the same data structure\n",
        "\n",
        "```\n",
        ">>> N1 = {1, 2, 3, 4, 5, 6}\n",
        ">>> N2 = N1\n",
        ">>> id(N1) == id(N2)\n",
        "True\n",
        "\n",
        ">>> N1.clear()\n",
        ">>> print(N2)\n",
        "set()\n",
        "```\n",
        "\n"
      ]
    },
    {
      "cell_type": "markdown",
      "metadata": {
        "id": "0nHDiLOEB8z7",
        "colab_type": "text"
      },
      "source": [
        "### Copy\n",
        "\n",
        "- The method copy() creates a *shallow copy*, which is returned\n",
        "\n",
        "```\n",
        ">>> N1 = {1, 2, 3, 4, 5, 6}\n",
        ">>> N2 = N1.copy()\n",
        ">>> id(N1) == id(N2)\n",
        "False\n",
        "\n",
        ">>> N1.clear()\n",
        ">>> print(N2)\n",
        "{1, 2, 3, 4, 5, 6}\n",
        "```"
      ]
    },
    {
      "cell_type": "markdown",
      "metadata": {
        "id": "0wmpaDrwjuX_",
        "colab_type": "text"
      },
      "source": [
        "## Set operations"
      ]
    },
    {
      "cell_type": "markdown",
      "metadata": {
        "id": "eBNtiOOVnh3G",
        "colab_type": "text"
      },
      "source": [
        "### Set operations\n",
        "\n",
        "- The set operations are well known from mathematics\n",
        "  - Union, intersection, difference"
      ]
    },
    {
      "cell_type": "markdown",
      "metadata": {
        "id": "oelYJDw5YDKA",
        "colab_type": "text"
      },
      "source": [
        "### The joy of sets\n",
        "\n",
        "- Suppose you have three lists with integers and want the list of the elements present on all three\n",
        "\n",
        "```\n",
        "# Elements in List1\n",
        "list1 = [1, 5, 10, 20, 40, 80, 100]\n",
        "\n",
        "# Elements in List2\n",
        "list2 = [6, 7, 20, 80, 100]\n",
        "\n",
        "# Elements in List3\n",
        "list3 = [3, 4, 15, 20, 30, 70, 80, 120]\n",
        "```\n",
        "\n",
        "$\\Rightarrow$\n",
        "<https://github.com/fpro-feup/public/tree/master/lectures/12/intersect.py>\n"
      ]
    },
    {
      "cell_type": "markdown",
      "metadata": {
        "id": "qqxgEd-PDlFk",
        "colab_type": "text"
      },
      "source": [
        "Set union:"
      ]
    },
    {
      "cell_type": "code",
      "metadata": {
        "id": "r6XNbt5PDikA",
        "colab_type": "code",
        "colab": {}
      },
      "source": [
        "X = {\"a\",\"b\",\"c\",\"d\",\"e\"}\n",
        "Y = {\"c\",\"d\",\"e\",\"f\",\"g\"}\n",
        "print(X.union(Y))\n",
        "print(X | Y)"
      ],
      "execution_count": 0,
      "outputs": []
    },
    {
      "cell_type": "markdown",
      "metadata": {
        "id": "D0HDAgeVEb2H",
        "colab_type": "text"
      },
      "source": [
        "Set intersection:"
      ]
    },
    {
      "cell_type": "code",
      "metadata": {
        "id": "stv-IE8kEe4r",
        "colab_type": "code",
        "colab": {}
      },
      "source": [
        "X = {\"a\",\"b\",\"c\",\"d\",\"e\"}\n",
        "Y = {\"c\",\"d\",\"e\",\"f\",\"g\"}\n",
        "print(X.intersection(Y))\n",
        "print(X & Y)"
      ],
      "execution_count": 0,
      "outputs": []
    },
    {
      "cell_type": "markdown",
      "metadata": {
        "id": "bf3eUu4DFAve",
        "colab_type": "text"
      },
      "source": [
        "Set difference:"
      ]
    },
    {
      "cell_type": "code",
      "metadata": {
        "id": "DJtmjxtiFOIi",
        "colab_type": "code",
        "colab": {}
      },
      "source": [
        "X = {\"a\",\"b\",\"c\",\"d\",\"e\"}\n",
        "Y = {\"c\",\"d\",\"e\",\"f\",\"g\"}\n",
        "print(X.difference(Y))\n",
        "print(X - Y)"
      ],
      "execution_count": 0,
      "outputs": []
    },
    {
      "cell_type": "markdown",
      "metadata": {
        "id": "PxdqAjw9bZXa",
        "colab_type": "text"
      },
      "source": [
        "### The joy of sets (2)\n",
        "\n",
        "- Suppose you have two lists with integers and want to find the missing and additional elements when comparing the lists\n",
        "\n",
        "```\n",
        "list1 = [1, 2, 3, 4, 5, 6]\n",
        "list2 = [4, 5, 6, 7, 8]\n",
        "```\n",
        "\n",
        "![difference](images/12/difference.png)\n",
        "\n",
        "Source: geeksforgeeks\n",
        "\n",
        "$\\Rightarrow$\n",
        "<https://github.com/fpro-feup/public/tree/master/lectures/12/difference.py>"
      ]
    },
    {
      "cell_type": "markdown",
      "metadata": {
        "id": "DIZqkBIvFdPB",
        "colab_type": "text"
      },
      "source": [
        "### Set boolean methods"
      ]
    },
    {
      "cell_type": "markdown",
      "metadata": {
        "id": "qSHXKAlCFrDm",
        "colab_type": "text"
      },
      "source": [
        "The `isdisjoint()` method returns `True` if two sets have a null intersection"
      ]
    },
    {
      "cell_type": "code",
      "metadata": {
        "id": "6itF-AYYFt92",
        "colab_type": "code",
        "colab": {}
      },
      "source": [
        "X = {\"a\",\"b\",\"c\",\"d\",\"e\"}\n",
        "Y = {1,2,3}\n",
        "print(X.isdisjoint(Y))"
      ],
      "execution_count": 0,
      "outputs": []
    },
    {
      "cell_type": "markdown",
      "metadata": {
        "id": "QkbhlQ59GTDB",
        "colab_type": "text"
      },
      "source": [
        "The `x.issubset(y)` method returns `True`, if x is a subset of y. \"<=\" is an abbreviation for \"Subset of\" and \">=\" for \"superset of\". \"<\" is used to check if a set is a proper subset of a set."
      ]
    },
    {
      "cell_type": "code",
      "metadata": {
        "id": "yswtR3P4HVN5",
        "colab_type": "code",
        "colab": {}
      },
      "source": [
        "X = {\"a\",\"b\",\"c\",\"d\",\"e\"}\n",
        "Y = {\"a\",\"b\",\"c\"}\n",
        "print(X.issubset(Y))\n",
        "print(Y.issubset(X))\n",
        "print(Y <= X)"
      ],
      "execution_count": 0,
      "outputs": []
    },
    {
      "cell_type": "markdown",
      "metadata": {
        "id": "oO40qse_bgRM",
        "colab_type": "text"
      },
      "source": [
        "`x.issuperset(y)` returns `True`, if x is a superset of y. \">=\" is an abbreviation for \"issuperset of\". \">\" is used to check if a set is a proper superset of a set."
      ]
    },
    {
      "cell_type": "code",
      "metadata": {
        "id": "6q7CSUqIb4PC",
        "colab_type": "code",
        "colab": {}
      },
      "source": [
        "X = {\"a\",\"b\",\"c\",\"d\",\"e\"}\n",
        "Y = {\"c\",\"d\"}\n",
        "print(X.issuperset(Y))\n",
        "print(X > Y)\n",
        "print(X >= Y)\n",
        "print(X > X)\n",
        "print(X >= X)"
      ],
      "execution_count": 0,
      "outputs": []
    },
    {
      "cell_type": "markdown",
      "metadata": {
        "id": "G7UHD4sgeZZa",
        "colab_type": "text"
      },
      "source": [
        "### The joy of sets (3)\n",
        "\n",
        "- A **pangram** is a sentence containing every letter in the English Alphabet\n",
        "\n",
        "- Lowercase and Uppercase are considered the same\n",
        "\n",
        "- Given a string, check if the given string is pangram or not\n",
        "  - source: https://www.geeksforgeeks.org/python-set-check-string-panagram/\n",
        "\n",
        "- A normal way would have been to use frequency table and check if all elements were present or not"
      ]
    },
    {
      "cell_type": "markdown",
      "metadata": {
        "id": "v_NXE55Adyi2",
        "colab_type": "text"
      },
      "source": [
        "- But using `import ascii_lowercase` we import all the lower  characters in set and all characters of string in another set.\n",
        "\n",
        "> In the function, two sets are formed:\n",
        "- one for all lower case letters and one for the letters in the string\n",
        "- The two sets are subtracted and if it is an empty set, the string is a pangram\n",
        "\n",
        "$\\Rightarrow$\n",
        "<https://github.com/fpro-feup/public/tree/master/lectures/12/is_pangram.py>"
      ]
    },
    {
      "cell_type": "markdown",
      "metadata": {
        "id": "I2S0VMiFjv0S",
        "colab_type": "text"
      },
      "source": [
        "# More datatypes"
      ]
    },
    {
      "cell_type": "markdown",
      "metadata": {
        "id": "JE9nfU7ojzfZ",
        "colab_type": "text"
      },
      "source": [
        "### Collections module\n",
        "\n",
        "- More exotic data types (queues, stacks and ordered dictionaries) are provided in Python’s `collections` module. \n",
        "- You can find the documentation in the [Python Standadrd Library](https://docs.python.org/3.7/library/collections.html)"
      ]
    },
    {
      "cell_type": "markdown",
      "metadata": {
        "id": "DwzqL9IkmbdW",
        "colab_type": "text"
      },
      "source": [
        "# Mutable vs Immutable Objects in Python\n",
        "\n",
        "> Everything in Python is an object and objects in Python can be either mutable or immutable\n",
        "\n",
        "- Since everything in Python is an Object, every variable holds an object instance\n",
        "- When an object is initiated, it is assigned a unique object id\n",
        "- Its type is defined at runtime and once set can never change, however its state can be changed if it is mutable\n",
        "- Simple put, a mutable object can be changed after it is created, and an immutable object can’t\n",
        "\n",
        "> Objects of built-in types like (int, float, bool, str, tuple, unicode) are immutable. Objects of built-in types like (list, set, dict) are mutable\n",
        "\n",
        "$\\Rightarrow$\n",
        "[towardsdatascience](\n",
        "https://towardsdatascience.com/https-towardsdatascience-com-python-basics-mutable-vs-immutable-objects-829a0cb1530a)"
      ]
    },
    {
      "cell_type": "markdown",
      "metadata": {
        "id": "Zz-UtV8ORH_t",
        "colab_type": "text"
      },
      "source": [
        "# Ticket to leave"
      ]
    },
    {
      "cell_type": "markdown",
      "metadata": {
        "id": "C-hchAExRRVh",
        "colab_type": "text"
      },
      "source": [
        "## Moodle activity\n",
        "\n",
        "[LE12: Dictionaries](https://moodle.up.pt/mod/quiz/view.php?id=39244)"
      ]
    },
    {
      "cell_type": "markdown",
      "metadata": {
        "id": "uV1OP6ahRYne",
        "colab_type": "text"
      },
      "source": [
        "\n",
        "$\\Rightarrow$ \n",
        "[Go back to the Table of Contents](00-contents.ipynb)\n",
        "\n",
        "$\\Rightarrow$ \n",
        "[Read the Preface](00-preface.ipynb)"
      ]
    }
  ]
}