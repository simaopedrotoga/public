{
  "nbformat": 4,
  "nbformat_minor": 0,
  "metadata": {
    "colab": {
      "name": "15-fp-collections.ipynb",
      "provenance": [],
      "private_outputs": true,
      "collapsed_sections": [],
      "toc_visible": true
    },
    "kernelspec": {
      "name": "python3",
      "display_name": "Python 3"
    }
  },
  "cells": [
    {
      "cell_type": "markdown",
      "metadata": {
        "id": "8z5cONg8rUrX",
        "colab_type": "text"
      },
      "source": [
        "# Functional programming with collections\n",
        "\n",
        "## Programming Fundamentals (NB15)\n",
        "\n",
        "### MIEIC/2019-20\n",
        "\n",
        "#### João Correia Lopes\n",
        "\n",
        "FEUP/DEI and INESC TEC"
      ]
    },
    {
      "cell_type": "markdown",
      "metadata": {
        "id": "MZzE7pYorju5",
        "colab_type": "text"
      },
      "source": [
        "## Goals\n",
        "\n",
        "By the end of this class, the student should be able to:\n",
        "\n",
        "- Describe the use of pure functions, immutable datatypes and Functional Programming\n",
        "- Describe advanced collection concepts using Lists of Tuples\n",
        "- Simplify list processing using *Sequence Processing Functions*: `map()`, `filter()` and `reduce()`\n",
        "- Describe advanced list sorting\n",
        "- Clarify code using *lambda forms*"
      ]
    },
    {
      "cell_type": "markdown",
      "metadata": {
        "id": "eR5Lh1jNroE2",
        "colab_type": "text"
      },
      "source": [
        "## Bibliography\n",
        "\n",
        "- A. M. Kuchling, *Functional Programming HOWTO*, Release 0.32 [[HTML]](https://docs.python.org/3/howto/functional.html)"
      ]
    },
    {
      "cell_type": "markdown",
      "metadata": {
        "id": "8Xqoj8uiw33Q",
        "colab_type": "text"
      },
      "source": [
        "# Functional programming with collections"
      ]
    },
    {
      "cell_type": "markdown",
      "metadata": {
        "id": "v0I-PHhMw72-",
        "colab_type": "text"
      },
      "source": [
        "## Introduction\n",
        "\n",
        "This section explains the basic concept of functional programming."
      ]
    },
    {
      "cell_type": "markdown",
      "metadata": {
        "id": "rPvC2_rNZIL0",
        "colab_type": "text"
      },
      "source": [
        "### Programming paradigms\n",
        "\n",
        "- Programming languages support decomposing problems in several different ways:\n",
        "\n",
        "  - Most programming languages are **procedural**\n",
        "\n",
        "  - In **declarative** languages, you write a specification\n",
        "\n",
        "  - **Object-oriented** programs manipulate collections of objects\n",
        "\n",
        "  - **Functional** programming decomposes a problem into a set of functions"
      ]
    },
    {
      "cell_type": "markdown",
      "metadata": {
        "id": "szXIv0Pbagwt",
        "colab_type": "text"
      },
      "source": [
        "### Procedural languages\n",
        "\n",
        "- Programs are lists of instructions that tell the computer what to do with the program’s input. \n",
        "\n",
        "- C, Pascal, and even Unix shells are procedural languages."
      ]
    },
    {
      "cell_type": "markdown",
      "metadata": {
        "id": "U83_jVnaa8j7",
        "colab_type": "text"
      },
      "source": [
        "### Declarative languages\n",
        "\n",
        "- you write a specification that describes the problem to be solved, and the language implementation figures out how to perform the computation efficiently.\n",
        "\n",
        "- SQL is the declarative language you’re most likely to be familiar with; a SQL query describes the data set you want to retrieve, and the SQL engine decides whether to scan tables or use indexes, which subclauses should be performed first, etc."
      ]
    },
    {
      "cell_type": "markdown",
      "metadata": {
        "id": "sXiCrC2bbQ4O",
        "colab_type": "text"
      },
      "source": [
        "### Object-oriented languages\n",
        "\n",
        "- Object-oriented programs manipulate collections of objects. \n",
        "\n",
        "- Objects have internal state and support methods that query or modify this internal state in some way. \n",
        "\n",
        "- Smalltalk and Java are object-oriented languages. \n",
        "\n",
        "- C++ and Python are languages that support object-oriented programming, but don’t force the use of object-oriented features."
      ]
    },
    {
      "cell_type": "markdown",
      "metadata": {
        "id": "L8QgH5wMbdk3",
        "colab_type": "text"
      },
      "source": [
        "### Functional languages\n",
        "\n",
        "- Functional decomposes a problem into a set of functions\n",
        "\n",
        "- Ideally, functions only take inputs and produce outputs, and don’t have any internal state that affects the output produced for a given input\n",
        "\n",
        "- Well-known functional languages include the ML family (Standard ML, OCaml, and other variants) and Haskell"
      ]
    },
    {
      "cell_type": "markdown",
      "metadata": {
        "id": "Bx4_31h1w_iB",
        "colab_type": "text"
      },
      "source": [
        "## Functional Programming"
      ]
    },
    {
      "cell_type": "markdown",
      "metadata": {
        "id": "ryyT2AUsb0-O",
        "colab_type": "text"
      },
      "source": [
        "### Functional Programming\n",
        "\n",
        "- \"Programming in a functional language consists in building\n",
        "    definitions and using the computer to evaluate expressions.\"<sup>1</sup>\n",
        "\n",
        "- The primary role of the programmer is to construct a function to\n",
        "    solve a give problem\n",
        "\n",
        "- This function, which may involve a number of subsidiary functions,\n",
        "    is expressed in notation that obeys normal mathematical principles\n",
        "\n",
        "- The primary role of the computer is to act as an evaluator or\n",
        "    calculator: its job is to evaluate expressions and print results\n",
        "\n",
        "<sup>1</sup> Bird & Wadler, Introduction to Functional Programming,\n",
        "    Prentice-Hall, 1988"
      ]
    },
    {
      "cell_type": "markdown",
      "metadata": {
        "id": "d2ZcCcvccFx9",
        "colab_type": "text"
      },
      "source": [
        "### Haskell\n",
        "\n",
        "- Some of Python's features were influenced by Haskell, a purely functional programming language\n",
        "\n",
        "- To get a better appreciation of what a functional language is, let's look at features in Haskell:\n",
        "\n",
        "  - **Pure Functions** --- do not have side effects (that is, they do not change the state of the program. Given the same input, a pure function will always produce the same output)\n",
        "\n",
        "  - **Immutability** --- data cannot be changed after it is created\n",
        "\n",
        "  - **Higher Order Functions** --- functions can accept other functions as parameters and functions can return new functions as output (this allows us to abstract over actions, giving us flexibility in our code's behavior)\n",
        "\n",
        "- Haskell has also influenced *iterators* and *generators* in Python through its **lazy evaluation**"
      ]
    },
    {
      "cell_type": "markdown",
      "metadata": {
        "id": "fJbWnDFlehfA",
        "colab_type": "text"
      },
      "source": [
        "### Advanced collection concepts\n",
        "\n",
        "- *Lists of Tuples* --- describe the relatively common Python data\n",
        "    structure built from a list of tuples\n",
        "\n",
        "- *List Comprehensions* --- powerful list construction method used to\n",
        "    simplify some common list-processing patterns\n",
        "\n",
        "- `map()`, `filter()` --- functions that can simplify some list\n",
        "    processing and provide features that overlap with list\n",
        "    comprehensions\n",
        "\n",
        "- *lambda forms* --- handy for clarifying a piece of code in some cases (but aren't essential for Python programming)"
      ]
    },
    {
      "cell_type": "markdown",
      "metadata": {
        "id": "O0blMv6ixCdQ",
        "colab_type": "text"
      },
      "source": [
        "## Lists of Tuples"
      ]
    },
    {
      "cell_type": "markdown",
      "metadata": {
        "id": "VPgZ7o5bezGg",
        "colab_type": "text"
      },
      "source": [
        "### Lists of Tuples\n",
        "\n",
        "- The list of tuple structure is remarkably useful\n",
        "\n",
        "- One common situation is processing a list of simple coordinate pairs\n",
        "    for 2-dimensional or 3-dimensional geometries\n",
        "\n",
        "- As an example of using a red, green, blue **tuple**, we may have a\n",
        "    list of individual colors that looks like:\n",
        "\n",
        "```\n",
        "   colorScheme = [ (0,0,0), (0x00,0xff,0x7f), (0xf5,0xde,0xb3) ]\n",
        "```"
      ]
    },
    {
      "cell_type": "markdown",
      "metadata": {
        "id": "J0GgXZWTfsN9",
        "colab_type": "text"
      },
      "source": [
        "### Working with Lists of Tuples\n",
        "\n",
        "- In dictionaries, the `dict.items()` method provides the dictionary\n",
        "    keys and values as a `list` of 2-tuples\n",
        "\n",
        "- The `zip()` built-in function *interleaves* two or more sequences to\n",
        "    create a `list` of tuples\n",
        "\n",
        "- A interesting form of the `for` statement is one that exploits\n",
        "    multiple assignment to work with a list of tuples\n",
        "\n",
        "```\n",
        "   for c,f in [(\"red\",18), (\"black\",18), (\"green\",2)]:\n",
        "      print(\"{0} occurs {1}\".format(c, f/38.0))\n",
        "```\n",
        "\n",
        "- The `for` statement uses a form of multiple assignment to split up\n",
        "    each tuple into a fixed number of variables\n",
        "\n",
        "$\\Rightarrow$\n",
        "<https://github.com/fpro-feup/public/tree/master/lectures/15/for.py>"
      ]
    },
    {
      "cell_type": "markdown",
      "metadata": {
        "id": "upshDpB_gH6N",
        "colab_type": "text"
      },
      "source": [
        "Multiple assignment to work with a list of tuples:"
      ]
    },
    {
      "cell_type": "code",
      "metadata": {
        "id": "CcvZ3jnGgFhV",
        "colab_type": "code",
        "colab": {}
      },
      "source": [
        "for c, f in [(\"red\", 18), (\"black\", 18), (\"green\", 2)]:\n",
        "    print(\"{0} occurs {1}\".format(c, f/38.0))"
      ],
      "execution_count": 0,
      "outputs": []
    },
    {
      "cell_type": "markdown",
      "metadata": {
        "id": "eABacQoUgPao",
        "colab_type": "text"
      },
      "source": [
        "The same using a dictionary and `items()`:"
      ]
    },
    {
      "cell_type": "code",
      "metadata": {
        "id": "i-xvA5nSgVW3",
        "colab_type": "code",
        "colab": {}
      },
      "source": [
        "d = {'red':18, 'black':18, 'green':2}\n",
        "for c, f in d.items():\n",
        "    print(\"{0} occurs {1}\".format(c, f/38.0))"
      ],
      "execution_count": 0,
      "outputs": []
    },
    {
      "cell_type": "markdown",
      "metadata": {
        "id": "d3tragD-gfL5",
        "colab_type": "text"
      },
      "source": [
        "Yet another example:"
      ]
    },
    {
      "cell_type": "code",
      "metadata": {
        "id": "KXBNCtJzgjtf",
        "colab_type": "code",
        "colab": {}
      },
      "source": [
        "for r, g, b in [(0x00,0xff,0x7f), (0xf5,0xde,0xb3)]:\n",
        "    print(\"red: {0}, green: {1}, blue: {2}\".format(r, g, b))"
      ],
      "execution_count": 0,
      "outputs": []
    },
    {
      "cell_type": "markdown",
      "metadata": {
        "id": "fxTfGXeymDtv",
        "colab_type": "text"
      },
      "source": [
        "## List Comprehensions (NB16)"
      ]
    },
    {
      "cell_type": "markdown",
      "metadata": {
        "id": "6NnukL1-l-gJ",
        "colab_type": "text"
      },
      "source": [
        "### List Comprehensions\n",
        "\n",
        "- A popular Python feature that appears prominently in Functional Programming Languages is list comprehensions\n",
        "\n",
        "- A list comprehension is an expression that combines a function, a\n",
        "    `for` statement, and an optional `if` statement\n",
        "\n",
        "- The most important thing about a list comprehension is that it is an\n",
        "    iterable that applies a calculation to another iterable\n",
        "\n",
        "```\n",
        "   even = [2*x for x in range(18)]\n",
        "```"
      ]
    },
    {
      "cell_type": "markdown",
      "metadata": {
        "id": "TUcqww74xHsM",
        "colab_type": "text"
      },
      "source": [
        "## Sequence Processing Functions: `map()`, `filter()` and `reduce()`"
      ]
    },
    {
      "cell_type": "markdown",
      "metadata": {
        "id": "E6ZKWjU7h_d4",
        "colab_type": "text"
      },
      "source": [
        "### `map()`, `filter()`\n",
        "\n",
        "- The `map()` and `filter()` built-in functions are handy functions\n",
        "    for processing sequences without writing lengthy for-loops\n",
        "\n",
        "- The idea of each is **to take a small function you write and apply\n",
        "    it to all the elements of a sequence**, saving you from writing an\n",
        "    explicit loop\n",
        "\n",
        "- The implicit loop within each of these functions may be faster than\n",
        "    an explicit **for** loop\n",
        "\n",
        "- Additionally, each of these is a *pure function*, returning a result\n",
        "    value\n",
        "\n",
        "- This allows the results of the functions to be combined into complex\n",
        "    expressions relatively easily"
      ]
    },
    {
      "cell_type": "markdown",
      "metadata": {
        "id": "QrF694JJiFDv",
        "colab_type": "text"
      },
      "source": [
        "### Processing Pipeline\n",
        "\n",
        "- It is very, very common to apply a single function to every value of\n",
        "    a list\n",
        "\n",
        "- In some cases, we may apply multiple simple functions in a kind of\n",
        "    \"processing pipeline\"\n",
        "\n",
        "```\n",
        "   # NBA's players heights in (feet,inch)\n",
        "   heights = [(5,8), (5,9), (6,2), (6,1), (6,7)]\n",
        "\n",
        "   # convert (feet, inch) to inches\n",
        "   def ftin_2_in(ftin):\n",
        "      feet, inches = ftin\n",
        "      return 12.0*feet + inches\n",
        "\n",
        "   map(ftin_2_in, heights)\n",
        "   ...\n",
        "\n",
        "   # now convert inches to meters\n",
        "   map(in_2_m, map(ftin_2_in, heights))\n",
        "```\n",
        "\n",
        "$\\Rightarrow$\n",
        "<https://github.com/fpro-feup/public/tree/master/lectures/15/metric_sizes.py>"
      ]
    },
    {
      "cell_type": "markdown",
      "metadata": {
        "id": "1BaGES4yiQRQ",
        "colab_type": "text"
      },
      "source": [
        "To convert a distance in the form (ft,in) to inches:"
      ]
    },
    {
      "cell_type": "code",
      "metadata": {
        "id": "MoHQCnqriN14",
        "colab_type": "code",
        "colab": {}
      },
      "source": [
        "def ftin_2_in(ftin):\n",
        "    feet, inches = ftin\n",
        "    return 12.0*feet + inches"
      ],
      "execution_count": 0,
      "outputs": []
    },
    {
      "cell_type": "markdown",
      "metadata": {
        "id": "RXd3qO65iXYo",
        "colab_type": "text"
      },
      "source": [
        "Some US heights:"
      ]
    },
    {
      "cell_type": "code",
      "metadata": {
        "id": "mz6zbruriaXO",
        "colab_type": "code",
        "colab": {}
      },
      "source": [
        "heights = [(5,8), (5,9), (6,2), (6,1), (6,7)]\n",
        "print(heights)"
      ],
      "execution_count": 0,
      "outputs": []
    },
    {
      "cell_type": "markdown",
      "metadata": {
        "id": "MdsepdYKieY4",
        "colab_type": "text"
      },
      "source": [
        "The same in inches:"
      ]
    },
    {
      "cell_type": "code",
      "metadata": {
        "id": "Hd2WZHQaijSP",
        "colab_type": "code",
        "colab": {}
      },
      "source": [
        "heights2 = map(ftin_2_in, heights)\n",
        "print(heights2)"
      ],
      "execution_count": 0,
      "outputs": []
    },
    {
      "cell_type": "markdown",
      "metadata": {
        "id": "J3XtzOcGirik",
        "colab_type": "text"
      },
      "source": [
        "Lazy, right?"
      ]
    },
    {
      "cell_type": "code",
      "metadata": {
        "id": "a0Wbsnaximrv",
        "colab_type": "code",
        "colab": {}
      },
      "source": [
        "print(list(heights2))"
      ],
      "execution_count": 0,
      "outputs": []
    },
    {
      "cell_type": "markdown",
      "metadata": {
        "id": "0cBQTtJ2kKqq",
        "colab_type": "text"
      },
      "source": [
        "To convert inches to meters:"
      ]
    },
    {
      "cell_type": "code",
      "metadata": {
        "id": "JgO0-yPNkOeJ",
        "colab_type": "code",
        "colab": {}
      },
      "source": [
        "def in_2_m(inches):\n",
        "    return round(inches * 0.0254, 2)"
      ],
      "execution_count": 0,
      "outputs": []
    },
    {
      "cell_type": "markdown",
      "metadata": {
        "id": "Gx_Bvj95kZvQ",
        "colab_type": "text"
      },
      "source": [
        "Inverse functions?"
      ]
    },
    {
      "cell_type": "code",
      "metadata": {
        "id": "wnUXXC08kTAI",
        "colab_type": "code",
        "colab": {}
      },
      "source": [
        "heights3 = map(in_2_m, map(ftin_2_in, heights))\n",
        "print(list(heights3))"
      ],
      "execution_count": 0,
      "outputs": []
    },
    {
      "cell_type": "markdown",
      "metadata": {
        "id": "TTpHYqVDlROa",
        "colab_type": "text"
      },
      "source": [
        "### `map()`\n",
        "\n",
        "- Create a new `iterator` from the results of applying the given\n",
        "    *function* to the items of the the given *sequence*\n",
        "\n",
        "```\n",
        "   map(function, sequence, [...])\n",
        "```\n",
        "\n",
        "- This function behaves as if it had the following definition:\n",
        "\n",
        "```\n",
        "  def map(a_function, a_sequence):\n",
        "      return [a_function(v) for v in a_sequence]\n",
        "```\n",
        "\n",
        "```\n",
        "  >>> list(map(int, [\"10\", \"12\", \"14\", 3.1415926, 5]))\n",
        "  [10, 12, 14, 3, 5]\n",
        "```\n",
        "\n",
        "- If more than one sequence is given, the corresponding items from\n",
        "    each sequence are provided as arguments to the function (`None` used\n",
        "    for missing values, as in `zip()`)"
      ]
    },
    {
      "cell_type": "markdown",
      "metadata": {
        "id": "Xmzniw4Qlah8",
        "colab_type": "text"
      },
      "source": [
        "### `filter()`\n",
        "\n",
        "- Return a `iterator` containing those items of sequence for which the\n",
        "    given function is `True`\n",
        "\n",
        "- If the function is `None`, return a list of items that are\n",
        "    equivalent to `True`\n",
        "\n",
        "```\n",
        "   filter(function, sequence)\n",
        "```\n",
        "\n",
        "- This function behaves as if it had the following definition:\n",
        "\n",
        "```\n",
        "  def filter(a_function, a_sequence):\n",
        "     return [v for v in a_sequence if a_function(v)]\n",
        "```\n",
        "\n",
        "```\n",
        "   >>> def over_2(m):\n",
        "   ...     return m > 2.0\n",
        "   >>> list(filter(over_2, map(in_2_m, map(ftin_2_in, heights))))\n",
        "   [2.01]\n",
        "```\n",
        "\n",
        "$\\Rightarrow$\n",
        "<https://github.com/fpro-feup/public/tree/master/lectures/15/filter.py>"
      ]
    },
    {
      "cell_type": "markdown",
      "metadata": {
        "id": "vPDWYvylmwIc",
        "colab_type": "text"
      },
      "source": [
        "Let's roll some dices:"
      ]
    },
    {
      "cell_type": "code",
      "metadata": {
        "id": "oVuCd6egm1SL",
        "colab_type": "code",
        "colab": {}
      },
      "source": [
        "import random\n",
        "\n",
        "rolls = []\n",
        "for u in range(100):\n",
        "    rolls.append(list((random.randint(1,6), random.randint(1,6))))\n",
        "print(rolls)"
      ],
      "execution_count": 0,
      "outputs": []
    },
    {
      "cell_type": "markdown",
      "metadata": {
        "id": "x1TxMX8mo6mN",
        "colab_type": "text"
      },
      "source": [
        "Find \"hardways\":"
      ]
    },
    {
      "cell_type": "code",
      "metadata": {
        "id": "REQejJwCo_X7",
        "colab_type": "code",
        "colab": {}
      },
      "source": [
        "def hardways(pair):\n",
        "    d1, d2 = pair\n",
        "    return d1 == d2 and d1+d2 in (4, 6, 8, 10)"
      ],
      "execution_count": 0,
      "outputs": []
    },
    {
      "cell_type": "markdown",
      "metadata": {
        "id": "Q_AsQHCMpEGJ",
        "colab_type": "text"
      },
      "source": [
        "Now, foilter the hardways from the original roll:"
      ]
    },
    {
      "cell_type": "code",
      "metadata": {
        "id": "2eKUYYBYpJq9",
        "colab_type": "code",
        "colab": {}
      },
      "source": [
        "frolls = filter(hardways, rolls)\n",
        "print(list(frolls))"
      ],
      "execution_count": 0,
      "outputs": []
    },
    {
      "cell_type": "markdown",
      "metadata": {
        "id": "ZpbRsbekpUsC",
        "colab_type": "text"
      },
      "source": [
        "Why is it?"
      ]
    },
    {
      "cell_type": "code",
      "metadata": {
        "id": "bbAkrd-tpRa0",
        "colab_type": "code",
        "colab": {}
      },
      "source": [
        "print(len(list(frolls)))"
      ],
      "execution_count": 0,
      "outputs": []
    },
    {
      "cell_type": "markdown",
      "metadata": {
        "id": "AQB_i4gfqEKX",
        "colab_type": "text"
      },
      "source": [
        "### `reduce()`\n",
        "\n",
        "- **Removed in Python3!**\n",
        "\n",
        "- Use `functools.reduce()` if you really need it\n",
        "\n",
        "- However, 99 percent of the time an explicit `for` loop is more\n",
        "    readable\n",
        "\n",
        "- The idea is to apply the given function to an internal accumulator\n",
        "    and each item of a sequence, from left to right, so as to reduce the\n",
        "    sequence to a single value\n",
        "\n",
        "```\n",
        "   def reduce(a_function, a_sequence, init = 0):\n",
        "       r = init\n",
        "       for s in a_sequence:\n",
        "           r = a_function(r, s)\n",
        "       return r\n",
        "```\n",
        "\n",
        "- built-in `sum()`, `any()` and `all()` are kinds of reduce functions\n",
        "\n",
        "$\\Rightarrow$\n",
        "<https://github.com/fpro-feup/public/tree/master/lectures/15/reduce.py>\n"
      ]
    },
    {
      "cell_type": "markdown",
      "metadata": {
        "id": "Z3A2uIHKqUey",
        "colab_type": "text"
      },
      "source": [
        "Let's define some functions:"
      ]
    },
    {
      "cell_type": "code",
      "metadata": {
        "id": "jx8dYEQUqYp9",
        "colab_type": "code",
        "colab": {}
      },
      "source": [
        "def plus(a, b):\n",
        "    return a+b"
      ],
      "execution_count": 0,
      "outputs": []
    },
    {
      "cell_type": "code",
      "metadata": {
        "id": "YwzbRR7gqblH",
        "colab_type": "code",
        "colab": {}
      },
      "source": [
        "def oddn(n):\n",
        "    return 2*n+1"
      ],
      "execution_count": 0,
      "outputs": []
    },
    {
      "cell_type": "markdown",
      "metadata": {
        "id": "tXIqEQUYrk7Z",
        "colab_type": "text"
      },
      "source": [
        "Without `reduce()`:"
      ]
    },
    {
      "cell_type": "code",
      "metadata": {
        "id": "1S1B9rkUrkJS",
        "colab_type": "code",
        "colab": {}
      },
      "source": [
        "for i in range(10):\n",
        "    sq = 0\n",
        "    for s in map(oddn, range(i)):\n",
        "        sq = plus(sq, s)\n",
        "    print(i, sq)\n",
        "\n",
        "print(\"Total is {0}\".format(sq))"
      ],
      "execution_count": 0,
      "outputs": []
    },
    {
      "cell_type": "markdown",
      "metadata": {
        "id": "c0kQ5puArvD-",
        "colab_type": "text"
      },
      "source": [
        "With `reduce()`:"
      ]
    },
    {
      "cell_type": "code",
      "metadata": {
        "id": "xSEUt0_Iqqxd",
        "colab_type": "code",
        "colab": {}
      },
      "source": [
        "import functools\n",
        "\n",
        "sq = functools.reduce(plus, map(oddn, range(i)), 0)\n",
        "print(\"Total is {0}\".format(sq))"
      ],
      "execution_count": 0,
      "outputs": []
    },
    {
      "cell_type": "markdown",
      "metadata": {
        "id": "cvz-EOEm3Cho",
        "colab_type": "text"
      },
      "source": [
        "### MapReduce programming model\n",
        "\n",
        "- Application to Big data: [[Google, 2004]](https://ai.google/research/pubs/pub62)\n",
        "\n",
        "- Definitions: [[wili]](https://en.wikipedia.org/wiki/MapReduce)"
      ]
    },
    {
      "cell_type": "markdown",
      "metadata": {
        "id": "0H-kiG06sqbD",
        "colab_type": "text"
      },
      "source": [
        "### `zip()`\n",
        "\n",
        "- The `zip()` function interleaves values from two or more sequences\n",
        "    to create a new sequence\n",
        "\n",
        "- The new sequence is a sequence of tuples\n",
        "\n",
        "- Each item of a tuple is the corresponding values from from each\n",
        "    sequence\n",
        "\n",
        "- If any sequence is too long, truncate it\n",
        "\n",
        "```\n",
        "   zip(sequence, [sequence...])\n",
        "```\n",
        "\n",
        "- Here's an example:\n",
        "\n",
        "```\n",
        "    list(zip(range(5), range(1,12,2)))\n",
        "    [(0, 1), (1, 3), (2, 5), (3, 7), (4, 9)]\n",
        "```\n"
      ]
    },
    {
      "cell_type": "code",
      "metadata": {
        "id": "AD4ZBNt3tBlD",
        "colab_type": "code",
        "colab": {}
      },
      "source": [
        "list(zip(range(1, 6), range(7,21,2)))"
      ],
      "execution_count": 0,
      "outputs": []
    },
    {
      "cell_type": "markdown",
      "metadata": {
        "id": "kZMpvm34xREd",
        "colab_type": "text"
      },
      "source": [
        "## Advanced List Sorting"
      ]
    },
    {
      "cell_type": "markdown",
      "metadata": {
        "id": "HjmzmdbGtg3c",
        "colab_type": "text"
      },
      "source": [
        "### List Sorting\n",
        "\n",
        "- Consider a list of tuples (that came from a spreadsheet `csv` file)\n",
        "\n",
        "```\n",
        "   job_data = [\n",
        "       ('121','Wyoming','NY',8722),\n",
        "       ('123','Yates','NY',5094)\n",
        "       ...\n",
        "       ('001,'Albany','NY',162692),\n",
        "       ('003','Allegany','NY',11986),\n",
        "       ]\n",
        "```\n"
      ]
    },
    {
      "cell_type": "markdown",
      "metadata": {
        "id": "GFLAs1dStmro",
        "colab_type": "text"
      },
      "source": [
        "\n",
        "- Sorting this list can be done trivially with the `list.sort()`\n",
        "    method\n",
        "\n",
        "```\n",
        "   job_data.sort()\n",
        "```\n",
        "\n",
        "- This kind of sort will simply compare the tuple items in the order\n",
        "    presented in the tuple\n",
        "\n",
        "- In this case, the country number is first"
      ]
    },
    {
      "cell_type": "markdown",
      "metadata": {
        "id": "YuE5Yt4Ktrv0",
        "colab_type": "text"
      },
      "source": [
        "### Sorting With Key Extraction\n",
        "\n",
        "- What if we want to sort by some other column, like state name or\n",
        "    jobs?\n",
        "\n",
        "- The `sort()` method of a list can accept a keyword parameter, `key`,\n",
        "    that provides a key extraction function\n",
        "\n",
        "- This function returns a value which can be used for comparison\n",
        "    purposes\n",
        "\n",
        "- To sort our `job_data` by the third field, we can use a function\n",
        "    like the following:\n",
        "\n",
        "```\n",
        "   def by_state(a):\n",
        "       return a[1]\n",
        "\n",
        "   job_data.sort(key=by_state)\n",
        "```\n",
        "\n",
        "$\\Rightarrow$\n",
        "<https://github.com/fpro-feup/public/tree/master/lectures/15/sort.py>"
      ]
    },
    {
      "cell_type": "markdown",
      "metadata": {
        "id": "9igOf3PIzWFg",
        "colab_type": "text"
      },
      "source": [
        "The \"database\":"
      ]
    },
    {
      "cell_type": "code",
      "metadata": {
        "id": "6yWi5b1CzYI4",
        "colab_type": "code",
        "colab": {}
      },
      "source": [
        "job_data = [\n",
        "   ('121', 'Yates', 'NY', 5094),\n",
        "   ('122', 'Wyoming', 'NY', 8722),\n",
        "   ('001', 'Albany', 'NY', 162692),\n",
        "   ('003', 'Allegany', 'NY', 11986),\n",
        "]"
      ],
      "execution_count": 0,
      "outputs": []
    },
    {
      "cell_type": "markdown",
      "metadata": {
        "id": "BwAMZr8NzfQj",
        "colab_type": "text"
      },
      "source": [
        "Let's do a standard sort:"
      ]
    },
    {
      "cell_type": "code",
      "metadata": {
        "id": "IzPVDxy1zkAt",
        "colab_type": "code",
        "colab": {}
      },
      "source": [
        "print(job_data)\n",
        "job_data.sort()\n",
        "print(job_data)"
      ],
      "execution_count": 0,
      "outputs": []
    },
    {
      "cell_type": "markdown",
      "metadata": {
        "id": "Z-ixvNr6z_lS",
        "colab_type": "text"
      },
      "source": [
        "Sort by state:"
      ]
    },
    {
      "cell_type": "code",
      "metadata": {
        "id": "dTw6ohKCz6hj",
        "colab_type": "code",
        "colab": {}
      },
      "source": [
        "def by_state(a):\n",
        "    return a[1]"
      ],
      "execution_count": 0,
      "outputs": []
    },
    {
      "cell_type": "markdown",
      "metadata": {
        "id": "pSLrMiDEz1jD",
        "colab_type": "text"
      },
      "source": [
        "Sort by key:"
      ]
    },
    {
      "cell_type": "code",
      "metadata": {
        "id": "YGddMYYGz-LF",
        "colab_type": "code",
        "colab": {}
      },
      "source": [
        "job_data.sort(key=by_state)\n",
        "print(job_data)"
      ],
      "execution_count": 0,
      "outputs": []
    },
    {
      "cell_type": "markdown",
      "metadata": {
        "id": "W9OPtxQvxUYa",
        "colab_type": "text"
      },
      "source": [
        "## The Lambda"
      ]
    },
    {
      "cell_type": "markdown",
      "metadata": {
        "id": "U1KDdHCU0hfm",
        "colab_type": "text"
      },
      "source": [
        "### The Lambda\n",
        "\n",
        "- The functions `map()`, `filter()` and the `list.sort()` method all\n",
        "    use small functions to control their operations\n",
        "\n",
        "- Instead of defining a function, Python allows us to provide a\n",
        "    *lambda form*\n",
        "\n",
        "- This is a kind of *anonymous, one-use-only function body* in \n",
        "    places where we only need a very, very simple function\n",
        "\n",
        "- A *lambda form* is like a defined function: it has parameters and\n",
        "    computes a value\n",
        "\n",
        "- The body of a *lambda*, however, can only be a single expression, \n",
        "    limiting it to relatively simple operations\n",
        "\n",
        "```\n",
        "   lambda a: a[0]*2+a[1]  # define a lambda\n",
        "\n",
        "   (lambda n: n*n)(5)     # define a lambda and call it\n",
        "```\n",
        "\n",
        "$\\Rightarrow$\n",
        "<https://github.com/fpro-feup/public/tree/master/lectures/15/lambda.py>"
      ]
    },
    {
      "cell_type": "markdown",
      "metadata": {
        "id": "TwtM2nuu1G1G",
        "colab_type": "text"
      },
      "source": [
        "Sort with a lambda:"
      ]
    },
    {
      "cell_type": "code",
      "metadata": {
        "id": "Dec4ybQI1Kve",
        "colab_type": "code",
        "colab": {}
      },
      "source": [
        "job_data.sort(key=lambda x: x[1])\n",
        "print(job_data)"
      ],
      "execution_count": 0,
      "outputs": []
    },
    {
      "cell_type": "markdown",
      "metadata": {
        "id": "zCD8fCyj1UPO",
        "colab_type": "text"
      },
      "source": [
        "### Parameterizing a Lambda\n",
        "\n",
        "- Sometimes we want to have a *lambda* with an argument defined by the\n",
        "    \"context\" or \"scope\" in which the *lambda* is being used\n",
        "\n",
        "```\n",
        "   >>> def timesX(x):\n",
        "           return lambda a: x*a\n",
        "\n",
        "   >>> t2 = timesX(2)   # a function that multiplies the arg. by 2\n",
        "   >>> t2(5)\n",
        "   10\n",
        "\n",
        "   >>> t3 = timesX(3)   # a function that multiplies the arg. by 3\n",
        "   >>> t3(5)\n",
        "   15\n",
        "```\n",
        "\n",
        "- BTW, these are first-class functions\n",
        "\n",
        "$\\Rightarrow$\n",
        "<https://github.com/fpro-feup/public/tree/master/lectures/15/lambda.py>"
      ]
    },
    {
      "cell_type": "markdown",
      "metadata": {
        "id": "lCM7vptb1g4Q",
        "colab_type": "text"
      },
      "source": [
        "An example of a parametrised lambda:"
      ]
    },
    {
      "cell_type": "code",
      "metadata": {
        "id": "NMpq_4jg1lW9",
        "colab_type": "code",
        "colab": {}
      },
      "source": [
        "spins = [(23, \"red\"), (21, \"red\"), (0, \"green\"), (24, \"black\")]"
      ],
      "execution_count": 0,
      "outputs": []
    },
    {
      "cell_type": "code",
      "metadata": {
        "id": "CHOVwVjD1pjO",
        "colab_type": "code",
        "colab": {}
      },
      "source": [
        "def by_color(color):\n",
        "    return lambda t: color == t[1]"
      ],
      "execution_count": 0,
      "outputs": []
    },
    {
      "cell_type": "code",
      "metadata": {
        "id": "NJ5N83wW1tai",
        "colab_type": "code",
        "colab": {}
      },
      "source": [
        "print(spins)\n",
        "print(list(filter(by_color(\"red\"), spins)))\n",
        "print(list(filter(by_color(\"green\"), spins)))"
      ],
      "execution_count": 0,
      "outputs": []
    },
    {
      "cell_type": "markdown",
      "metadata": {
        "id": "px4pNdm1153k",
        "colab_type": "text"
      },
      "source": [
        "Looking foward to comprehensions?"
      ]
    },
    {
      "cell_type": "code",
      "metadata": {
        "id": "bLL3mCiJ1_Uo",
        "colab_type": "code",
        "colab": {}
      },
      "source": [
        "by_red = by_color(\"red\")\n",
        "print([s for s in spins if by_red(s)])"
      ],
      "execution_count": 0,
      "outputs": []
    },
    {
      "cell_type": "markdown",
      "metadata": {
        "id": "Zz-UtV8ORH_t",
        "colab_type": "text"
      },
      "source": [
        "# Ticket to leave"
      ]
    },
    {
      "cell_type": "markdown",
      "metadata": {
        "id": "C-hchAExRRVh",
        "colab_type": "text"
      },
      "source": [
        "## Moodle activity\n",
        "\n",
        "[LE16:FP with collections](https://moodle.up.pt/mod/quiz/view.php?id=46034)"
      ]
    },
    {
      "cell_type": "markdown",
      "metadata": {
        "id": "uV1OP6ahRYne",
        "colab_type": "text"
      },
      "source": [
        "\n",
        "$\\Rightarrow$ \n",
        "[Go back to the Table of Contents](00-contents.ipynb)\n",
        "\n",
        "$\\Rightarrow$ \n",
        "[Read the Preface](00-preface.ipynb)"
      ]
    }
  ]
}