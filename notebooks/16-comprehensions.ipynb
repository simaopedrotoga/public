{
 "cells": [
  {
   "cell_type": "markdown",
   "metadata": {
    "colab_type": "text",
    "id": "8z5cONg8rUrX"
   },
   "source": [
    "# Comprehensions\n",
    "\n",
    "## Programming Fundamentals (NB16)\n",
    "\n",
    "### MIEIC/2019-20\n",
    "\n",
    "#### João Correia Lopes\n",
    "\n",
    "FEUP/DEI and INESC TEC"
   ]
  },
  {
   "cell_type": "markdown",
   "metadata": {
    "colab_type": "text",
    "id": "MZzE7pYorju5"
   },
   "source": [
    "## Goals\n",
    "\n",
    "By the end of this class, the student should be able to:\n",
    "\n",
    "- Simplify common list processing patterns using Comprehensions\n",
    "- Describe the use of iterators\n",
    "- Describe the use of List, Set and Dictionary comprehensions \n",
    "- Describe the use of Generator comprehensions"
   ]
  },
  {
   "cell_type": "markdown",
   "metadata": {
    "colab_type": "text",
    "id": "eR5Lh1jNroE2"
   },
   "source": [
    "## Bibliography\n",
    "\n",
    "- A. M. Kuchling, *Functional Programming HOWTO*, Release 0.32 [[HTML]](https://docs.python.org/3/howto/functional.html)\n",
    "\n",
    "- Python Course, *List Comprehension*, [Python3 Tutorial](https://python-course.eu/python3_list_comprehension.php)"
   ]
  },
  {
   "cell_type": "markdown",
   "metadata": {
    "colab_type": "text",
    "id": "9f7zjyc9aKGb"
   },
   "source": [
    "# Comprehensions"
   ]
  },
  {
   "cell_type": "markdown",
   "metadata": {
    "colab_type": "text",
    "id": "QC2TW-k4o0XI"
   },
   "source": [
    "## Introduction\n",
    "\n",
    "-  \"List Comprehensions\" are  Guido van Rossums preferred way to do it, because he doesn't like Lambda, map, filter and reduce either.\n",
    "\n",
    "- In his article from May 2005 [All Things Pythonic: The fate of reduce() in Python 3000](http://www.artima.com/weblogs/viewpost.jsp?thread=98196), he gives his reasons for dropping lambda, map(), filter() and reduce().\n",
    "\n",
    "  - List comprehension is more evident and easier to understand\n",
    "\n",
    "  - Having both list comprehension and \"Filter, map, reduce and lambda\" is transgressing the Python motto \"There should be one obvious way to solve a problem\"\n"
   ]
  },
  {
   "cell_type": "markdown",
   "metadata": {
    "colab_type": "text",
    "id": "TFiYWKACIIg7"
   },
   "source": [
    "### Comprehensions\n",
    "\n",
    "- Essentially, it is Python's way of implementing a well-known notation for sets as used by mathematicians.\n",
    "  - In mathematics the square numbers of the natural numbers are, for example, created by \n",
    "  $\\{ x^2 | x ∈ ℕ \\}$ \n",
    "  - or the set of complex integers \n",
    "  $\\{ (x,y) | x ∈ ℤ ∧ y ∈ ℤ \\}$\n",
    "\n",
    "> Using comprehensions is often a way both to make code more compact and to **shift our focus from the “how” to the “what”**\n"
   ]
  },
  {
   "cell_type": "markdown",
   "metadata": {
    "colab_type": "text",
    "id": "z2a0Y34wZVE2"
   },
   "source": [
    "## Lazy evaluation\n",
    "\n",
    "> A powerful feature of Python is its iterator protocol (which we will\n",
    "get to shortly). \n",
    "> This capability is only loosely connected to functional programming per se, since Python does not quite offer lazy data structures in the sense of a language like Haskell. \n",
    "> However, use of the iterator protocol — and Python’s many built-in or standard\n",
    "library iteratables — accomplish much the same effect as an actual\n",
    "lazy data structure.\n",
    "\n",
    "David Mertz, *Functional Programming in Python*, O'Reilly Media, 2015"
   ]
  },
  {
   "cell_type": "markdown",
   "metadata": {
    "colab_type": "text",
    "id": "OHMZ5tkCZQj9"
   },
   "source": [
    "### Iterators\n",
    "\n",
    "- An iterator is an object representing a stream of data and returns\n",
    "    the data one element at a time\n",
    "\n",
    "- Several of Python's built-in data types support iteration, the most\n",
    "    common being lists and dictionaries\n",
    "\n",
    "- An object is called **iterable** if you can **get an iterator for\n",
    "    it**"
   ]
  },
  {
   "cell_type": "markdown",
   "metadata": {
    "colab_type": "text",
    "id": "rquaF13MNCOd"
   },
   "source": [
    "You can experiment with the iteration interface manually:"
   ]
  },
  {
   "cell_type": "code",
   "execution_count": 0,
   "metadata": {
    "colab": {},
    "colab_type": "code",
    "id": "n4xuZR-XMg1n"
   },
   "outputs": [],
   "source": [
    "L = [1, 2, 3]\n",
    "it = iter(L)\n",
    "it"
   ]
  },
  {
   "cell_type": "code",
   "execution_count": 0,
   "metadata": {
    "colab": {},
    "colab_type": "code",
    "id": "bav6-erxMuXE"
   },
   "outputs": [],
   "source": [
    "next(it)"
   ]
  },
  {
   "cell_type": "code",
   "execution_count": 0,
   "metadata": {
    "colab": {},
    "colab_type": "code",
    "id": "1m_zv2wnMyQK"
   },
   "outputs": [],
   "source": [
    "next(it)"
   ]
  },
  {
   "cell_type": "code",
   "execution_count": 0,
   "metadata": {
    "colab": {},
    "colab_type": "code",
    "id": "xkP1KuhDM0RB"
   },
   "outputs": [],
   "source": [
    "it.__next__()  # same as next(it)"
   ]
  },
  {
   "cell_type": "code",
   "execution_count": 0,
   "metadata": {
    "colab": {},
    "colab_type": "code",
    "id": "M5rRVECdM7mE"
   },
   "outputs": [],
   "source": [
    "next(it)"
   ]
  },
  {
   "cell_type": "markdown",
   "metadata": {
    "colab_type": "text",
    "id": "erRzQAcQNj3S"
   },
   "source": [
    "- Python expects iterable objects in several different contexts, the\n",
    "    most important being the `for` statement"
   ]
  },
  {
   "cell_type": "code",
   "execution_count": 0,
   "metadata": {
    "colab": {},
    "colab_type": "code",
    "id": "LSZFYaHXN_cP"
   },
   "outputs": [],
   "source": [
    "for i in iter(['a', 'b', 'c']):\n",
    "    print(i)"
   ]
  },
  {
   "cell_type": "markdown",
   "metadata": {
    "colab_type": "text",
    "id": "mGPNDp0yNuPG"
   },
   "source": [
    "- Iterators can be **materialised** as lists, tuples or sets by using the\n",
    "    `list()`, `tuple()` or `set()` constructor functions\n",
    "\n"
   ]
  },
  {
   "cell_type": "code",
   "execution_count": 0,
   "metadata": {
    "colab": {},
    "colab_type": "code",
    "id": "JVdUyS2gN0uN"
   },
   "outputs": [],
   "source": [
    "L = [1, 2, 3]\n",
    "iterator = iter(L)\n",
    "t = tuple(iterator)\n",
    "t"
   ]
  },
  {
   "cell_type": "markdown",
   "metadata": {
    "colab_type": "text",
    "id": "67MdyB93NwvM"
   },
   "source": [
    "- Built-in functions such as `max()` and `min()` can take a single\n",
    "    iterator argument as well\n",
    "\n",
    "- The `in` and `not in` operators also support iterators\n",
    "\n",
    "- Note that you can **only go forward in an iterator**; there's no way\n",
    "    to get the previous element, reset the iterator, or make a copy of\n",
    "    it"
   ]
  },
  {
   "cell_type": "markdown",
   "metadata": {
    "colab_type": "text",
    "id": "DKSvFT8tZ7Ch"
   },
   "source": [
    "### `itertools` module\n",
    "\n",
    "- This module implements a number of iterator building blocks inspired by constructs from APL, Haskell, and SML. \n",
    "\n",
    "- Each has been recast in a form suitable for Python.\n",
    "\n",
    "- The module standardizes a core set of fast, memory efficient tools that are useful by themselves or in combination. \n",
    "\n",
    "- Together, they form an “iterator algebra” making it possible to construct specialized tools succinctly and efficiently in pure Python.\n",
    "\n",
    "$\\Rightarrow$\n",
    "<https://docs.python.org/3/library/itertools.html>"
   ]
  },
  {
   "cell_type": "markdown",
   "metadata": {
    "colab_type": "text",
    "id": "1MpJC1Hwau2X"
   },
   "source": [
    "Creating new iterators:"
   ]
  },
  {
   "cell_type": "code",
   "execution_count": 0,
   "metadata": {
    "colab": {},
    "colab_type": "code",
    "id": "6lNJs4Faatgj"
   },
   "outputs": [],
   "source": [
    "import itertools\n",
    "list(itertools.combinations([1, 2, 3, 4, 5], 3))"
   ]
  },
  {
   "cell_type": "markdown",
   "metadata": {
    "colab_type": "text",
    "id": "rUsOWPzVzBMz"
   },
   "source": [
    "### Iterator algebra\n",
    "\n",
    " There are two main reasons why such an “iterator algebra” is useful: \n",
    "  - improved memory efficiency (via lazy evaluation) and \n",
    "  - faster execuction time. \n",
    "\n",
    "- To see this, have a look at [What Is Itertools and Why Should You Use It?](https://realpython.com/python-itertools/#what-is-itertools-and-why-should-you-use-it)"
   ]
  },
  {
   "cell_type": "markdown",
   "metadata": {
    "colab_type": "text",
    "id": "0eb3A_qL-rdP"
   },
   "source": [
    "Itertools is best viewed as a collection of building blocks that can be combined to form specialized “data pipelines”"
   ]
  },
  {
   "cell_type": "code",
   "execution_count": 0,
   "metadata": {
    "colab": {},
    "colab_type": "code",
    "id": "zFeMPJWn-3YM"
   },
   "outputs": [],
   "source": [
    "list(map(sum, zip([1, 2, 3], [4, 5, 6])))"
   ]
  },
  {
   "cell_type": "markdown",
   "metadata": {
    "colab_type": "text",
    "id": "8R78-nbog7RV"
   },
   "source": [
    "## List Comprehensions"
   ]
  },
  {
   "cell_type": "markdown",
   "metadata": {
    "colab_type": "text",
    "id": "jzXp5u1ig_cy"
   },
   "source": [
    "### List Displays\n",
    "\n",
    "- For constructing a list, a set or a dictionary, Python provides\n",
    "    special syntax called \"displays\"<sup>1</sup>\n",
    "\n",
    "- The most common list *display* is the simple literal value:\n",
    "\n",
    "```\n",
    "    [ expression < , ... > ]\n",
    "```\n",
    "\n",
    "- For example:\n",
    "\n",
    "```\n",
    "    fruit = [\"Apples\", \"Peaches\", \"Pears\", \"Bananas\"]\n",
    "```\n",
    "\n",
    "- But Python has a second kind of list *display*, based on a list\n",
    "    comprehension\n",
    "\t\n",
    "<sup>1</sup>[The Python Language Reference](https://docs.python.org/3/reference/expressions.html#displays-for-lists-sets-and-dictionaries)"
   ]
  },
  {
   "cell_type": "markdown",
   "metadata": {
    "colab_type": "text",
    "id": "sCcfJtr2hML2"
   },
   "source": [
    "### List Comprehensions\n",
    "\n",
    "- A list comprehension is an expression that combines a function, a\n",
    "    `for` statement, and an optional `if` statement\n",
    "\n",
    "- This allows a simple, clear expression of the processing that will\n",
    "    build up an iterable sequence\n",
    "\n",
    "- The most important thing about a list comprehension is that it is an\n",
    "    iterable that applies a calculation to another iterable\n",
    "\n",
    "- A list display can use a list comprehension iterable to create a new\n",
    "    list\n",
    "\n",
    "![comprehension](images/16/comprehension.png)\n",
    "\n",
    "```\n",
    "   even = [2*x for x in range(18)]\n",
    "```"
   ]
  },
  {
   "cell_type": "code",
   "execution_count": 0,
   "metadata": {
    "colab": {},
    "colab_type": "code",
    "id": "Dsq5TPTMtYX4"
   },
   "outputs": [],
   "source": [
    "even = [2*x for x in range(18)]\n",
    "print(type(even))\n",
    "print(even)"
   ]
  },
  {
   "cell_type": "markdown",
   "metadata": {
    "colab_type": "text",
    "id": "PAUzCThO2k9c"
   },
   "source": [
    "Convert Celsius values into Fahrenheit"
   ]
  },
  {
   "cell_type": "code",
   "execution_count": 0,
   "metadata": {
    "colab": {},
    "colab_type": "code",
    "id": "rhUBOMAb2YVu"
   },
   "outputs": [],
   "source": [
    "Celsius = [39.2, 36.5, 37.3, 37.5]\n",
    "Fahrenheit = [ ((float(9)/5)*x + 32) for x in Celsius ]\n",
    "print(Fahrenheit)"
   ]
  },
  {
   "cell_type": "markdown",
   "metadata": {
    "colab_type": "text",
    "id": "HZIxtKIv2pTS"
   },
   "source": [
    "A *Pythagorean triple* consists of three positive integers a, b, and c, such that:\n",
    "\n",
    "$a^2 + b^2 = c^2$"
   ]
  },
  {
   "cell_type": "code",
   "execution_count": 0,
   "metadata": {
    "colab": {},
    "colab_type": "code",
    "id": "Xxq0s3kE2siW"
   },
   "outputs": [],
   "source": [
    "[(x,y,z) for x in range(1,30) for y in range(x,30) for z in range(y,30) if x**2 + y**2 == z**2]"
   ]
  },
  {
   "cell_type": "markdown",
   "metadata": {
    "colab_type": "text",
    "id": "U7f3oZVIhQ7m"
   },
   "source": [
    "### List Comprehension Semantics\n",
    "\n",
    "- When we write a list comprehension, we will provide an iterable, a\n",
    "    variable and an expression\n",
    "\n",
    "- Python will process the iterator as if it was a for-loop, iterating\n",
    "    through a sequence of values\n",
    "\n",
    "- It evaluates the expression, once for each iteration of the for-loop\n",
    "\n",
    "- The resulting values can be collected into a fresh, new list, or\n",
    "    used anywhere an iterator is used\n"
   ]
  },
  {
   "cell_type": "code",
   "execution_count": 0,
   "metadata": {
    "colab": {},
    "colab_type": "code",
    "id": "OAJEFb4muAJI"
   },
   "outputs": [],
   "source": [
    "string = \"Hello 12345 World\"\n",
    "for n in [int(x) for x in string if x.isdigit()]:\n",
    "    print(n*n)"
   ]
  },
  {
   "cell_type": "markdown",
   "metadata": {
    "colab_type": "text",
    "id": "_kwe3zGUhUDX"
   },
   "source": [
    "### List Comprehension Syntax\n",
    "\n",
    "- A list comprehension is --- technically --- a complex expression\n",
    "\n",
    "- It's often used in list displays, but can be used in a variety of\n",
    "    places where an iterator is expected\n",
    "\n",
    "```\n",
    "   expr <for-clause>\n",
    "```\n",
    "\n",
    "- The `expr` is any expression\n",
    "\n",
    "- It can be a simple constant, or any other expression (including a\n",
    "    nested list comprehension)\n",
    "\n",
    "- The `for-clause` mirrors the `for` statement\n",
    "\n",
    "```\n",
    "   for variable in sequence\n",
    "```"
   ]
  },
  {
   "cell_type": "markdown",
   "metadata": {
    "colab_type": "text",
    "id": "-nNFkbbqhXx-"
   },
   "source": [
    "### Comprehension in a List Display\n",
    "\n",
    "- For example:\n",
    "\n",
    "```\n",
    "   # a list of values [0, 2, 4, ..., 14]\n",
    "   even = [2*x for x in range(18)]\n",
    "\n",
    "   # list of 2-tuples, each built from the values in the given sequence\n",
    "   hardways = [(x,x) for x in (2,3,4,5)]\n",
    "\n",
    "   # a list of 10 random numbers\n",
    "   samples = [random.random() for x in range(10)]\n",
    "```"
   ]
  },
  {
   "cell_type": "markdown",
   "metadata": {
    "colab_type": "text",
    "id": "snJQjLpnvAXD"
   },
   "source": [
    "- A list display that uses a list comprehension behaves like the\n",
    "    following loop:\n",
    "\n",
    "```\n",
    "   r = []\n",
    "   for variable in sequence:\n",
    "      r.append(expr)\n",
    "```\n",
    "\n",
    "$\\Rightarrow$\n",
    "<https://github.com/fpro-feup/public/tree/master/lectures/16/for_comp.py>"
   ]
  },
  {
   "cell_type": "markdown",
   "metadata": {
    "colab_type": "text",
    "id": "7z85Qp2kwGAW"
   },
   "source": [
    "An expression that does not depend on for-clause:"
   ]
  },
  {
   "cell_type": "code",
   "execution_count": 0,
   "metadata": {
    "colab": {},
    "colab_type": "code",
    "id": "RZSw2qrGwCaK"
   },
   "outputs": [],
   "source": [
    "zeros = [0 for i in range(10)]\n",
    "print(zeros)"
   ]
  },
  {
   "cell_type": "markdown",
   "metadata": {
    "colab_type": "text",
    "id": "AquPO3D1wPCD"
   },
   "source": [
    "An expression that depends on the for-clause"
   ]
  },
  {
   "cell_type": "code",
   "execution_count": 0,
   "metadata": {
    "colab": {},
    "colab_type": "code",
    "id": "odE4reaDwTuB"
   },
   "outputs": [],
   "source": [
    "odd = [v*2+1 for v in range(10)]\n",
    "print(odd)"
   ]
  },
  {
   "cell_type": "markdown",
   "metadata": {
    "colab_type": "text",
    "id": "cQkoQDnAhgeZ"
   },
   "source": [
    "### The if Clause\n",
    "\n",
    "- A list comprehension can also have an **if-clause**\n",
    "\n",
    "```\n",
    "   expr <for-clause> <if-clause>\n",
    "```\n",
    "\n",
    "- Here is an example of a complex list comprehension in a list display\n",
    "\n",
    "```\n",
    "   hardways = [(x,x) for x in range(1,7) if x+x not in (2, 12)]\n",
    "```\n",
    "\n",
    "- This more complex list comprehension behaves like the following\n",
    "    loop:\n",
    "\n",
    "```\n",
    "   r = []\n",
    "   for variable in sequence :\n",
    "      if filter:\n",
    "         r.append(expr)\n",
    "```"
   ]
  },
  {
   "cell_type": "code",
   "execution_count": 0,
   "metadata": {
    "colab": {},
    "colab_type": "code",
    "id": "uh8xPhjTyKT8"
   },
   "outputs": [],
   "source": [
    "hardways = [(x,x) for x in range(1,7) if x+x not in (2, 12)]\n",
    "print(hardways)"
   ]
  },
  {
   "cell_type": "markdown",
   "metadata": {
    "colab_type": "text",
    "id": "_Lz8eeu_hkMo"
   },
   "source": [
    "### Another example\n",
    "\n",
    "```\n",
    "   >>> [(x, 2*x+1) for x in range(10) if x % 3 == 0]\n",
    "```\n",
    "\n",
    "- This works as follows:\n",
    "\n",
    "    1.  The for-clause iterates through the 10 values given by\n",
    "        `range(10)`, assigning each value to the local variable `x`\n",
    "\n",
    "    2.  The if-clause evaluates the filter function, `x % 3 == 0`. If it\n",
    "        is `False`, the value is skipped; if it is `True`, the\n",
    "        expression, at `(x, 2*x+1)`, is evaluated and retained\n",
    "\n",
    "    3.  The sequence of 2-tuples are assembled into a list\n"
   ]
  },
  {
   "cell_type": "code",
   "execution_count": 0,
   "metadata": {
    "colab": {},
    "colab_type": "code",
    "id": "J1DZS2SKy3Ki"
   },
   "outputs": [],
   "source": [
    "[(x, 2*x+1) for x in range(10) if x % 3 == 0]"
   ]
  },
  {
   "cell_type": "markdown",
   "metadata": {
    "colab_type": "text",
    "id": "WcYryX6M4qeq"
   },
   "source": [
    "### Nested List Comprehensions\n",
    "\n",
    "- A list comprehension can have any number of *for-clauses* and\n",
    "    *if-clauses*, freely-intermixed\n",
    "\n",
    "- A *for-clause* must be first\n",
    "\n",
    "- The clauses are evaluated from left to right\n",
    "\n",
    "- $\\Rightarrow$\n",
    "[The Python Language Reference](https://docs.python.org/3/tutorial/datastructures.html#list-comprehensions)"
   ]
  },
  {
   "cell_type": "markdown",
   "metadata": {
    "colab_type": "text",
    "id": "5S-BRWAs49GT"
   },
   "source": [
    "Let A and B be two sets, the cross product (or **Cartesian product**) of A and B, written A×B, is the set of all pairs wherein the first element is a member of the set A and the second element is a member of the set B."
   ]
  },
  {
   "cell_type": "code",
   "execution_count": 0,
   "metadata": {
    "colab": {},
    "colab_type": "code",
    "id": "7fH2HCpS5F8F"
   },
   "outputs": [],
   "source": [
    "colours = [ \"red\", \"green\", \"yellow\", \"blue\" ]\n",
    "things = [ \"house\", \"car\", \"tree\" ]\n",
    "coloured_things = [ (x,y) for x in colours for y in things ]\n",
    "print(coloured_things)"
   ]
  },
  {
   "cell_type": "markdown",
   "metadata": {
    "colab_type": "text",
    "id": "O2R62aiYziT5"
   },
   "source": [
    "### Example of Matrix transposition\n",
    "\n",
    "A 3x4 matrix implemented as a list of 3 lists of length 4"
   ]
  },
  {
   "cell_type": "code",
   "execution_count": 0,
   "metadata": {
    "colab": {},
    "colab_type": "code",
    "id": "S84qjLZJzfqr"
   },
   "outputs": [],
   "source": [
    "matrix = [\n",
    "    [1, 2, 3, 4],\n",
    "    [5, 6, 7, 8],\n",
    "    [9, 10, 11, 12]]\n",
    "\n",
    "print(matrix)"
   ]
  },
  {
   "cell_type": "markdown",
   "metadata": {
    "colab_type": "text",
    "id": "fOfHZS11znXy"
   },
   "source": [
    "List comprehension will transpose rows and columns"
   ]
  },
  {
   "cell_type": "code",
   "execution_count": 0,
   "metadata": {
    "colab": {},
    "colab_type": "code",
    "id": "DxTHamApzsbo"
   },
   "outputs": [],
   "source": [
    "transposed = [[row[i] for row in matrix] for i in range(4)]\n",
    "print(transposed)"
   ]
  },
  {
   "cell_type": "markdown",
   "metadata": {
    "colab_type": "text",
    "id": "XN4kaKwn0hla"
   },
   "source": [
    "Unroll the nested list comp"
   ]
  },
  {
   "cell_type": "code",
   "execution_count": 0,
   "metadata": {
    "colab": {},
    "colab_type": "code",
    "id": "Z9H7zLn-0k4O"
   },
   "outputs": [],
   "source": [
    "mtransposed = []\n",
    "for i in range(4):\n",
    "    # the following 3 lines implement the nested listcomp\n",
    "    transposed_row = []\n",
    "    for row in matrix:\n",
    "        transposed_row.append(row[i])\n",
    "    mtransposed.append(transposed_row)\n",
    "\n",
    "print(mtransposed)"
   ]
  },
  {
   "cell_type": "markdown",
   "metadata": {
    "colab_type": "text",
    "id": "Bps5wvYO0wuR"
   },
   "source": [
    "But wait, we may use zip unpacking:"
   ]
  },
  {
   "cell_type": "code",
   "execution_count": 0,
   "metadata": {
    "colab": {},
    "colab_type": "code",
    "id": "8_tS3eOV0z8B"
   },
   "outputs": [],
   "source": [
    "print(list(zip(*matrix)))"
   ]
  },
  {
   "cell_type": "markdown",
   "metadata": {
    "colab_type": "text",
    "id": "48vONPpBx4mY"
   },
   "source": [
    "## Generator Expressions"
   ]
  },
  {
   "cell_type": "markdown",
   "metadata": {
    "colab_type": "text",
    "id": "_GCmOZsGhcpP"
   },
   "source": [
    "### Comprehensions Outside List Displays\n",
    "\n",
    "- We can use the iterable list comprehension in other contexts that\n",
    "    expect an iterator\n",
    "\n",
    "$\\Rightarrow$\n",
    "<https://github.com/fpro-feup/public/tree/master/lectures/16/out_comp.py>"
   ]
  },
  {
   "cell_type": "code",
   "execution_count": 0,
   "metadata": {
    "colab": {},
    "colab_type": "code",
    "id": "siWabmAE6Yce"
   },
   "outputs": [],
   "source": [
    "square = sum((2*a+1) for a in range(10))\n",
    "print(square)"
   ]
  },
  {
   "cell_type": "code",
   "execution_count": 0,
   "metadata": {
    "colab": {},
    "colab_type": "code",
    "id": "KoQv892M6bmc"
   },
   "outputs": [],
   "source": [
    "column_1 = tuple(3*b+1 for b in range(12))\n",
    "print(column_1)"
   ]
  },
  {
   "cell_type": "markdown",
   "metadata": {
    "colab_type": "text",
    "id": "J4q2vSuEGLDf"
   },
   "source": [
    "### Generator expressions and list comprehensions\n",
    "\n",
    "- Two common operations on an iterator’s output are \n",
    "  1. performing some operation for every element \n",
    "  2. selecting a subset of elements that meet some condition\n",
    "\n",
    "- List comprehensions and generator expressions (short form: “listcomps” and “genexps”) are a concise notation for such operations<sup>1</sup>\n",
    "\n",
    "<sup>1</sup> borrowed from the functional programming language Haskell"
   ]
  },
  {
   "cell_type": "markdown",
   "metadata": {
    "colab_type": "text",
    "id": "tiuqSh3-GvKa"
   },
   "source": [
    "For example, you can strip all the whitespace from a stream of strings with the following code:"
   ]
  },
  {
   "cell_type": "code",
   "execution_count": 0,
   "metadata": {
    "colab": {},
    "colab_type": "code",
    "id": "MPOQu5JoGzOG"
   },
   "outputs": [],
   "source": [
    "line_list = ['  line 1\\n', 'line 2  \\n', ...]\n",
    "\n",
    "# Generator expression -- returns iterator\n",
    "stripped_iter = (line.strip() for line in line_list)\n",
    "\n",
    "# List comprehension -- returns list\n",
    "stripped_list = [line.strip() for line in line_list]"
   ]
  },
  {
   "cell_type": "markdown",
   "metadata": {
    "colab_type": "text",
    "id": "3UNVEG8NG_wO"
   },
   "source": [
    "### Some more generator expressions"
   ]
  },
  {
   "cell_type": "markdown",
   "metadata": {
    "colab_type": "text",
    "id": "BEwHdD2T6eqC"
   },
   "source": [
    "Create a generator object that will iterate over 100 values"
   ]
  },
  {
   "cell_type": "code",
   "execution_count": 0,
   "metadata": {
    "colab": {},
    "colab_type": "code",
    "id": "JDkyzjm86iwu"
   },
   "outputs": [],
   "source": [
    "import random\n",
    "rolls = ((random.randint(1,6), random.randint(1,6)) for u in range(10))\n",
    "print(rolls)"
   ]
  },
  {
   "cell_type": "code",
   "execution_count": 0,
   "metadata": {
    "colab": {},
    "colab_type": "code",
    "id": "fNqH75zI6zXg"
   },
   "outputs": [],
   "source": [
    "hardways = any(d1 == d2 for d1, d2 in rolls)\n",
    "print(hardways)"
   ]
  },
  {
   "cell_type": "markdown",
   "metadata": {
    "colab_type": "text",
    "id": "yHrwuxuV6uT8"
   },
   "source": [
    "This generator has an internal state: **it can only be used once**"
   ]
  },
  {
   "cell_type": "code",
   "execution_count": 0,
   "metadata": {
    "colab": {},
    "colab_type": "code",
    "id": "eTxS9oTj8-Mc"
   },
   "outputs": [],
   "source": [
    "import random\n",
    "rolls = ((random.randint(1,6), random.randint(1,6)) for u in range(10))\n",
    "for t in rolls:\n",
    "    print(t)"
   ]
  },
  {
   "cell_type": "code",
   "execution_count": 0,
   "metadata": {
    "colab": {},
    "colab_type": "code",
    "id": "UDrjld2J4-3J"
   },
   "outputs": [],
   "source": [
    "for t in rolls:\n",
    "    print(t)"
   ]
  },
  {
   "cell_type": "markdown",
   "metadata": {
    "colab_type": "text",
    "id": "eEGKArPs-e-p"
   },
   "source": [
    "### The number primes between 1 and 100\n",
    "\n",
    "- Calculation of the prime numbers between 1 and 100 using the \n",
    "[sieve of Eratosthenes](https://en.wikipedia.org/wiki/Sieve_of_Eratosthenes): "
   ]
  },
  {
   "cell_type": "code",
   "execution_count": 0,
   "metadata": {
    "colab": {},
    "colab_type": "code",
    "id": "yoKHPJqo_Fmm"
   },
   "outputs": [],
   "source": [
    "no_primes = [j for i in range(2, 8) for j in range(i*2, 100, i)]\n",
    "primes = [x for x in range(2, 100) if x not in no_primes]\n",
    "print(primes)"
   ]
  },
  {
   "cell_type": "markdown",
   "metadata": {
    "colab_type": "text",
    "id": "EDjER37k_vzr"
   },
   "source": [
    "- We want to bring the previous example into more general form, so that we can calculate the list of prime numbers up to an arbitrary number n\n",
    "- It is enough to examine the multiples of the prime numbers up to the square root of n"
   ]
  },
  {
   "cell_type": "code",
   "execution_count": 0,
   "metadata": {
    "colab": {},
    "colab_type": "code",
    "id": "lT6dOzLj_0S9"
   },
   "outputs": [],
   "source": [
    "from math import sqrt\n",
    "n = 100\n",
    "sqrt_n = int(sqrt(n))\n",
    "no_primes = [j for i in range(2, sqrt_n+1) for j in range(i*2, n, i)]"
   ]
  },
  {
   "cell_type": "markdown",
   "metadata": {
    "colab_type": "text",
    "id": "Lf0Wmck7AHyx"
   },
   "source": [
    "- If we have a look at the content of no_primes, we can see that there are lots of double entries contained in this list."
   ]
  },
  {
   "cell_type": "markdown",
   "metadata": {
    "colab_type": "text",
    "id": "pIV3oWLMAUcI"
   },
   "source": [
    "## Set Comprehensions"
   ]
  },
  {
   "cell_type": "markdown",
   "metadata": {
    "colab_type": "text",
    "id": "igMVzjXXAfSG"
   },
   "source": [
    "### Set Comprehension\n",
    "\n",
    "- A set comprehension is similar to a list comprehension, but returns a set and not a list\n",
    "\n",
    "- Syntactically, we use curly brackets instead of square brackets to create a set\n",
    "\n",
    "- Set comprehension is the right functionality to solve our problem from the previous subsection\n",
    "  - We are able to create the set of non primes without duplicates:"
   ]
  },
  {
   "cell_type": "code",
   "execution_count": 0,
   "metadata": {
    "colab": {},
    "colab_type": "code",
    "id": "oK2aUodzAyBH"
   },
   "outputs": [],
   "source": [
    "from math import sqrt\n",
    "n = 100\n",
    "sqrt_n = int(sqrt(n))\n",
    "no_primes = {j for i in range(2, sqrt_n+1) for j in range(i*2, n, i)}"
   ]
  },
  {
   "cell_type": "markdown",
   "metadata": {
    "colab_type": "text",
    "id": "8PbqcmOOBA0V"
   },
   "source": [
    "### Recursive Function to Calculate the Primes\n",
    "\n",
    "- The following Python script uses a recursive function to calculate the prime numbers"
   ]
  },
  {
   "cell_type": "code",
   "execution_count": 0,
   "metadata": {
    "colab": {},
    "colab_type": "code",
    "id": "VUh77XqpBJkH"
   },
   "outputs": [],
   "source": [
    "from math import sqrt\n",
    "def primes(n):\n",
    "    if n == 0:\n",
    "        return {}\n",
    "    elif n == 1:\n",
    "        return {}\n",
    "    else:\n",
    "        p = primes(int(sqrt(n)))\n",
    "        no_p = {j for i in p for j in range(i*2, n+1, i)}\n",
    "        p = {x for x in range(2, n + 1) if x not in no_p}\n",
    "    return p"
   ]
  },
  {
   "cell_type": "code",
   "execution_count": 0,
   "metadata": {
    "colab": {},
    "colab_type": "code",
    "id": "efQq1-OJBOsH"
   },
   "outputs": [],
   "source": [
    "for i in range(1,12):\n",
    "    print(\"{0}\\t{1}\".format(i, primes(i)))"
   ]
  },
  {
   "cell_type": "markdown",
   "metadata": {
    "colab_type": "text",
    "id": "yrMJ0xyrxGGN"
   },
   "source": [
    "## Dictionary comprehensions\n",
    "\n",
    "- With dict comprehension or dictionary comprehension, one can easily create dictionaries\n",
    "\n",
    "```\n",
    ">>> dict= {k: v for k, v in zip(['a', 'b', 'c'], [1, 2, 3])}\n",
    ">>> print(dict)\n",
    "```"
   ]
  },
  {
   "cell_type": "markdown",
   "metadata": {
    "colab_type": "text",
    "id": "4L_GPdRzIvCn"
   },
   "source": [
    "A dict comprehension to create dict with numbers as values"
   ]
  },
  {
   "cell_type": "code",
   "execution_count": 0,
   "metadata": {
    "colab": {},
    "colab_type": "code",
    "id": "wRRm-_6ZImtP"
   },
   "outputs": [],
   "source": [
    "dict = {str(i):i for i in [1,2,3,4,5]}\n",
    "print(dict)"
   ]
  },
  {
   "cell_type": "markdown",
   "metadata": {
    "colab_type": "text",
    "id": "7EcvLvGvI0kZ"
   },
   "source": [
    "Create a list of fruits"
   ]
  },
  {
   "cell_type": "code",
   "execution_count": 0,
   "metadata": {
    "colab": {},
    "colab_type": "code",
    "id": "mw3NumBwI6ti"
   },
   "outputs": [],
   "source": [
    "fruits = ['apple', 'mango', 'banana','cherry']"
   ]
  },
  {
   "cell_type": "code",
   "execution_count": 0,
   "metadata": {
    "colab": {},
    "colab_type": "code",
    "id": "XY7nTffHJAZk"
   },
   "outputs": [],
   "source": [
    "dict = {f:len(f) for f in fruits}\n",
    "print(dict)"
   ]
  },
  {
   "cell_type": "markdown",
   "metadata": {
    "colab_type": "text",
    "id": "1W-Cx_-2JETS"
   },
   "source": [
    "A dict comprehension example using the `enumerate()` function"
   ]
  },
  {
   "cell_type": "code",
   "execution_count": 0,
   "metadata": {
    "colab": {},
    "colab_type": "code",
    "id": "_I5JVaB5JG3P"
   },
   "outputs": [],
   "source": [
    "f_dict = {f:i for i,f in enumerate(fruits)}\n",
    "print(f_dict)"
   ]
  },
  {
   "cell_type": "markdown",
   "metadata": {
    "colab_type": "text",
    "id": "hFHJJ4KGJOpZ"
   },
   "source": [
    "A dict comprehension to reverse the `key:value` pair in a dictionary"
   ]
  },
  {
   "cell_type": "code",
   "execution_count": 0,
   "metadata": {
    "colab": {},
    "colab_type": "code",
    "id": "0n9ecDx9JTD7"
   },
   "outputs": [],
   "source": [
    "dict = {v:k for k,v in f_dict.items()}\n",
    "print(dict)"
   ]
  },
  {
   "cell_type": "markdown",
   "metadata": {
    "colab_type": "text",
    "id": "Zz-UtV8ORH_t"
   },
   "source": [
    "# Ticket to leave"
   ]
  },
  {
   "cell_type": "markdown",
   "metadata": {
    "colab_type": "text",
    "id": "C-hchAExRRVh"
   },
   "source": [
    "## Moodle activity\n",
    "\n",
    "[LE16:FP with collections](https://moodle.up.pt/mod/quiz/view.php?id=46035)"
   ]
  },
  {
   "cell_type": "markdown",
   "metadata": {
    "colab_type": "text",
    "id": "uV1OP6ahRYne"
   },
   "source": [
    "\n",
    "$\\Rightarrow$ \n",
    "[Go back to the Table of Contents](00-contents.ipynb)\n",
    "\n",
    "$\\Rightarrow$ \n",
    "[Read the Preface](00-preface.ipynb)"
   ]
  }
 ],
 "metadata": {
  "colab": {
   "collapsed_sections": [],
   "name": "16-comprehensions.ipynb",
   "private_outputs": true,
   "provenance": [],
   "toc_visible": true
  },
  "kernelspec": {
   "display_name": "Python 3",
   "language": "python",
   "name": "python3"
  },
  "language_info": {
   "codemirror_mode": {
    "name": "ipython",
    "version": 3
   },
   "file_extension": ".py",
   "mimetype": "text/x-python",
   "name": "python",
   "nbconvert_exporter": "python",
   "pygments_lexer": "ipython3",
   "version": "3.7.3"
  }
 },
 "nbformat": 4,
 "nbformat_minor": 1
}
