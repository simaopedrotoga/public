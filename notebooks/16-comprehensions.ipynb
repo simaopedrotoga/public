{
  "nbformat": 4,
  "nbformat_minor": 0,
  "metadata": {
    "colab": {
      "name": "16-comprehensions.ipynb",
      "provenance": [],
      "private_outputs": true,
      "collapsed_sections": [
        "pIV3oWLMAUcI",
        "yrMJ0xyrxGGN"
      ],
      "toc_visible": true
    },
    "kernelspec": {
      "name": "python3",
      "display_name": "Python 3"
    }
  },
  "cells": [
    {
      "cell_type": "markdown",
      "metadata": {
        "id": "8z5cONg8rUrX",
        "colab_type": "text"
      },
      "source": [
        "# Comprehensions\n",
        "\n",
        "## Programming Fundamentals (NB16)\n",
        "\n",
        "### MIEIC/2019-20\n",
        "\n",
        "#### João Correia Lopes\n",
        "\n",
        "FEUP/DEI and INESC TEC"
      ]
    },
    {
      "cell_type": "markdown",
      "metadata": {
        "id": "MZzE7pYorju5",
        "colab_type": "text"
      },
      "source": [
        "## Goals\n",
        "\n",
        "By the end of this class, the student should be able to:\n",
        "\n",
        "- Simplify common list processing patterns using List Comprehensions"
      ]
    },
    {
      "cell_type": "markdown",
      "metadata": {
        "id": "eR5Lh1jNroE2",
        "colab_type": "text"
      },
      "source": [
        "## Bibliography\n",
        "\n",
        "- A. M. Kuchling, *Functional Programming HOWTO*, Release 0.32 [[HTML]](https://docs.python.org/3/howto/functional.html)\n",
        "\n",
        "- Python Course, *List Comprehension*, [Python3 Tutorial](https://python-course.eu/python3_list_comprehension.php)"
      ]
    },
    {
      "cell_type": "markdown",
      "metadata": {
        "id": "9f7zjyc9aKGb",
        "colab_type": "text"
      },
      "source": [
        "# Comprehensions"
      ]
    },
    {
      "cell_type": "markdown",
      "metadata": {
        "id": "QC2TW-k4o0XI",
        "colab_type": "text"
      },
      "source": [
        "## Introduction\n",
        "\n",
        "-  \"List Comprehensions\" are  Guido van Rossums preferred way to do it, because he doesn't like Lambda, map, filter and reduce either.\n",
        "\n",
        "- In his article from May 2005 [All Things Pythonic: The fate of reduce() in Python 3000](http://www.artima.com/weblogs/viewpost.jsp?thread=98196), he gives his reasons for dropping lambda, map(), filter() and reduce().\n",
        "\n",
        "  - List comprehension is more evident and easier to understand\n",
        "\n",
        "  - Having both list comprehension and \"Filter, map, reduce and lambda\" is transgressing the Python motto \"There should be one obvious way to solve a problem\"\n",
        "\n",
        "- Essentially, it is Python's way of implementing a well-known notation for sets as used by mathematicians.\n",
        "  - In mathematics the square numbers of the natural numbers are, for example, created by \n",
        "  $\\{ x^2 | x ∈ ℕ \\}$ \n",
        "  - or the set of complex integers \n",
        "  $\\{ (x,y) | x ∈ ℤ ∧ y ∈ ℤ \\}$"
      ]
    },
    {
      "cell_type": "markdown",
      "metadata": {
        "id": "8R78-nbog7RV",
        "colab_type": "text"
      },
      "source": [
        "## List Comprehensions"
      ]
    },
    {
      "cell_type": "markdown",
      "metadata": {
        "id": "jzXp5u1ig_cy",
        "colab_type": "text"
      },
      "source": [
        "### List Displays\n",
        "\n",
        "- For constructing a list, a set or a dictionary, Python provides\n",
        "    special syntax called \"displays\"<sup>1</sup>\n",
        "\n",
        "- The most common list *display* is the simple literal value:\n",
        "\n",
        "```\n",
        "    [ expression < , ... > ]\n",
        "```\n",
        "\n",
        "- For example:\n",
        "\n",
        "```\n",
        "    fruit = [\"Apples\", \"Peaches\", \"Pears\", \"Bananas\"]\n",
        "```\n",
        "\n",
        "- But Python has a second kind of list *display*, based on a list\n",
        "    comprehension\n",
        "\t\n",
        "<sup>1</sup>[The Python Language Reference](https://docs.python.org/3/reference/expressions.html#displays-for-lists-sets-and-dictionaries)"
      ]
    },
    {
      "cell_type": "markdown",
      "metadata": {
        "id": "sCcfJtr2hML2",
        "colab_type": "text"
      },
      "source": [
        "### List Comprehensions\n",
        "\n",
        "- A list comprehension is an expression that combines a function, a\n",
        "    `for` statement, and an optional `if` statement\n",
        "\n",
        "- This allows a simple, clear expression of the processing that will\n",
        "    build up an iterable sequence\n",
        "\n",
        "- The most important thing about a list comprehension is that it is an\n",
        "    iterable that applies a calculation to another iterable\n",
        "\n",
        "- A list display can use a list comprehension iterable to create a new\n",
        "    list\n",
        "\n",
        "![comprehension](images/16/comprehension.png)\n",
        "\n",
        "```\n",
        "   even = [2*x for x in range(18)]\n",
        "```"
      ]
    },
    {
      "cell_type": "code",
      "metadata": {
        "id": "Dsq5TPTMtYX4",
        "colab_type": "code",
        "colab": {}
      },
      "source": [
        "even = [2*x for x in range(18)]\n",
        "print(type(even))\n",
        "print(even)"
      ],
      "execution_count": 0,
      "outputs": []
    },
    {
      "cell_type": "markdown",
      "metadata": {
        "id": "PAUzCThO2k9c",
        "colab_type": "text"
      },
      "source": [
        "Convert Celsius values into Fahrenheit"
      ]
    },
    {
      "cell_type": "code",
      "metadata": {
        "id": "rhUBOMAb2YVu",
        "colab_type": "code",
        "colab": {}
      },
      "source": [
        "Celsius = [39.2, 36.5, 37.3, 37.5]\n",
        "Fahrenheit = [ ((float(9)/5)*x + 32) for x in Celsius ]\n",
        "print(Fahrenheit)"
      ],
      "execution_count": 0,
      "outputs": []
    },
    {
      "cell_type": "markdown",
      "metadata": {
        "id": "HZIxtKIv2pTS",
        "colab_type": "text"
      },
      "source": [
        "A Pythagorean triple consists of three positive integers a, b, and c, such that:\n",
        "\n",
        "$a^2 + b^2 = c^2$"
      ]
    },
    {
      "cell_type": "code",
      "metadata": {
        "id": "Xxq0s3kE2siW",
        "colab_type": "code",
        "colab": {}
      },
      "source": [
        "[(x,y,z) for x in range(1,30) for y in range(x,30) for z in range(y,30) if x**2 + y**2 == z**2]"
      ],
      "execution_count": 0,
      "outputs": []
    },
    {
      "cell_type": "markdown",
      "metadata": {
        "id": "U7f3oZVIhQ7m",
        "colab_type": "text"
      },
      "source": [
        "### List Comprehension Semantics\n",
        "\n",
        "- When we write a list comprehension, we will provide an iterable, a\n",
        "    variable and an expression\n",
        "\n",
        "- Python will process the iterator as if it was a for-loop, iterating\n",
        "    through a sequence of values\n",
        "\n",
        "- It evaluates the expression, once for each iteration of the for-loop\n",
        "\n",
        "- The resulting values can be collected into a fresh, new list, or\n",
        "    used anywhere an iterator is used\n"
      ]
    },
    {
      "cell_type": "code",
      "metadata": {
        "id": "OAJEFb4muAJI",
        "colab_type": "code",
        "colab": {}
      },
      "source": [
        "string = \"Hello 12345 World\"\n",
        "for n in [int(x) for x in string if x.isdigit()]:\n",
        "    print(n*n)"
      ],
      "execution_count": 0,
      "outputs": []
    },
    {
      "cell_type": "markdown",
      "metadata": {
        "id": "_kwe3zGUhUDX",
        "colab_type": "text"
      },
      "source": [
        "### List Comprehension Syntax\n",
        "\n",
        "- A list comprehension is --- technically --- a complex expression\n",
        "\n",
        "- It's often used in list displays, but can be used in a variety of\n",
        "    places where an iterator is expected\n",
        "\n",
        "```\n",
        "   expr <for-clause>\n",
        "```\n",
        "\n",
        "- The `expr` is any expression\n",
        "\n",
        "- It can be a simple constant, or any other expression (including a\n",
        "    nested list comprehension)\n",
        "\n",
        "- The `for-clause` mirrors the `for` statement\n",
        "\n",
        "```\n",
        "   for variable in sequence\n",
        "```"
      ]
    },
    {
      "cell_type": "markdown",
      "metadata": {
        "id": "-nNFkbbqhXx-",
        "colab_type": "text"
      },
      "source": [
        "### Comprehension in a List Display\n",
        "\n",
        "- For example:\n",
        "\n",
        "```\n",
        "   # a list of values [0, 2, 4, ..., 14]\n",
        "   even = [2*x for x in range(18)]\n",
        "\n",
        "   # list of 2-tuples, each built from the values in the given sequence\n",
        "   hardways = [(x,x) for x in (2,3,4,5)]\n",
        "\n",
        "   # a list of 10 random numbers\n",
        "   samples = [random.random() for x in range(10)]\n",
        "```"
      ]
    },
    {
      "cell_type": "markdown",
      "metadata": {
        "id": "snJQjLpnvAXD",
        "colab_type": "text"
      },
      "source": [
        "- A list display that uses a list comprehension behaves like the\n",
        "    following loop:\n",
        "\n",
        "```\n",
        "   r = []\n",
        "   for variable in sequence:\n",
        "      r.append(expr)\n",
        "```\n",
        "\n",
        "$\\Rightarrow$\n",
        "<https://github.com/fpro-feup/public/tree/master/lectures/16/for_comp.py>"
      ]
    },
    {
      "cell_type": "markdown",
      "metadata": {
        "id": "7z85Qp2kwGAW",
        "colab_type": "text"
      },
      "source": [
        "An expression that does not depend on for-clause:"
      ]
    },
    {
      "cell_type": "code",
      "metadata": {
        "id": "RZSw2qrGwCaK",
        "colab_type": "code",
        "colab": {}
      },
      "source": [
        "zeros = [0 for i in range(10)]\n",
        "print(zeros)"
      ],
      "execution_count": 0,
      "outputs": []
    },
    {
      "cell_type": "markdown",
      "metadata": {
        "id": "AquPO3D1wPCD",
        "colab_type": "text"
      },
      "source": [
        "An expression that depends on the for-clause"
      ]
    },
    {
      "cell_type": "code",
      "metadata": {
        "id": "odE4reaDwTuB",
        "colab_type": "code",
        "colab": {}
      },
      "source": [
        "odd = [v*2+1 for v in range(10)]\n",
        "print(odd)"
      ],
      "execution_count": 0,
      "outputs": []
    },
    {
      "cell_type": "markdown",
      "metadata": {
        "id": "cQkoQDnAhgeZ",
        "colab_type": "text"
      },
      "source": [
        "### The if Clause\n",
        "\n",
        "- A list comprehension can also have an **if-clause**\n",
        "\n",
        "```\n",
        "   expr <for-clause> <if-clause>\n",
        "```\n",
        "\n",
        "- Here is an example of a complex list comprehension in a list display\n",
        "\n",
        "```\n",
        "   hardways = [(x,x) for x in range(1,7) if x+x not in (2, 12)]\n",
        "```\n",
        "\n",
        "- This more complex list comprehension behaves like the following\n",
        "    loop:\n",
        "\n",
        "```\n",
        "   r= []\n",
        "   for variable in sequence :\n",
        "      if filter:\n",
        "         r.append( expr )\n",
        "```"
      ]
    },
    {
      "cell_type": "code",
      "metadata": {
        "id": "uh8xPhjTyKT8",
        "colab_type": "code",
        "colab": {}
      },
      "source": [
        "hardways = [(x,x) for x in range(1,7) if x+x not in (2, 12)]\n",
        "print(hardways)"
      ],
      "execution_count": 0,
      "outputs": []
    },
    {
      "cell_type": "markdown",
      "metadata": {
        "id": "_Lz8eeu_hkMo",
        "colab_type": "text"
      },
      "source": [
        "### Another example\n",
        "\n",
        "```\n",
        "   >>> [(x, 2*x+1) for x in range(10) if x % 3 == 0]\n",
        "```\n",
        "\n",
        "- This works as follows:\n",
        "\n",
        "    1.  The for-clause iterates through the 10 values given by\n",
        "        `range(10)`, assigning each value to the local variable `x`\n",
        "\n",
        "    2.  The if-clause evaluates the filter function, `x % 3 == 0`. If it\n",
        "        is `False`, the value is skipped; if it is `True`, the\n",
        "        expression, at `(x, 2*x+1)`, is evaluated and retained\n",
        "\n",
        "    3.  The sequence of 2-tuples are assembled into a list\n"
      ]
    },
    {
      "cell_type": "code",
      "metadata": {
        "id": "J1DZS2SKy3Ki",
        "colab_type": "code",
        "colab": {}
      },
      "source": [
        "[(x, 2*x+1) for x in range(10) if x % 3 == 0]"
      ],
      "execution_count": 0,
      "outputs": []
    },
    {
      "cell_type": "markdown",
      "metadata": {
        "id": "WcYryX6M4qeq",
        "colab_type": "text"
      },
      "source": [
        "### Nested List Comprehensions\n",
        "\n",
        "- A list comprehension can have any number of *for-clauses* and\n",
        "    *if-clauses*, freely-intermixed\n",
        "\n",
        "- A *for-clause* must be first\n",
        "\n",
        "- The clauses are evaluated from left to right\n",
        "\n",
        "- $\\Rightarrow$\n",
        "[The Python Language Reference](https://docs.python.org/3/tutorial/datastructures.html#list-comprehensions)"
      ]
    },
    {
      "cell_type": "markdown",
      "metadata": {
        "id": "5S-BRWAs49GT",
        "colab_type": "text"
      },
      "source": [
        "Let A and B be two sets, the cross product (or **Cartesian product**) of A and B, written A×B, is the set of all pairs wherein the first element is a member of the set A and the second element is a member of the set B."
      ]
    },
    {
      "cell_type": "code",
      "metadata": {
        "id": "7fH2HCpS5F8F",
        "colab_type": "code",
        "colab": {}
      },
      "source": [
        "colours = [ \"red\", \"green\", \"yellow\", \"blue\" ]\n",
        "things = [ \"house\", \"car\", \"tree\" ]\n",
        "coloured_things = [ (x,y) for x in colours for y in things ]\n",
        "print(coloured_things)"
      ],
      "execution_count": 0,
      "outputs": []
    },
    {
      "cell_type": "markdown",
      "metadata": {
        "id": "O2R62aiYziT5",
        "colab_type": "text"
      },
      "source": [
        "#### Matrix transposition\n",
        "\n",
        "A 3x4 matrix implemented as a list of 3 lists of length 4"
      ]
    },
    {
      "cell_type": "code",
      "metadata": {
        "id": "S84qjLZJzfqr",
        "colab_type": "code",
        "colab": {}
      },
      "source": [
        "matrix = [\n",
        "    [1, 2, 3, 4],\n",
        "    [5, 6, 7, 8],\n",
        "    [9, 10, 11, 12]]\n",
        "\n",
        "print(matrix)"
      ],
      "execution_count": 0,
      "outputs": []
    },
    {
      "cell_type": "markdown",
      "metadata": {
        "id": "fOfHZS11znXy",
        "colab_type": "text"
      },
      "source": [
        "List comprehension will transpose rows and columns"
      ]
    },
    {
      "cell_type": "code",
      "metadata": {
        "id": "DxTHamApzsbo",
        "colab_type": "code",
        "colab": {}
      },
      "source": [
        "transposed = [[row[i] for row in matrix] for i in range(4)]\n",
        "\n",
        "print(transposed)"
      ],
      "execution_count": 0,
      "outputs": []
    },
    {
      "cell_type": "markdown",
      "metadata": {
        "id": "XN4kaKwn0hla",
        "colab_type": "text"
      },
      "source": [
        "Unroll the nested list comp"
      ]
    },
    {
      "cell_type": "code",
      "metadata": {
        "id": "Z9H7zLn-0k4O",
        "colab_type": "code",
        "colab": {}
      },
      "source": [
        "mtransposed = []\n",
        "for i in range(4):\n",
        "    # the following 3 lines implement the nested listcomp\n",
        "    transposed_row = []\n",
        "    for row in matrix:\n",
        "        transposed_row.append(row[i])\n",
        "    mtransposed.append(transposed_row)\n",
        "\n",
        "print(mtransposed)"
      ],
      "execution_count": 0,
      "outputs": []
    },
    {
      "cell_type": "markdown",
      "metadata": {
        "id": "Bps5wvYO0wuR",
        "colab_type": "text"
      },
      "source": [
        "But wait, we may use unpacking:"
      ]
    },
    {
      "cell_type": "code",
      "metadata": {
        "id": "8_tS3eOV0z8B",
        "colab_type": "code",
        "colab": {}
      },
      "source": [
        "print(list(zip(*matrix)))"
      ],
      "execution_count": 0,
      "outputs": []
    },
    {
      "cell_type": "markdown",
      "metadata": {
        "id": "48vONPpBx4mY",
        "colab_type": "text"
      },
      "source": [
        "## Generator Comprehension"
      ]
    },
    {
      "cell_type": "markdown",
      "metadata": {
        "id": "_GCmOZsGhcpP",
        "colab_type": "text"
      },
      "source": [
        "### Comprehensions Outside List Displays\n",
        "\n",
        "- We can use the iterable list comprehension in other contexts that\n",
        "    expect an iterator\n",
        "\n",
        "$\\Rightarrow$\n",
        "<https://github.com/fpro-feup/public/tree/master/lectures/16/out_comp.py>"
      ]
    },
    {
      "cell_type": "code",
      "metadata": {
        "id": "siWabmAE6Yce",
        "colab_type": "code",
        "colab": {}
      },
      "source": [
        "square = sum((2*a+1) for a in range(10))\n",
        "print(square)"
      ],
      "execution_count": 0,
      "outputs": []
    },
    {
      "cell_type": "code",
      "metadata": {
        "id": "KoQv892M6bmc",
        "colab_type": "code",
        "colab": {}
      },
      "source": [
        "column_1 = tuple(3*b+1 for b in range(12))\n",
        "print(column_1)"
      ],
      "execution_count": 0,
      "outputs": []
    },
    {
      "cell_type": "markdown",
      "metadata": {
        "id": "J4q2vSuEGLDf",
        "colab_type": "text"
      },
      "source": [
        "### Generator expressions and list comprehensions\n",
        "\n",
        "- Two common operations on an iterator’s output are \n",
        "  1. performing some operation for every element \n",
        "  2. selecting a subset of elements that meet some condition\n",
        "\n",
        "- List comprehensions and generator expressions (short form: “listcomps” and “genexps”) are a concise notation for such operations<sup>1</sup>\n",
        "\n",
        "<sup>1</sup> borrowed from the functional programming language Haskell"
      ]
    },
    {
      "cell_type": "markdown",
      "metadata": {
        "id": "tiuqSh3-GvKa",
        "colab_type": "text"
      },
      "source": [
        "For example, you can strip all the whitespace from a stream of strings with the following code:"
      ]
    },
    {
      "cell_type": "code",
      "metadata": {
        "id": "MPOQu5JoGzOG",
        "colab_type": "code",
        "colab": {}
      },
      "source": [
        "line_list = ['  line 1\\n', 'line 2  \\n', ...]\n",
        "\n",
        "# Generator expression -- returns iterator\n",
        "stripped_iter = (line.strip() for line in line_list)\n",
        "\n",
        "# List comprehension -- returns list\n",
        "stripped_list = [line.strip() for line in line_list]"
      ],
      "execution_count": 0,
      "outputs": []
    },
    {
      "cell_type": "markdown",
      "metadata": {
        "id": "3UNVEG8NG_wO",
        "colab_type": "text"
      },
      "source": [
        "### Some more generators"
      ]
    },
    {
      "cell_type": "markdown",
      "metadata": {
        "id": "BEwHdD2T6eqC",
        "colab_type": "text"
      },
      "source": [
        "Create a generator object that will iterate over 100 values"
      ]
    },
    {
      "cell_type": "code",
      "metadata": {
        "id": "JDkyzjm86iwu",
        "colab_type": "code",
        "colab": {}
      },
      "source": [
        "import random\n",
        "rolls = ((random.randint(1,6), random.randint(1,6)) for u in range(10))\n",
        "print(rolls)"
      ],
      "execution_count": 0,
      "outputs": []
    },
    {
      "cell_type": "code",
      "metadata": {
        "id": "fNqH75zI6zXg",
        "colab_type": "code",
        "colab": {}
      },
      "source": [
        "hardways = any(d1 == d2 for d1, d2 in rolls)\n",
        "print(hardways)"
      ],
      "execution_count": 0,
      "outputs": []
    },
    {
      "cell_type": "markdown",
      "metadata": {
        "id": "yHrwuxuV6uT8",
        "colab_type": "text"
      },
      "source": [
        "This generator has an internal state: **it can only be used once**"
      ]
    },
    {
      "cell_type": "code",
      "metadata": {
        "id": "eTxS9oTj8-Mc",
        "colab_type": "code",
        "colab": {}
      },
      "source": [
        "print(\"rolls\")\n",
        "for t in rolls:\n",
        "    print(t)\n",
        "print(\"rolls again\")\n",
        "for t in rolls:\n",
        "    print(t)"
      ],
      "execution_count": 0,
      "outputs": []
    },
    {
      "cell_type": "markdown",
      "metadata": {
        "id": "eEGKArPs-e-p",
        "colab_type": "text"
      },
      "source": [
        "### The number primes between 1 and 100\n",
        "\n",
        "- Calculation of the prime numbers between 1 and 100 using the \n",
        "[sieve of Eratosthenes](https://en.wikipedia.org/wiki/Sieve_of_Eratosthenes): "
      ]
    },
    {
      "cell_type": "code",
      "metadata": {
        "id": "yoKHPJqo_Fmm",
        "colab_type": "code",
        "colab": {}
      },
      "source": [
        "noprimes = [j for i in range(2, 8) for j in range(i*2, 100, i)]\n",
        "primes = [x for x in range(2, 100) if x not in noprimes]\n",
        "print(primes)"
      ],
      "execution_count": 0,
      "outputs": []
    },
    {
      "cell_type": "markdown",
      "metadata": {
        "id": "EDjER37k_vzr",
        "colab_type": "text"
      },
      "source": [
        "We want to bring the previous example into more general form, so that we can calculate the list of prime numbers up to an arbitrary number n:"
      ]
    },
    {
      "cell_type": "code",
      "metadata": {
        "id": "lT6dOzLj_0S9",
        "colab_type": "code",
        "colab": {}
      },
      "source": [
        "from math import sqrt\n",
        "n = 100\n",
        "sqrt_n = int(sqrt(n))\n",
        "no_primes = [j for i in range(2, sqrt_n+1) for j in range(i*2, n, i)]"
      ],
      "execution_count": 0,
      "outputs": []
    },
    {
      "cell_type": "markdown",
      "metadata": {
        "id": "Lf0Wmck7AHyx",
        "colab_type": "text"
      },
      "source": [
        "If we have a look at the content of no_primes, we can see that there are lots of double entries contained in this list."
      ]
    },
    {
      "cell_type": "markdown",
      "metadata": {
        "id": "pIV3oWLMAUcI",
        "colab_type": "text"
      },
      "source": [
        "## Set Comprehensions"
      ]
    },
    {
      "cell_type": "markdown",
      "metadata": {
        "id": "igMVzjXXAfSG",
        "colab_type": "text"
      },
      "source": [
        "### Set Comprehension\n",
        "\n",
        "- A set comprehension is similar to a list comprehension, but returns a set and not a list\n",
        "\n",
        "- Syntactically, we use curly brackets instead of square brackets to create a set\n",
        "\n",
        "- Set comprehension is the right functionality to solve our problem from the previous subsection:\n",
        "  - We are able to create the set of non primes without doublets:"
      ]
    },
    {
      "cell_type": "code",
      "metadata": {
        "id": "oK2aUodzAyBH",
        "colab_type": "code",
        "colab": {}
      },
      "source": [
        "from math import sqrt\n",
        "n = 100\n",
        "sqrt_n = int(sqrt(n))\n",
        "no_primes = {j for i in range(2, sqrt_n+1) for j in range(i*2, n, i)}"
      ],
      "execution_count": 0,
      "outputs": []
    },
    {
      "cell_type": "markdown",
      "metadata": {
        "id": "8PbqcmOOBA0V",
        "colab_type": "text"
      },
      "source": [
        "### Recursive Function to Calculate the Primes\n",
        "\n",
        "- The following Python script uses a recursive function to calculate the prime numbers\n",
        "- It incorporates the fact that it is enough to examine the multiples of the prime numbers up to the square root of n"
      ]
    },
    {
      "cell_type": "code",
      "metadata": {
        "id": "VUh77XqpBJkH",
        "colab_type": "code",
        "colab": {}
      },
      "source": [
        "from math import sqrt\n",
        "def primes(n):\n",
        "    if n == 0:\n",
        "        return {}\n",
        "    elif n == 1:\n",
        "        return {}\n",
        "    else:\n",
        "        p = primes(int(sqrt(n)))\n",
        "        no_p = {j for i in p for j in range(i*2, n+1, i)}\n",
        "        p = {x for x in range(2, n + 1) if x not in no_p}\n",
        "    return p"
      ],
      "execution_count": 0,
      "outputs": []
    },
    {
      "cell_type": "code",
      "metadata": {
        "id": "efQq1-OJBOsH",
        "colab_type": "code",
        "colab": {}
      },
      "source": [
        "for i in range(1,12):\n",
        "    print(\"{0}\\t{1}\".format(i, primes(i)))"
      ],
      "execution_count": 0,
      "outputs": []
    },
    {
      "cell_type": "markdown",
      "metadata": {
        "id": "yrMJ0xyrxGGN",
        "colab_type": "text"
      },
      "source": [
        "## Dictionary comprehensions\n",
        "\n",
        "- With dict comprehension or dictionary comprehension, one can easily create dictionaries\n",
        "\n",
        "```\n",
        ">>> dict= {k: v for k, v in zip(['a', 'b', 'c'], [1, 2, 3])}\n",
        ">>> print(dict)\n",
        "```"
      ]
    },
    {
      "cell_type": "markdown",
      "metadata": {
        "id": "4L_GPdRzIvCn",
        "colab_type": "text"
      },
      "source": [
        "dict comprehension to create dict with numbers as values"
      ]
    },
    {
      "cell_type": "code",
      "metadata": {
        "id": "wRRm-_6ZImtP",
        "colab_type": "code",
        "colab": {}
      },
      "source": [
        "dict = {str(i):i for i in [1,2,3,4,5]}\n",
        "print(dict)"
      ],
      "execution_count": 0,
      "outputs": []
    },
    {
      "cell_type": "markdown",
      "metadata": {
        "id": "7EcvLvGvI0kZ",
        "colab_type": "text"
      },
      "source": [
        "Create list of fruits"
      ]
    },
    {
      "cell_type": "code",
      "metadata": {
        "id": "mw3NumBwI6ti",
        "colab_type": "code",
        "colab": {}
      },
      "source": [
        "fruits = ['apple', 'mango', 'banana','cherry']"
      ],
      "execution_count": 0,
      "outputs": []
    },
    {
      "cell_type": "markdown",
      "metadata": {
        "id": "Fwv3RbIQI97i",
        "colab_type": "text"
      },
      "source": [
        "dict comprehension to create dict with fruit name as keys"
      ]
    },
    {
      "cell_type": "code",
      "metadata": {
        "id": "XY7nTffHJAZk",
        "colab_type": "code",
        "colab": {}
      },
      "source": [
        "dict = {f:len(f) for f in fruits}\n",
        "print(dict)"
      ],
      "execution_count": 0,
      "outputs": []
    },
    {
      "cell_type": "markdown",
      "metadata": {
        "id": "1W-Cx_-2JETS",
        "colab_type": "text"
      },
      "source": [
        "dict comprehension example using enumerate function"
      ]
    },
    {
      "cell_type": "code",
      "metadata": {
        "id": "_I5JVaB5JG3P",
        "colab_type": "code",
        "colab": {}
      },
      "source": [
        "f_dict = {f:i for i,f in enumerate(fruits)}\n",
        "print(f_dict)"
      ],
      "execution_count": 0,
      "outputs": []
    },
    {
      "cell_type": "markdown",
      "metadata": {
        "id": "hFHJJ4KGJOpZ",
        "colab_type": "text"
      },
      "source": [
        "dict comprehension to reverse key:value pair in a dictionary"
      ]
    },
    {
      "cell_type": "code",
      "metadata": {
        "id": "0n9ecDx9JTD7",
        "colab_type": "code",
        "colab": {}
      },
      "source": [
        "dict = {v:k for k,v in f_dict.items()}\n",
        "print(dict)"
      ],
      "execution_count": 0,
      "outputs": []
    },
    {
      "cell_type": "markdown",
      "metadata": {
        "id": "Zz-UtV8ORH_t",
        "colab_type": "text"
      },
      "source": [
        "# Ticket to leave"
      ]
    },
    {
      "cell_type": "markdown",
      "metadata": {
        "id": "C-hchAExRRVh",
        "colab_type": "text"
      },
      "source": [
        "## Moodle activity\n",
        "\n",
        "[LE16:FP with collections](https://moodle.up.pt/mod/quiz/view.php?id=46035)"
      ]
    },
    {
      "cell_type": "markdown",
      "metadata": {
        "id": "uV1OP6ahRYne",
        "colab_type": "text"
      },
      "source": [
        "\n",
        "$\\Rightarrow$ \n",
        "[Go back to the Table of Contents](00-contents.ipynb)\n",
        "\n",
        "$\\Rightarrow$ \n",
        "[Read the Preface](00-preface.ipynb)"
      ]
    }
  ]
}