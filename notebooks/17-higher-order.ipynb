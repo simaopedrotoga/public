{
  "nbformat": 4,
  "nbformat_minor": 0,
  "metadata": {
    "colab": {
      "name": "17-higher-order.ipynb",
      "provenance": [],
      "private_outputs": true,
      "collapsed_sections": [],
      "toc_visible": true
    },
    "kernelspec": {
      "name": "python3",
      "display_name": "Python 3"
    }
  },
  "cells": [
    {
      "cell_type": "markdown",
      "metadata": {
        "id": "8z5cONg8rUrX",
        "colab_type": "text"
      },
      "source": [
        "# Higher-order functions\n",
        "\n",
        "## Programming Fundamentals (NB17)\n",
        "\n",
        "### MIEIC/2019-20\n",
        "\n",
        "#### João Correia Lopes\n",
        "\n",
        "INESC TEC, FEUP"
      ]
    },
    {
      "cell_type": "markdown",
      "metadata": {
        "id": "MZzE7pYorju5",
        "colab_type": "text"
      },
      "source": [
        "## Goals\n",
        "\n",
        "By the end of this class, the student should be able to:\n",
        "\n",
        "- Describe the use higher-order functions\n",
        "- Describe the use nested functions and closures\n",
        "- Describe the use function *currying* and *uncurrying*\n",
        "- Describe the use Partial function application\n",
        "- Describe the use the operators available in Python module `Operators`"
      ]
    },
    {
      "cell_type": "markdown",
      "metadata": {
        "id": "eR5Lh1jNroE2",
        "colab_type": "text"
      },
      "source": [
        "## Bibliography\n",
        "\n",
        "- David Mertz, *Functional Programming in Python*, O'Reilly Media, 2015 \n",
        "[[HTML]](https://www.oreilly.com/library/view/functional-programming-in/9781492048633/)\n",
        "- Composing Programs, a free online introduction to programming and computer science (Section 1.6)\n",
        "[[HTML]](https://composingprograms.com/pages/16-higher-order-functions.html)\n"
      ]
    },
    {
      "cell_type": "markdown",
      "metadata": {
        "id": "2AV6AFCENHU9",
        "colab_type": "text"
      },
      "source": [
        "# First-class functions\n",
        "\n",
        "> When you say that a language has first-class functions, it means that the language treats functions as values:\n",
        "\n",
        "- You can store the function in a variable\n",
        "- You can pass the function as a parameter to another function\n",
        "- You can return the function from a function\n",
        "- You can store them in data structures such as hash tables, lists, …\n",
        "- In Python a function is an instance of the Object type"
      ]
    },
    {
      "cell_type": "markdown",
      "metadata": {
        "id": "15ls6BuGt20d",
        "colab_type": "text"
      },
      "source": [
        "A Python program to illustrate functions can be treated as objects:"
      ]
    },
    {
      "cell_type": "code",
      "metadata": {
        "id": "7o67mc3P8K_0",
        "colab_type": "code",
        "colab": {}
      },
      "source": [
        "def shout(text):\n",
        "    return text.upper() + \"!\"\n",
        "\n",
        "print(shout('Hello'))\n",
        "\n",
        "yell = shout\n",
        "  \n",
        "print(yell('Goodbye'))"
      ],
      "execution_count": 0,
      "outputs": []
    },
    {
      "cell_type": "markdown",
      "metadata": {
        "id": "Lqx4KeASNpgX",
        "colab_type": "text"
      },
      "source": [
        "## First-class vs Higher-order functions"
      ]
    },
    {
      "cell_type": "markdown",
      "metadata": {
        "id": "rTkPUAdqN7Qb",
        "colab_type": "text"
      },
      "source": [
        "### Higher-order functions\n",
        "\n",
        "- To express certain general patterns as named concepts, we will need to construct functions that can accept other functions as arguments or return functions as values\n",
        "\n",
        "- Functions that manipulate functions are called **higher-order functions**\n",
        "\n",
        "- higher-order functions (HOF) can serve as powerful abstraction mechanisms, vastly increasing the expressive power of our language"
      ]
    },
    {
      "cell_type": "markdown",
      "metadata": {
        "id": "uHcujs5u85Cp",
        "colab_type": "text"
      },
      "source": [
        "### “higher-order” vs. “first-class”\n",
        "\n",
        "- The “higher-order” (HOF) concept can be applied to functions in general, like functions in the mathematical sense\n",
        "\n",
        "- The “first-class” concept only has to do with functions in programming languages:\n",
        "\n",
        "  - It’s not used when referring to a function, such as “a first-class function”\n",
        "\n",
        "  - It’s much more common to say that “a language has/hasn’t first-class function support”\n",
        "\n",
        "- The two things are closely related, as it’s hard to imagine a language with first-class functions that would not also support higher-order functions, and conversely a language with higher-order functions but without first-class function support."
      ]
    },
    {
      "cell_type": "markdown",
      "metadata": {
        "id": "gwITsONp9kfk",
        "colab_type": "text"
      },
      "source": [
        "# Higher-order functions"
      ]
    },
    {
      "cell_type": "markdown",
      "metadata": {
        "id": "W2EiUbtaP1Lx",
        "colab_type": "text"
      },
      "source": [
        "## HOF\n",
        "\n",
        "- We already seen the built-in HOF before\n",
        "\n",
        "  - `map()`, `filter()`\n",
        "\n",
        "- We saw an iterator algebra that builds on the `itertools` module. \n",
        "\n",
        "- In some ways, HOF provide similar building blocks to express complex\n",
        "concepts by combining simpler functions into new functions"
      ]
    },
    {
      "cell_type": "markdown",
      "metadata": {
        "id": "nqErC3Bvk-Yc",
        "colab_type": "text"
      },
      "source": [
        "### Sorting: An Example of Higher-Order Functions\n",
        "\n",
        "- In order to define non-default sorting in Python, both the `sorted()` function and the list’s `sort()` method accept a key argument\n",
        "\n",
        "- The value passed to this argument needs to be a function object that returns the sorting key for any item in the list or iterable\n",
        "\n",
        "```\n",
        ">>> def second_element(t):\n",
        "...     return t[1]\n",
        "...\n",
        ">>> zepp = [('Guitar', 'Jimmy'), ('Vocals', 'Robert'), ('Bass', 'John Paul'), ('Drums', 'John')]\n",
        "\n",
        ">>> sorted(zepp)\n",
        "[('Bass', 'John Paul'), ('Drums', 'John'), ('Guitar', 'Jimmy'), ('Vocals', 'Robert')]\n",
        "\n",
        ">>> sorted(zepp, key=second_element)\n",
        "[('Guitar', 'Jimmy'), ('Drums', 'John'), ('Bass', 'John Paul'), ('Vocals', 'Robert')]\n",
        "```"
      ]
    },
    {
      "cell_type": "markdown",
      "metadata": {
        "id": "g4Sv16CjUNPI",
        "colab_type": "text"
      },
      "source": [
        "## Functions as parameters"
      ]
    },
    {
      "cell_type": "markdown",
      "metadata": {
        "id": "dWgBZCvjFr8W",
        "colab_type": "text"
      },
      "source": [
        "### sum_squares()\n",
        "\n",
        "- Consider the functions `sum_squares()`, which computes the sum of the cubes of natural numbers up to `n`\n",
        "\n",
        "```\n",
        ">>> def sum_squares(n):\n",
        "        total, k = 0, 1\n",
        "        while k <= n:\n",
        "            total, k = total + k*k, k + 1\n",
        "        return total\n",
        "\n",
        ">>> sum_squares(100)\n",
        "338350\n",
        "```\n"
      ]
    },
    {
      "cell_type": "markdown",
      "metadata": {
        "id": "OqypUGLBGO8k",
        "colab_type": "text"
      },
      "source": [
        "### sum_cubes()\n",
        "\n",
        "- Consider the functions `sum_cubes()`, which computes the sum of the cubes of natural numbers up to `n`\n",
        "\n",
        "```\n",
        ">>> def sum_cubes(n):\n",
        "        total, k = 0, 1\n",
        "        while k <= n:\n",
        "            total, k = total + k*k*k, k + 1\n",
        "        return total\n",
        "\n",
        ">>> sum_cubes(100)\n",
        "25502500\n",
        "```\n",
        "\n"
      ]
    },
    {
      "cell_type": "markdown",
      "metadata": {
        "id": "gcta-M8YHYnC",
        "colab_type": "text"
      },
      "source": [
        "- `sum_squares()` and `sum_cubes()` clearly share a common underlying pattern\n",
        "  - They are for the most part identical, differing only in name and the **function of k used to compute the term** to be added"
      ]
    },
    {
      "cell_type": "markdown",
      "metadata": {
        "id": "OZwGJHQnH7Tb",
        "colab_type": "text"
      },
      "source": [
        "### `summation()` HOF\n",
        "\n",
        "- `summation()` takes as its two arguments the upper bound `n` together with the function `term` that computes the kth term\n",
        "\n",
        "```\n",
        ">>> def summation(n, term):\n",
        "        total, k = 0, 1\n",
        "        while k <= n:\n",
        "            total, k = total + term(k), k + 1\n",
        "        return total\n",
        "```\n"
      ]
    },
    {
      "cell_type": "markdown",
      "metadata": {
        "id": "vrc9SFxvTGtZ",
        "colab_type": "text"
      },
      "source": [
        "```\n",
        ">>> def cube(x):\n",
        "        return x*x*x\n",
        ">>> def sum_cubes(n):\n",
        "        return summation(n, cube)\n",
        ">>> sum_cubes(100)\n",
        "25502500\n",
        "```\n",
        "$\\Rightarrow$ [Python tutor](http://www.pythontutor.com/visualize.html#mode=edit)"
      ]
    },
    {
      "cell_type": "markdown",
      "metadata": {
        "id": "vrSEIQKTTgpu",
        "colab_type": "text"
      },
      "source": [
        "### `sum_naturals()`\n",
        "\n",
        "```\n",
        ">>> def identity(x):\n",
        "        return x\n",
        "\n",
        ">>> def sum_naturals(n):\n",
        "        return summation(n, identity)\n",
        "\n",
        ">>> sum_naturals(10)\n",
        "55\n",
        "```"
      ]
    },
    {
      "cell_type": "markdown",
      "metadata": {
        "id": "M4oYdqyYO6Bj",
        "colab_type": "text"
      },
      "source": [
        "### Callbacks\n",
        "\n",
        "- In a higher order function, when one of the parameters passed in is a function, that function is a callback function because it will be called back and used within the higher order function\n",
        "\n",
        "- A higher order function is named as such because when using a callback to perform an operation within itself, the function has a ‘higher’ purpose than a regular function\n",
        "\n",
        "- When it returns a function, it also has a ‘higher’ purpose"
      ]
    },
    {
      "cell_type": "markdown",
      "metadata": {
        "id": "5lSdlWZtURna",
        "colab_type": "text"
      },
      "source": [
        "## Functions as return values"
      ]
    },
    {
      "cell_type": "markdown",
      "metadata": {
        "id": "sLYd-WMOYN--",
        "colab_type": "text"
      },
      "source": [
        "### Nested functions\n",
        "\n",
        "- A function which is defined inside another function is known as nested function\n",
        "\n",
        "- Nested functions are able to access variables of the enclosing scope\n",
        "\n",
        "- In Python, these non-local variables can be accessed only within their scope and not outside their scope"
      ]
    },
    {
      "cell_type": "markdown",
      "metadata": {
        "id": "lBXIr-EZZCQW",
        "colab_type": "text"
      },
      "source": [
        "```\n",
        "def outerFunction(text):\n",
        "    itext = text\n",
        "\n",
        "    def innerFunction():   # nested function\n",
        "        print(itext)       # accesses 'itext' as non-local variable\n",
        "  \n",
        "    innerFunction()\n",
        "\n",
        "outerFunction('Hey!')\n",
        "```"
      ]
    },
    {
      "cell_type": "markdown",
      "metadata": {
        "id": "A6oEPkQgW8I7",
        "colab_type": "text"
      },
      "source": [
        "### Closures\n",
        "\n",
        "- A closure is a way of keeping alive a variable even when the function has returned\n",
        "\n",
        "- In a closure, a function is defined along with the environment\n",
        "\n",
        "- In Python, this is done by nesting a function inside the encapsulating function and then returning the underlying function\n",
        "\n",
        "```\n",
        "def add_5():\n",
        "    five = 5\n",
        "    def add(arg):  # nesting functions\n",
        "        return arg + five\n",
        "    return add\n",
        "\n",
        "    closure1 = add_5()\n",
        "    print(closure1(1))  # output 6\n",
        "    print(closure1(2))  # output 7\n",
        "```"
      ]
    },
    {
      "cell_type": "markdown",
      "metadata": {
        "id": "gyCdangt1KVh",
        "colab_type": "text"
      },
      "source": [
        "Another more general closure:"
      ]
    },
    {
      "cell_type": "code",
      "metadata": {
        "id": "oOfhUj-i01Rs",
        "colab_type": "code",
        "colab": {}
      },
      "source": [
        "def outer(a):\n",
        "     def inner(b):\n",
        "         return a + b\n",
        "     return inner\n",
        "\n",
        "add5 = outer(5)\n",
        "print(add5)\n",
        "\n",
        "print(add5(10))"
      ],
      "execution_count": 0,
      "outputs": []
    },
    {
      "cell_type": "markdown",
      "metadata": {
        "id": "hxlLkHX0c852",
        "colab_type": "text"
      },
      "source": [
        "### Example of using closures\n",
        "\n",
        "```\n",
        "import logging\n",
        "logging.basicConfig(filename='example.log', level=logging.INFO)\n",
        "\n",
        "def logger(func):\n",
        "    def log_func(*args):\n",
        "        logging.info(\n",
        "            'Running \"{}\" with arguments {}'.format(func.__name__, args))\n",
        "        return func(*args)\n",
        "    return log_func    # returning WITHOUT parenthesis\n",
        "\n",
        "def add(x, y): return x+y\n",
        "add_logger = logger(add)\n",
        "print(add_logger(3, 3))\n",
        "print(add_logger(4, 5))\n",
        "\n",
        "def sub(x, y): return x-y\n",
        "sub_logger = logger(sub)\n",
        "print(sub_logger(10, 5))\n",
        "print(sub_logger(20, 10))\n",
        "```\n",
        "\n",
        "$\\Rightarrow$ \n",
        "https://www.geeksforgeeks.org/python-closures/"
      ]
    },
    {
      "cell_type": "markdown",
      "metadata": {
        "id": "yumYhUoyUarq",
        "colab_type": "text"
      },
      "source": [
        "## Utility Higher-Order Functions"
      ]
    },
    {
      "cell_type": "markdown",
      "metadata": {
        "id": "bWWCbex5lBTK",
        "colab_type": "text"
      },
      "source": [
        "### `compose()`\n",
        "\n",
        "- A handy utility is `compose()` that takes a sequence of functions \n",
        "and returns a function that represents the application of \n",
        "each of these argument functions to a data argument:\n",
        "\n",
        "```\n",
        "def compose(*funcs):\n",
        "    \"\"\"Return a new function compose(f,g,...)(x) == f(g(...(x))).\"\"\"\n",
        "    def inner(data, funcs=funcs):\n",
        "        result = data\n",
        "        for f in reversed(funcs):\n",
        "            result = f(result)\n",
        "        return result\n",
        "    return inner\n",
        "```\n",
        "\n"
      ]
    },
    {
      "cell_type": "markdown",
      "metadata": {
        "id": "PWSpkv8ul9tw",
        "colab_type": "text"
      },
      "source": [
        "```\n",
        ">>> times2 = lambda x: x*2\n",
        ">>> minus3 = lambda x: x-3\n",
        ">>> mod6 = lambda x: x%6\n",
        ">>> f = compose(mod6, times2, minus3)\n",
        ">>> all(f(i)==((i-3)*2)%6 for i in range(1000000))\n",
        "True\n",
        "```"
      ]
    },
    {
      "cell_type": "markdown",
      "metadata": {
        "id": "M86jTaNQnlEq",
        "colab_type": "text"
      },
      "source": [
        "## Currying"
      ]
    },
    {
      "cell_type": "markdown",
      "metadata": {
        "id": "Y7LD37xOoXVb",
        "colab_type": "text"
      },
      "source": [
        "### higher-order functions & currying\n",
        "\n",
        "- We can use higher-order functions to convert a function that takes multiple arguments into a chain of functions that each take a single argument\n",
        "\n",
        "- More specifically, given a function `f(x, y)`, we can define a function `g` such that `g(x)(y)` is equivalent to `f(x, y)`\n",
        "\n",
        "- Here, `g` is a higher-order function that takes in a single argument `x` and returns another function that takes in a single argument `y`\n",
        "\n",
        "- This transformation is called *currying*<sup>1</sup>\n",
        "\n",
        "<sup>1</sup> Named after [Haskell Curry](https://en.wikipedia.org/wiki/Haskell_Curry)"
      ]
    },
    {
      "cell_type": "markdown",
      "metadata": {
        "id": "8rZMl3OWprS0",
        "colab_type": "text"
      },
      "source": [
        "- As an example, we can define a curried version of the `pow()` function:"
      ]
    },
    {
      "cell_type": "code",
      "metadata": {
        "id": "64cwSCbCpwKf",
        "colab_type": "code",
        "colab": {}
      },
      "source": [
        "def curried_pow(x):\n",
        "    def h(y):\n",
        "        return pow(x, y)\n",
        "    return h\n",
        "\n",
        "curried_pow(2)(3)"
      ],
      "execution_count": 0,
      "outputs": []
    },
    {
      "cell_type": "markdown",
      "metadata": {
        "id": "EsRy8PyFqJEp",
        "colab_type": "text"
      },
      "source": [
        "- currying is useful when we require a function that takes in only a single argument. For example, the map pattern applies a single-argument function to a sequence of values"
      ]
    },
    {
      "cell_type": "code",
      "metadata": {
        "id": "WZr-9LLKqNub",
        "colab_type": "code",
        "colab": {}
      },
      "source": [
        "def map_to_range(start, end, f):\n",
        "    while start < end:\n",
        "        print(f(start))\n",
        "        start = start + 1"
      ],
      "execution_count": 0,
      "outputs": []
    },
    {
      "cell_type": "code",
      "metadata": {
        "id": "CZEyyvnpqW8W",
        "colab_type": "code",
        "colab": {}
      },
      "source": [
        "map_to_range(0, 10, curried_pow(2))"
      ],
      "execution_count": 0,
      "outputs": []
    },
    {
      "cell_type": "markdown",
      "metadata": {
        "id": "GffHdCogqiaJ",
        "colab_type": "text"
      },
      "source": [
        "### Automate *currying*\n",
        "\n",
        "- In the above examples, we manually performed the currying transformation on the `pow()` function to obtain `curried_pow()`\n",
        "\n",
        "- Instead, we can define functions to automate *currying*\n",
        "\n",
        "```\n",
        "def curry2(f):\n",
        "    \"\"\"Return a curried version of the given two-argument function.\"\"\"\n",
        "    def g(x):\n",
        "        def h(y):\n",
        "            return f(x, y)\n",
        "        return h\n",
        "    return g\n",
        "```"
      ]
    },
    {
      "cell_type": "markdown",
      "metadata": {
        "id": "mascfsGkrHnk",
        "colab_type": "text"
      },
      "source": [
        "### *Uncurrying*\n",
        "\n",
        "```\n",
        "def uncurry2(g):\n",
        "    \"\"\"Return a two-argument version of the given curried function.\"\"\"\n",
        "    def f(x, y):\n",
        "        return g(x)(y)\n",
        "    return f\n",
        "```"
      ]
    },
    {
      "cell_type": "markdown",
      "metadata": {
        "id": "ZBR9saa4Uebw",
        "colab_type": "text"
      },
      "source": [
        "## The functools module"
      ]
    },
    {
      "cell_type": "markdown",
      "metadata": {
        "id": "Hi-OmZYntsay",
        "colab_type": "text"
      },
      "source": [
        "### The functools module\n",
        "\n",
        "- The functools module contains some higher-order functions\n",
        "\n",
        "  - `partial()`, `add()`, `reduce()`, `sum()`, `accumulate()` (vs reduce)\n",
        "\n",
        "  - https://docs.python.org/3/library/functools.html\n",
        "\n",
        "- we already saw `reduce()`\n",
        "\n",
        "```\n",
        ">>> import functools, operator\n",
        ">>> functools.reduce(operator.add, [1, 2, 3, 4], 0)\n",
        "10\n",
        ">>> sum([1, 2, 3, 4])\n",
        "10\n",
        "```"
      ]
    },
    {
      "cell_type": "markdown",
      "metadata": {
        "id": "xxg1-kq6Ugjt",
        "colab_type": "text"
      },
      "source": [
        "### Partial function application\n",
        "\n",
        "- The most useful tool in this module is the `functools.partial()` function\n",
        "\n",
        "- For programs written in a functional style, you’ll sometimes want to construct variants of existing functions that have some of the parameters filled in\n",
        "\n",
        "- Consider a Python function `f(a, b, c)`; you may wish to create a new function `g(b, c)` that’s equivalent to `f(1, b, c)`; you’re filling in a value for one of f()’s parameters\n",
        "\n",
        "- This is called “partial function application”"
      ]
    },
    {
      "cell_type": "markdown",
      "metadata": {
        "id": "EmMlE0XxxvVD",
        "colab_type": "text"
      },
      "source": [
        "\n",
        "```\n",
        "import functools\n",
        "\n",
        "def log(message, subsystem):\n",
        "    \"\"\"Write the contents of 'message' to the specified subsystem.\"\"\"\n",
        "    print('%s: %s' % (subsystem, message))\n",
        "    ...\n",
        "\n",
        "server_log = functools.partial(log, subsystem='server')\n",
        "server_log('Unable to open socket')\n",
        "```\n",
        "$\\Rightarrow$\n",
        "https://docs.python.org/3/howto/functional.html#the-functools-module"
      ]
    },
    {
      "cell_type": "markdown",
      "metadata": {
        "id": "jXy55_JMUqcb",
        "colab_type": "text"
      },
      "source": [
        "## The operator Module"
      ]
    },
    {
      "cell_type": "markdown",
      "metadata": {
        "id": "pZHLCO9rlmT0",
        "colab_type": "text"
      },
      "source": [
        "### Useful Function Objects: operator module\n",
        "\n",
        "- There are many builtin functions in Python that accept functions as arguments\n",
        "\n",
        "- An example is the `filter()` function that was used previously\n",
        "\n",
        "- However, there are some basic actions that use operators instead of functions (like `+` or the subscript `[]` or dot `.` operators)\n",
        "\n",
        "- The `operator` module provides function versions of these operators.\n",
        "\n",
        "```\n",
        ">>> import operator\n",
        ">>> operator.add(1, 2)\n",
        "3\n",
        "```"
      ]
    },
    {
      "cell_type": "markdown",
      "metadata": {
        "id": "1TcGDStkzgbI",
        "colab_type": "text"
      },
      "source": [
        "Operator modules operations may replace the use of many lambda functions:"
      ]
    },
    {
      "cell_type": "code",
      "metadata": {
        "id": "MpzpLaAN1yGp",
        "colab_type": "code",
        "colab": {}
      },
      "source": [
        "import operator, functools\n",
        "functools.reduce(operator.concat, ['A', 'BB', 'A'])"
      ],
      "execution_count": 0,
      "outputs": []
    },
    {
      "cell_type": "markdown",
      "metadata": {
        "id": "Ti81jV1B13HB",
        "colab_type": "text"
      },
      "source": [
        "And may also be used as key to sort collections:"
      ]
    },
    {
      "cell_type": "code",
      "metadata": {
        "id": "k1ZJBZ0Ql4xY",
        "colab_type": "code",
        "colab": {}
      },
      "source": [
        "zepp = [('Guitar', 'Jimmy'), ('Vocals', 'Robert'), ('Bass', 'John Paul'), ('Drums', 'John')]\n",
        "\n",
        "sorted(zepp)\n",
        "[('Bass', 'John Paul'), ('Drums', 'John'), ('Guitar', 'Jimmy'), ('Vocals', 'Robert')]"
      ],
      "execution_count": 0,
      "outputs": []
    },
    {
      "cell_type": "code",
      "metadata": {
        "id": "H3o4jHCwy3Kl",
        "colab_type": "code",
        "colab": {}
      },
      "source": [
        "import operator\n",
        "\n",
        "sorted(zepp, key=operator.itemgetter(1))\n",
        "[('Guitar', 'Jimmy'), ('Drums', 'John'), ('Bass', 'John Paul'), ('Vocals', 'Robert')]"
      ],
      "execution_count": 0,
      "outputs": []
    },
    {
      "cell_type": "markdown",
      "metadata": {
        "id": "8bEPn3Juz9zr",
        "colab_type": "text"
      },
      "source": [
        "$\\Rightarrow$\n",
        "https://www.protechtraining.com/content/python_fundamentals_tutorial-functional_programming"
      ]
    },
    {
      "cell_type": "markdown",
      "metadata": {
        "id": "D3_75EJy2QV-",
        "colab_type": "text"
      },
      "source": [
        "## Function decorators\n",
        "\n",
        "- Yes, there's more....\n",
        "\n",
        "$\\Rightarrow$ \n",
        "[Primer on Python Decorators](https://realpython.com/primer-on-python-decorators/#simple-decorators)\n",
        "\n",
        "$\\Rightarrow$ \n",
        "[13.10. Decorators](https://www.protechtraining.com/content/python_fundamentals_tutorial-functional_programming)\n"
      ]
    },
    {
      "cell_type": "markdown",
      "metadata": {
        "id": "Zz-UtV8ORH_t",
        "colab_type": "text"
      },
      "source": [
        "# Ticket to leave"
      ]
    },
    {
      "cell_type": "markdown",
      "metadata": {
        "id": "C-hchAExRRVh",
        "colab_type": "text"
      },
      "source": [
        "## Moodle activity\n",
        "\n",
        "[LE17: Higher-order functions](https://moodle.up.pt/mod/quiz/view.php?id=47818)"
      ]
    },
    {
      "cell_type": "markdown",
      "metadata": {
        "id": "uV1OP6ahRYne",
        "colab_type": "text"
      },
      "source": [
        "\n",
        "$\\Rightarrow$ \n",
        "[Go back to the Table of Contents](00-contents.ipynb)\n",
        "\n",
        "$\\Rightarrow$ \n",
        "[Read the Preface](00-preface.ipynb)"
      ]
    }
  ]
}