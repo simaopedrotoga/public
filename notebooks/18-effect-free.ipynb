{
  "nbformat": 4,
  "nbformat_minor": 0,
  "metadata": {
    "colab": {
      "name": "18-effect-free.ipynb",
      "provenance": [],
      "private_outputs": true,
      "collapsed_sections": [],
      "toc_visible": true
    },
    "kernelspec": {
      "name": "python3",
      "display_name": "Python 3"
    }
  },
  "cells": [
    {
      "cell_type": "markdown",
      "metadata": {
        "id": "8z5cONg8rUrX",
        "colab_type": "text"
      },
      "source": [
        "# Effect-free programming style\n",
        "\n",
        "## Programming Fundamentals (NB17)\n",
        "\n",
        "### MIEIC/2019-20\n",
        "\n",
        "#### João Correia Lopes\n",
        "\n",
        "INESC TEC, FEUP"
      ]
    },
    {
      "cell_type": "markdown",
      "metadata": {
        "id": "MZzE7pYorju5",
        "colab_type": "text"
      },
      "source": [
        "## Goals\n",
        "\n",
        "By the end of this class, the student should be able to:\n",
        "\n",
        "- Describe the Effect-free programming style: function calls have no side effects and variables are immutable\n",
        "\n",
        "- Enumerate the Python language features that enables the programmer to adopt an Effect-free programming style\n"
      ]
    },
    {
      "cell_type": "markdown",
      "metadata": {
        "id": "eR5Lh1jNroE2",
        "colab_type": "text"
      },
      "source": [
        "## Bibliography\n",
        "\n",
        "- David Mertz, *Functional Programming in Python*, O'Reilly Media, 2015 \n",
        "[[HTML]](https://www.oreilly.com/library/view/functional-programming-in/9781492048633/)\n",
        "- A. M. Kuchling, *Functional Programming HOWTO*, Python 3.7 documentation, Release 0.32 [[HTML]](https://docs.python.org/3.7/howto/functional.html)\n"
      ]
    },
    {
      "cell_type": "markdown",
      "metadata": {
        "id": "9HCChEWKc_Bv",
        "colab_type": "text"
      },
      "source": [
        "# Effect-free Programming Style"
      ]
    },
    {
      "cell_type": "markdown",
      "metadata": {
        "id": "wwKXFozOdFg5",
        "colab_type": "text"
      },
      "source": [
        "### Effect-free programming style\n",
        "\n",
        "- Function calls have **no side effects** and variables are **immutable**\n",
        "\n",
        "    - Do not use `global` and `nonlocal` statements\n",
        "\n",
        "    - Take care about data types that are mutable\n",
        "\n",
        "    - Do not use Input/Output\n"
      ]
    },
    {
      "cell_type": "markdown",
      "metadata": {
        "id": "7g54hW18dU3f",
        "colab_type": "text"
      },
      "source": [
        "## Python & Functional Programming (recap)"
      ]
    },
    {
      "cell_type": "markdown",
      "metadata": {
        "id": "BMlkJz_1dK4H",
        "colab_type": "text"
      },
      "source": [
        "### Python & Functional Programming\n",
        "\n",
        "> Python is most definitely not a \"pure functional programming\n",
        "> language\"; side effects are widespread in most Python programs. That\n",
        "> is, variables are frequently rebound, mutable data collections often\n",
        "> change contents, and I/O is freely interleaved with computation.\n",
        ">\n",
        "> It is also not even a \"functional programming language\" more\n",
        "> generally.\n",
        ">\n",
        "> However, Python is a multiparadigm language that makes functional\n",
        "> programming easy to do when desired, and easy to mix with other\n",
        "> programming styles.<sup>1</sup>\n",
        "\n",
        "<sup>1</sup> David Mertz, Functional Programming in Python, O'Reilly Media, 2015\n"
      ]
    },
    {
      "cell_type": "markdown",
      "metadata": {
        "id": "gl6dz34fdaYN",
        "colab_type": "text"
      },
      "source": [
        "### Functional Programming\n",
        "\n",
        "- In a functional program, input flows through a set of functions\n",
        "\n",
        "- Each function operates on its input and produces some output\n",
        "\n",
        "- Functional style discourages functions with *side effects* that\n",
        "    *modify internal state* or make other changes that aren't visible in\n",
        "    the function's return value\n",
        "\n",
        "- Functions that have no side effects at all are called **purely\n",
        "    functional**\n",
        "\n",
        "- Avoiding side effects means not using data structures that get\n",
        "    updated as a program runs; **every function's output must only depend\n",
        "    on its input**"
      ]
    },
    {
      "cell_type": "markdown",
      "metadata": {
        "id": "1NLnzG1Xdzfh",
        "colab_type": "text"
      },
      "source": [
        "### Advantages of the functional style\n",
        "\n",
        "Why should you avoid objects (OOP) and side effects?\n",
        "\n",
        "- There are theoretical (T) and practical (P) advantages to the\n",
        "    functional style:\n",
        "\n",
        "    - Formal provability (T)\n",
        "\n",
        "    - Modularity (P)\n",
        "\n",
        "    - Ease of debugging and testing (P)\n",
        "\n",
        "    - Composability (P)\n",
        "\n",
        "> Effect-free code:\n",
        ">\n",
        "> The advantage of a pure function and side-effect free\n",
        "> code is that it is generally easier to debug and test."
      ]
    },
    {
      "cell_type": "markdown",
      "metadata": {
        "id": "xIfeUTAqd6dY",
        "colab_type": "text"
      },
      "source": [
        "## 4.17.1 Modifiers vs Pure Functions"
      ]
    },
    {
      "cell_type": "markdown",
      "metadata": {
        "id": "lDgjkk-_d-42",
        "colab_type": "text"
      },
      "source": [
        "### Modifiers vs Pure Functions (recap)\n",
        "\n",
        "- Functions which take lists as arguments and change them during\n",
        "    execution are called **modifiers** and the changes they make are\n",
        "    called **side effects**\n",
        "\n",
        "- A **pure function** does not produce side effects\n",
        "\n",
        "    - It communicates with the calling program only through\n",
        "        parameters, which it does not modify, and a return value\n",
        "\n",
        "```\n",
        "   def double_stuff(values):\n",
        "       \"\"\" Double the elements of values \"\"\"\n",
        "       for index, value in enumerate(values):\n",
        "           values[index] = 2 * value\n",
        "```\n",
        "\n",
        "- Is `double_stuff()` pure?"
      ]
    },
    {
      "cell_type": "markdown",
      "metadata": {
        "id": "WewZk4dseKGd",
        "colab_type": "text"
      },
      "source": [
        "## Iterators"
      ]
    },
    {
      "cell_type": "markdown",
      "metadata": {
        "id": "0Fbr_35deM_B",
        "colab_type": "text"
      },
      "source": [
        "### Iterators (recap)\n",
        "\n",
        "- Iterators are an important foundation for writing functional-style\n",
        "    programs\n",
        "\n",
        "- An iterator is an object representing a stream of data and returns\n",
        "    the data one element at a time\n",
        "\n",
        "- Several of Python's built-in data types support iteration, the most\n",
        "    common being lists and dictionaries\n",
        "\n",
        "- An object is called **iterable** if you can **get an iterator for\n",
        "    it**\n",
        "\n",
        "- Python expects iterable objects in several different contexts, the\n",
        "    most important being the `for` statement\n",
        "\n",
        "- Iterators can be **materialised** as lists or tuples by using the\n",
        "    `list()` or `tuple()` constructor functions\n",
        "\n",
        "- Built-in functions such as `max()` and `min()` can take a single\n",
        "    iterator argument\n",
        "\n",
        "- The `in` and `not in` operators also support iterators\n",
        "\n",
        "- Note that you can **only go forward in an iterator**; there's no way\n",
        "  to get the previous element, reset the iterator, or make a copy of it"
      ]
    },
    {
      "cell_type": "markdown",
      "metadata": {
        "id": "M3n2cKayh3-Z",
        "colab_type": "text"
      },
      "source": [
        "### An iterable and an iterator\n",
        "\n",
        "```\n",
        ">>> simple_list = [1, 2, 3]\n",
        ">>> my_iterator = iter(simple_list)\n",
        "```\n",
        "\n",
        "- The iterator protocol is implemented whenever you iterate over a sequence of data\n",
        "- For example, when you use a for loop the following is happening on a background:\n",
        "  - first `iter()` method is called on the object to converts it to an iterator object\n",
        "  - `next()` method is called on the iterator object to get the next element of the sequence\n",
        "  - `StopIteration` exception is raised when there are no elements left to call"
      ]
    },
    {
      "cell_type": "markdown",
      "metadata": {
        "id": "3wUzYJnImOAW",
        "colab_type": "text"
      },
      "source": [
        "Try it:"
      ]
    },
    {
      "cell_type": "code",
      "metadata": {
        "id": "3gsvoaryhzd_",
        "colab_type": "code",
        "colab": {}
      },
      "source": [
        "simple_list = [1, 2, 3]\n",
        "my_iterator = iter(simple_list)\n",
        "\n",
        "print(my_iterator)\n",
        "print(next(my_iterator))\n",
        "print(next(my_iterator))\n",
        "print(next(my_iterator))\n",
        "print(next(my_iterator))"
      ],
      "execution_count": 0,
      "outputs": []
    },
    {
      "cell_type": "markdown",
      "metadata": {
        "id": "gykS36rie_GE",
        "colab_type": "text"
      },
      "source": [
        "## (Avoiding) Flow Control"
      ]
    },
    {
      "cell_type": "markdown",
      "metadata": {
        "id": "8g7WGm1jfC7i",
        "colab_type": "text"
      },
      "source": [
        "### Imperative Python programs\n",
        "\n",
        "- \"In typical imperative Python programs<sup>2</sup> a block of code generally\n",
        "    consists of some outside loops (`for` or `while`), assignment of\n",
        "    state variables within those loops, modification of data structures\n",
        "    like `dicts`, `lists`, and `sets` (or various other structures,\n",
        "    either from the standard library or from third-party packages), and\n",
        "    some branch statements (`if`/`elif`/`else` or\n",
        "    `try`/`except`/`finally`).\"\n",
        "\n",
        "- The imperative flow control described in the last paragraph is much\n",
        "    more about the \"how\" than the \"what\" and **we can often shift the\n",
        "    question**\n",
        "\n",
        "\n",
        "<sup>2</sup> Including those that make use of classes and methods to hold their\n",
        "    imperative code.\n"
      ]
    },
    {
      "cell_type": "markdown",
      "metadata": {
        "id": "fDNLapxXfKKk",
        "colab_type": "text"
      },
      "source": [
        "### Comprehensions\n",
        "\n",
        "- Using comprehensions is often a way both to make code more compact\n",
        "    and to *shift our focus from the \"how\" to the \"what\"*\n",
        "\n",
        "- A comprehension is an expression that uses the same keywords as loop\n",
        "    and conditional blocks, but inverts their order to **focus on the\n",
        "    data rather than on the procedure**\n",
        "\n",
        "- Simply changing the form of expression can often make a surprisingly\n",
        "    large difference in how we *reason about code* and how easy it is to\n",
        "    understand it\n",
        "\n",
        "- Python includes: *List comprehensions*, *Generator comprehensions*,\n",
        "    *Set comprehensions*, and *Dictionary comprehensions*"
      ]
    },
    {
      "cell_type": "markdown",
      "metadata": {
        "id": "ViPF8GLgfNkp",
        "colab_type": "text"
      },
      "source": [
        "### Mental shift\n",
        "\n",
        "- The *ternary operator* also performs a similar restructuring of our\n",
        "    focus, using the same keywords in a different order\n",
        "\n",
        "- For example, if our original code was:\n",
        "\n",
        "```\n",
        "   collection = list()\n",
        "   for datum in data_set:\n",
        "       if condition(datum):\n",
        "           collection.append(datum)\n",
        "       else:\n",
        "           new = modify(datum)\n",
        "           collection.append(new)\n",
        "```\n",
        "\n",
        "- Somewhat more compactly we could write this as:\n",
        "\n",
        "```\n",
        "   collection = [d if condition(d) else modify(d) for d in data_set]\n",
        "```"
      ]
    },
    {
      "cell_type": "markdown",
      "metadata": {
        "id": "uUC6sZJQfinX",
        "colab_type": "text"
      },
      "source": [
        "### Generator expressions (recap)\n",
        "\n",
        "- *Generator expressions* have the same syntax as list\n",
        "    comprehensions --- other than that there are no square brackets\n",
        "    around them (but parentheses are needed syntactically in some\n",
        "    contexts, in place of brackets)\n",
        "\n",
        "- They are also *lazy*\n",
        "\n",
        "- That is to say that they are merely a description of \"how to get the\n",
        "    data\" that is not realised until one explicitly asks for it, either\n",
        "    by calling the method `next()` on the object, or by looping over it\n",
        "    (e.g. with `for`)\n",
        "\n",
        "```\n",
        "   # create the generator object\n",
        "   log_lines = (line for line in read_line(huge_log_file)\n",
        "                     if complex_condition(line))\n",
        "```\n",
        "\n",
        "$\\Rightarrow$\n",
        "<https://github.com/fpro-feup/public/blob/master/lectures/18/generators.py>"
      ]
    },
    {
      "cell_type": "markdown",
      "metadata": {
        "id": "kjULxaoKgQb_",
        "colab_type": "text"
      },
      "source": [
        "List vs generator comprehensions:"
      ]
    },
    {
      "cell_type": "code",
      "metadata": {
        "id": "Yf9-fsF7gMHG",
        "colab_type": "code",
        "colab": {}
      },
      "source": [
        "list_comp = [x ** 2 for x in range(10) if x % 2 == 0]\n",
        "gen_exp = (x ** 2 for x in range(10) if x % 2 == 0)"
      ],
      "execution_count": 0,
      "outputs": []
    },
    {
      "cell_type": "code",
      "metadata": {
        "id": "UVaajVAHgqx5",
        "colab_type": "code",
        "colab": {}
      },
      "source": [
        "print(list_comp)\n",
        "print(gen_exp)"
      ],
      "execution_count": 0,
      "outputs": []
    },
    {
      "cell_type": "markdown",
      "metadata": {
        "id": "ummrWNe9g9lq",
        "colab_type": "text"
      },
      "source": [
        "Using the generator"
      ]
    },
    {
      "cell_type": "code",
      "metadata": {
        "id": "QLTy1zFLg_hp",
        "colab_type": "code",
        "colab": {}
      },
      "source": [
        "print(next(iter(gen_exp)))\n",
        "print(next(iter(gen_exp)))"
      ],
      "execution_count": 0,
      "outputs": []
    },
    {
      "cell_type": "markdown",
      "metadata": {
        "id": "9mgKfWeshclh",
        "colab_type": "text"
      },
      "source": [
        "There's also dict comprehensions"
      ]
    },
    {
      "cell_type": "code",
      "metadata": {
        "id": "vmkMZWoshiK4",
        "colab_type": "code",
        "colab": {}
      },
      "source": [
        "dict_comp = {x: chr(65+x) for x in range(1, 11)}\n",
        "\n",
        "print(type(dict_comp))\n",
        "print(dict_comp)"
      ],
      "execution_count": 0,
      "outputs": []
    },
    {
      "cell_type": "markdown",
      "metadata": {
        "id": "PUEodngliKFF",
        "colab_type": "text"
      },
      "source": [
        "Generator expressions again"
      ]
    },
    {
      "cell_type": "code",
      "metadata": {
        "id": "kZwWeeGAiM12",
        "colab_type": "code",
        "colab": {}
      },
      "source": [
        "gen_exp = (x ** 2 for x in range(10) if x % 2 == 0)\n",
        "\n",
        "print(gen_exp)\n",
        "for x in gen_exp:\n",
        "    print(x)"
      ],
      "execution_count": 0,
      "outputs": []
    },
    {
      "cell_type": "markdown",
      "metadata": {
        "id": "9P1KThxeigfl",
        "colab_type": "text"
      },
      "source": [
        "### Recursion (recap)\n",
        "\n",
        "- Functional programmers often put weight in **expressing flow\n",
        "    control** through recursion rather than through loops\n",
        "\n",
        "- Done this way, we can **avoid altering the state** of any variables\n",
        "    or data structures within an algorithm, and more importantly get\n",
        "    more at the \"what\" than the \"how\" of a computation\n",
        "\n",
        "- In the cases where recursion is just \"iteration by another name\",\n",
        "    iteration is more \"Pythonic\"\n",
        "\n",
        "- Where recursion is compelling, and sometimes even the only really\n",
        "    obvious way to express a solution, is when a problem offers itself\n",
        "    to a \"divide and conquer\" approach (i.e., a problem can readily be\n",
        "    partitioned into smaller problems)\n",
        "\n",
        "$\\Rightarrow$\n",
        "<https://github.com/fpro-feup/public/blob/master/lectures/18/factorialR.py>"
      ]
    },
    {
      "cell_type": "markdown",
      "metadata": {
        "id": "LSCAOp4Ok1f1",
        "colab_type": "text"
      },
      "source": [
        "Factorial using the *ternary operator* to help the \"mental shift\""
      ]
    },
    {
      "cell_type": "code",
      "metadata": {
        "id": "RPE03T3biyjn",
        "colab_type": "code",
        "colab": {}
      },
      "source": [
        "def factorialR(n):\n",
        "    \"\"\"Recursive factorial function with an assert.\"\"\"\n",
        "    assert isinstance(n, int) and n >= 1\n",
        "    \n",
        "    return 1 if n <= 1 else n * factorialR(n-1)\n",
        "\n",
        "print(factorialR(5))"
      ],
      "execution_count": 0,
      "outputs": []
    },
    {
      "cell_type": "markdown",
      "metadata": {
        "id": "-G7RJGuZkLMc",
        "colab_type": "text"
      },
      "source": [
        "### A side-effect: assertions\n",
        "\n",
        "- Assertions are a systematic way to check that the internal state of a program is as the programmer expected, with the goal of catching bugs\n",
        "\n",
        "- In particular, they're good for catching false assumptions that were made while writing the code, or abuse of an interface by another programmer\n",
        "\n",
        "- In addition, they can act as in-line documentation to some extent, by making the programmer's assumptions obvious\n",
        "\n",
        ">\"Explicit is better than implicit.\""
      ]
    },
    {
      "cell_type": "code",
      "metadata": {
        "id": "DZeH6zJWjPm1",
        "colab_type": "code",
        "colab": {}
      },
      "source": [
        "print(factorialR(0))"
      ],
      "execution_count": 0,
      "outputs": []
    },
    {
      "cell_type": "code",
      "metadata": {
        "id": "s15aDGbMjRg_",
        "colab_type": "code",
        "colab": {}
      },
      "source": [
        "print(factorialR('a'))"
      ],
      "execution_count": 0,
      "outputs": []
    },
    {
      "cell_type": "markdown",
      "metadata": {
        "id": "KMK-aPZFlLz3",
        "colab_type": "text"
      },
      "source": [
        "### Recursive Quicksort with comprehensions\n",
        "\n",
        "- For example, the *quicksort algorithm* is very elegantly expressed\n",
        "    without any state variables or loops, but wholly through recursion\n",
        "\n",
        "```\n",
        "   def quicksort(lst):\n",
        "       \"\"\"Quicksort over a list-like sequence.\"\"\"\n",
        "\n",
        "       # base case: empty list\n",
        "\n",
        "       # pivots = equals to a pivot (choose one!)\n",
        "       \n",
        "       # recursive cases:\n",
        "          # small = quicksort( smaller then the pivot )\n",
        "          # large = quicksort( larger then the pivot )\n",
        "\n",
        "       return small + pivots + large\n",
        "```\n",
        "\n",
        "$\\Rightarrow$\n",
        "<https://github.com/fpro-feup/public/blob/master/lectures/18/quicksort.py>"
      ]
    },
    {
      "cell_type": "code",
      "metadata": {
        "id": "1h_iQfibllmw",
        "colab_type": "code",
        "colab": {}
      },
      "source": [
        "def quicksort(lst):\n",
        "    if len(lst) == 0:\n",
        "        return lst\n",
        "\n",
        "    pivot = lst[0]\n",
        "    pivots = [x for x in lst if x == pivot]\n",
        "    small = quicksort([x for x in lst if x < pivot])\n",
        "    large = quicksort([x for x in lst if x > pivot])\n",
        "\n",
        "    return small + pivots + large"
      ],
      "execution_count": 0,
      "outputs": []
    },
    {
      "cell_type": "code",
      "metadata": {
        "id": "oUHYBvzelwm9",
        "colab_type": "code",
        "colab": {}
      },
      "source": [
        "l = [5, 8, 2, 9, 1, 4, 8, 9, 0, 3, 2, 7]\n",
        "\n",
        "print(l)\n",
        "print(quicksort(l))"
      ],
      "execution_count": 0,
      "outputs": []
    },
    {
      "cell_type": "markdown",
      "metadata": {
        "id": "ENvDDaLSj0sx",
        "colab_type": "text"
      },
      "source": [
        "## Closures and Callable Instances"
      ]
    },
    {
      "cell_type": "markdown",
      "metadata": {
        "id": "WbQaVF3lneG5",
        "colab_type": "text"
      },
      "source": [
        "### Callables\n",
        "\n",
        "- The emphasis in functional programming is on **calling functions**\n",
        "\n",
        "- Python actually gives us several different ways to create functions,\n",
        "    or at least something very *function-like* (i.e., that can be called):\n",
        "\n",
        "    1.  Regular functions created with `def` and given a name at \n",
        "        definition time\n",
        "\n",
        "    2.  Anonymous functions created with *lambda*\n",
        "\n",
        "    3.  *Generator* functions (not seen yet)\n",
        "\n",
        "    4.  *Closures* returned by function factories"
      ]
    },
    {
      "cell_type": "markdown",
      "metadata": {
        "id": "2rcQ4YA6nvjF",
        "colab_type": "text"
      },
      "source": [
        "- OOP\n",
        "    5.  Instances of classes that define a `__call()__` method\n",
        "\n",
        "    6.  Static methods of instances, either via the `@staticmethod`\n",
        "        decorator or via the class `__dict__`"
      ]
    },
    {
      "cell_type": "markdown",
      "metadata": {
        "id": "d7MdHAU3r8KE",
        "colab_type": "text"
      },
      "source": [
        "### Named Functions and Lambdas (recap)\n",
        "\n",
        "- The most obvious ways to create callables in Python are named\n",
        "    functions and lambdas\n",
        "\n",
        "- In most cases, lambda expressions are used within Python only for\n",
        "    callbacks and other uses where a simple action is inlined into a\n",
        "    function call\n",
        "\n",
        "```\n",
        ">>> def hello1(name):\n",
        ".....    return \"Hello\" + \" \" + name\n",
        ".....\n",
        ">>> hello2 = lambda name: \"Hello\" + \" \" + name\n",
        "   \n",
        ">>> hello3 = hello2  # can bind func to other names\n",
        "```\n",
        "\n",
        "$\\Rightarrow$\n",
        "<https://github.com/fpro-feup/public/blob/master/lectures/18/callable.py>"
      ]
    },
    {
      "cell_type": "code",
      "metadata": {
        "id": "hXK68tqtsbPv",
        "colab_type": "code",
        "colab": {}
      },
      "source": [
        "def hello1(name):\n",
        "    return \"Hello\" + \" \" + name\n",
        "\n",
        "hello2 = lambda name: \"Hello\" + \" \" + name\n",
        "\n",
        "print(hello1('John'))\n",
        "print(hello2('John'))"
      ],
      "execution_count": 0,
      "outputs": []
    },
    {
      "cell_type": "markdown",
      "metadata": {
        "id": "dCyqR6Kito3j",
        "colab_type": "text"
      },
      "source": [
        "Can bind func to other names:"
      ]
    },
    {
      "cell_type": "code",
      "metadata": {
        "id": "kgYLPk-Dtt92",
        "colab_type": "code",
        "colab": {}
      },
      "source": [
        "hello3 = hello2\n",
        "\n",
        "print(hello3('John'))"
      ],
      "execution_count": 0,
      "outputs": []
    },
    {
      "cell_type": "markdown",
      "metadata": {
        "id": "kHlwskhRt2Rm",
        "colab_type": "text"
      },
      "source": [
        "What about their names (PEP 3155)?"
      ]
    },
    {
      "cell_type": "code",
      "metadata": {
        "id": "uTpSkaYztyFV",
        "colab_type": "code",
        "colab": {}
      },
      "source": [
        "print(hello3.__qualname__)\n",
        "print(hello2.__qualname__)\n",
        "print(hello1.__qualname__)"
      ],
      "execution_count": 0,
      "outputs": []
    },
    {
      "cell_type": "markdown",
      "metadata": {
        "id": "vtiFEqQquRlV",
        "colab_type": "text"
      },
      "source": [
        "### Caveats, limits, and Discipline\n",
        "\n",
        "> Functional programming style:\n",
        "> \n",
        "> In most cases, one only leaks state intentionally, and creating a certain \n",
        "> subset of all your functionality as pure functions allows for cleaner code\n",
        "\n",
        "- One of the reasons that functions are useful is that they **isolate\n",
        "    state lexically**\n",
        "\n",
        "- This is a limited form of nonmutability in that (by default) nothing\n",
        "    you do within a function will bind state variables outside the\n",
        "    function\n",
        "\n",
        "- This guarantee is very limited in that both the `global` and\n",
        "    `nonlocal` statements explicitly allow state to \"leak out\" of a\n",
        "    function\n",
        "\n",
        "- Moreover, many **data types are themselves mutable**, so if they are\n",
        "    passed into a function that function might change their contents\n",
        "\n",
        "- Furthermore, doing **I/O** can also change the \"state of the world\"\n",
        "    and hence alter results of functions<sup>3</sup>\n",
        "\n",
        "<sup>3</sup> E.g., by changing the contents of a file or a database that is \n",
        "    itself read elsewhere.\n"
      ]
    },
    {
      "cell_type": "markdown",
      "metadata": {
        "id": "dnssQu03vh3k",
        "colab_type": "text"
      },
      "source": [
        "### Closures and Callable Instances (recap)\n",
        "\n",
        "- A **closure** is \"operations with data attached\" (putting operations\n",
        "    and data in the same object)\n",
        "\n",
        "- Closures emphasise immutability and pure functions\n",
        "\n",
        "- A Closure is a function object that remembers values in enclosing\n",
        "    scopes even if they are not present in memory\n",
        "\n",
        "```\n",
        "   def make_adder(n):\n",
        "       def adder(m):\n",
        "           return m + n\n",
        "       return adder\n",
        "           \n",
        "   add5_f = make_adder(5)  # \"functional\"\n",
        "```\n",
        "\n",
        "$\\Rightarrow$\n",
        "<https://github.com/fpro-feup/public/blob/master/lectures/18/closure.py>"
      ]
    },
    {
      "cell_type": "code",
      "metadata": {
        "id": "VftLP1nyv3YK",
        "colab_type": "code",
        "colab": {}
      },
      "source": [
        "def make_adder(n):\n",
        "\n",
        "   def adder(m):\n",
        "      return n + m\n",
        "\n",
        "   return adder\n",
        "           \n",
        "add5_f = make_adder(5)  # \"functional\"\n",
        "\n",
        "add5_f(10)"
      ],
      "execution_count": 0,
      "outputs": []
    },
    {
      "cell_type": "markdown",
      "metadata": {
        "id": "oUA4TGG6jppF",
        "colab_type": "text"
      },
      "source": [
        "## Generator functions and lazy evaluation"
      ]
    },
    {
      "cell_type": "markdown",
      "metadata": {
        "id": "xHUiiqKnwc1Q",
        "colab_type": "text"
      },
      "source": [
        "### Generator Functions\n",
        "\n",
        "- A special sort of function in Python is one that contains a `yield`\n",
        "    statement, which turns the function into a generator\n",
        "\n",
        "- What is returned from calling such a function is not a regular\n",
        "    value, but rather an **iterator** that produces a sequence of values\n",
        "    as you call the `next()` function on it or loop over it\n",
        "\n",
        "```\n",
        "# a generator that yields items instead of returning a list\n",
        "def firstn(n):\n",
        "    num = 0\n",
        "    while num < n:\n",
        "        yield num   # this is NOT a return!\n",
        "        num += 1\n",
        "\n",
        "sum_of_first_n = sum(firstn(1000000))\n",
        "```\n",
        "\n",
        "- Generator expression allows creating a generator on a fly without a `yield` keyword"
      ]
    },
    {
      "cell_type": "markdown",
      "metadata": {
        "id": "jG-3QmQQnRoe",
        "colab_type": "text"
      },
      "source": [
        "Read more at [How to Use Generators and yield in Python](https://realpython.com/introduction-to-python-generators/)"
      ]
    },
    {
      "cell_type": "markdown",
      "metadata": {
        "id": "eyJnSAUMxC_p",
        "colab_type": "text"
      },
      "source": [
        "### Generator Functions (example) \n",
        "\n",
        "- For example, see the code for \"Simple lazy [Sieve of\n",
        "    Eratosthenes](https://en.wikipedia.org/wiki/Sieve_of_Eratosthenes)\"\n",
        "    in `get_primes()`\n",
        "\n",
        "$\\Rightarrow$\n",
        "<https://github.com/fpro-feup/public/blob/master/lectures/18/get_primes.py>"
      ]
    },
    {
      "cell_type": "code",
      "metadata": {
        "id": "FvAnnH2vxgJt",
        "colab_type": "code",
        "colab": {}
      },
      "source": [
        "def get_primes():\n",
        "    candidate = 2\n",
        "    found = []\n",
        "    while True:\n",
        "        if all(candidate % prime != 0 for prime in found):\n",
        "            yield candidate\n",
        "            found.append(candidate)\n",
        "        candidate += 1"
      ],
      "execution_count": 0,
      "outputs": []
    },
    {
      "cell_type": "markdown",
      "metadata": {
        "id": "UwwbVJqPy6xz",
        "colab_type": "text"
      },
      "source": [
        "- Every time you create a new object with `get_primes()` the iterator\n",
        "    is the same infinite lazy sequence"
      ]
    },
    {
      "cell_type": "code",
      "metadata": {
        "id": "j_1QeFSYx3Lx",
        "colab_type": "code",
        "colab": {}
      },
      "source": [
        "primes = get_primes()\n",
        "print(type(primes))"
      ],
      "execution_count": 0,
      "outputs": []
    },
    {
      "cell_type": "code",
      "metadata": {
        "id": "t7rjQfUKx7RA",
        "colab_type": "code",
        "colab": {}
      },
      "source": [
        "print(next(primes))\n",
        "print(next(primes))\n",
        "print(next(primes))"
      ],
      "execution_count": 0,
      "outputs": []
    },
    {
      "cell_type": "code",
      "metadata": {
        "id": "JMBVM6dgx-jJ",
        "colab_type": "code",
        "colab": {}
      },
      "source": [
        "for _, prime in zip(range(20), primes):\n",
        "    print(prime, end=\" \")"
      ],
      "execution_count": 0,
      "outputs": []
    },
    {
      "cell_type": "code",
      "metadata": {
        "id": "AqxREoSwyC5J",
        "colab_type": "code",
        "colab": {}
      },
      "source": [
        "print(next(primes))"
      ],
      "execution_count": 0,
      "outputs": []
    },
    {
      "cell_type": "markdown",
      "metadata": {
        "id": "TR3Bc-bSywgT",
        "colab_type": "text"
      },
      "source": [
        "Want infinite number of palindrome numbers?\n",
        "\n",
        "$\\Rightarrow$\n",
        "<https://github.com/fpro-feup/public/blob/master/lectures/18/get_primes.py>\n"
      ]
    },
    {
      "cell_type": "markdown",
      "metadata": {
        "id": "ppn5s__nzOIO",
        "colab_type": "text"
      },
      "source": [
        "### Lazy Evaluation (again)\n",
        "\n",
        "> Iterators:\n",
        ">\n",
        "> Iterators are lazy sequences rather than realised collections\n",
        "\n",
        "- Python does not quite offer *lazy data structures* in the sense of a\n",
        "    language like Haskell\n",
        "\n",
        "- However, use of the iterator protocol and Python's many built-in or\n",
        "    standard library iteratables, accomplish much the same effect as an\n",
        "    actual lazy data structure\n",
        "\n",
        "- The easiest way to create an iterator --- that is to say, a lazy\n",
        "    sequence --- in Python is to define a **generator function**\n",
        "\n",
        "- Well, technically, the easiest way is to use one of the many\n",
        "    *iterable objects* already produced by built-ins or the standard\n",
        "    library rather than programming a custom one at all\n",
        "\n",
        "- The module `itertools` is a collection of very powerful, and\n",
        "    carefully designed, functions for performing *iterator algebra*\n"
      ]
    },
    {
      "cell_type": "markdown",
      "metadata": {
        "id": "XnyMfLVDjusV",
        "colab_type": "text"
      },
      "source": [
        "## Utility Higher-Order Functions (HOF)"
      ]
    },
    {
      "cell_type": "markdown",
      "metadata": {
        "id": "Ft0ainpUzlR_",
        "colab_type": "text"
      },
      "source": [
        "### Higher-Order Functions (recap)\n",
        "\n",
        "- Higher-order functions (often abbreviated as \"HOF\") provide building\n",
        "    blocks to express complex concepts by combining simpler functions\n",
        "    into new functions\n",
        "\n",
        "- In general, a higher-order function is simply a function that takes\n",
        "    one or more functions as arguments and/or produces a function as a\n",
        "    result\n",
        "\n",
        "- It is common the think of `map()`, `filter()`, and\n",
        "    `functools.reduce()` as the most basic building blocks of\n",
        "    higher-order functions\n",
        "\n",
        "- Almost as basic as map/filter/reduce as a building block is currying\n",
        "\n",
        "    - In Python, currying is spelled as `partial()`, and is contained\n",
        "        in the `functools` module\n",
        "\n",
        "    - This is a function that will take another function, along with\n",
        "        zero or more arguments to pre-fill, and return a function of\n",
        "        fewer arguments that operates as the input function would when\n",
        "        those arguments are passed to it\n"
      ]
    },
    {
      "cell_type": "markdown",
      "metadata": {
        "id": "N-2ljj3Rz00_",
        "colab_type": "text"
      },
      "source": [
        "### First-class Functions (recap)\n",
        "\n",
        "- Functions are first-class in Python:\n",
        "\n",
        "    1.  they can be assigned to variables\n",
        "\n",
        "    2.  passed as parameters\n",
        "\n",
        "    3.  used as return values\n",
        "\n",
        "    4.  stored in data structures\n",
        "\n",
        "- **First-class functions** are a very powerful programming idea, not\n",
        "    present in all languages"
      ]
    },
    {
      "cell_type": "markdown",
      "metadata": {
        "id": "eZholsVvjxUw",
        "colab_type": "text"
      },
      "source": [
        "## Equivalences of comprehensions and HOF"
      ]
    },
    {
      "cell_type": "markdown",
      "metadata": {
        "id": "v51zFF3R-R0m",
        "colab_type": "text"
      },
      "source": [
        "### Equivalencies\n",
        "\n",
        "- The built-in functions `map()` and `filter()` are equivalent to\n",
        "    comprehensions (especially now that generator comprehensions are\n",
        "    available)\n",
        "\n",
        "```\n",
        "  # Classic \"FP-style\"\n",
        "  transformed = map(tranformation, iterator)\n",
        "\n",
        "  # Comprehension\n",
        "  transformed = (transformation(x) for x in iterator)\n",
        "```"
      ]
    },
    {
      "cell_type": "markdown",
      "metadata": {
        "id": "eexGFQiW-XU2",
        "colab_type": "text"
      },
      "source": [
        "```\n",
        "  # Classic \"FP-style\"\n",
        "  filtered = filter(predicate, iterator)\n",
        "  \n",
        "  # Comprehension\n",
        "  filtered = (x for x in iterator if predicate(x))\n",
        "```"
      ]
    },
    {
      "cell_type": "markdown",
      "metadata": {
        "id": "yMVd113u-dCq",
        "colab_type": "text"
      },
      "source": [
        "### As for `reduce()`...\n",
        "\n",
        "```\n",
        "  from functools import reduce\n",
        "  total = reduce(operator.add, it, 0)\n",
        "  \n",
        "  total = sum(it)\n",
        "```"
      ]
    },
    {
      "cell_type": "markdown",
      "metadata": {
        "id": "Riv9LknuHpLf",
        "colab_type": "text"
      },
      "source": [
        "# A larger example"
      ]
    },
    {
      "cell_type": "markdown",
      "metadata": {
        "id": "XynDHJ_CHtQT",
        "colab_type": "text"
      },
      "source": [
        "### Newton's method\n",
        "\n",
        "- This extended example shows how function return values and local definitions can work together to express general ideas concisely\n",
        "\n",
        "- We will implement an algorithm that is used broadly in machine learning, scientific computing, hardware design, and optimization\n",
        "\n",
        "- Newton's method is a classic iterative approach to finding the arguments of a mathematical function that yield a return value of 0. These values are called the zeros of the function\n",
        "\n",
        "- Newton's method is an iterative improvement algorithm: it improves a guess of the zero for any function that is differentiable, which means that it can be approximated by a straight line at any point\n",
        "\n",
        "- Newton's method follows these linear approximations to find function zeros\n",
        "\n",
        "$\\Rightarrow$\n",
        "[Composing Programs, \"1.6.5 Example: Newton's Method\"](https://composingprograms.com/pages/16-higher-order-functions.html)"
      ]
    },
    {
      "cell_type": "code",
      "metadata": {
        "id": "GCeamchEIgM2",
        "colab_type": "code",
        "colab": {}
      },
      "source": [
        "def improve(update, close, guess=1):\n",
        "    while not close(guess):\n",
        "        guess = update(guess)\n",
        "    return guess"
      ],
      "execution_count": 0,
      "outputs": []
    },
    {
      "cell_type": "code",
      "metadata": {
        "id": "Rzt9gaQ1Ii3h",
        "colab_type": "code",
        "colab": {}
      },
      "source": [
        "def newton_update(f, df):\n",
        "    def update(x):\n",
        "        return x - f(x) / df(x)\n",
        "    return update"
      ],
      "execution_count": 0,
      "outputs": []
    },
    {
      "cell_type": "code",
      "metadata": {
        "id": "St0Mt86aLSWY",
        "colab_type": "code",
        "colab": {}
      },
      "source": [
        "def approx_eq(x, y, tolerance=1e-15):\n",
        "    return abs(x - y) < tolerance"
      ],
      "execution_count": 0,
      "outputs": []
    },
    {
      "cell_type": "code",
      "metadata": {
        "id": "lSKgf1ZLIlH2",
        "colab_type": "code",
        "colab": {}
      },
      "source": [
        "def find_zero(f, df):\n",
        "    def near_zero(x):\n",
        "        return approx_eq(f(x), 0)\n",
        "    return improve(newton_update(f, df), near_zero)"
      ],
      "execution_count": 0,
      "outputs": []
    },
    {
      "cell_type": "code",
      "metadata": {
        "id": "COaBzQ6zJlBz",
        "colab_type": "code",
        "colab": {}
      },
      "source": [
        "def square_root_newton(a):\n",
        "    def f(x):\n",
        "        return x * x - a\n",
        "    def df(x):\n",
        "        return 2 * x\n",
        "    return find_zero(f, df)"
      ],
      "execution_count": 0,
      "outputs": []
    },
    {
      "cell_type": "code",
      "metadata": {
        "id": "bK4wKclPJoWc",
        "colab_type": "code",
        "colab": {}
      },
      "source": [
        "print(square_root_newton(64))"
      ],
      "execution_count": 0,
      "outputs": []
    },
    {
      "cell_type": "markdown",
      "metadata": {
        "id": "pDH3N8YvLd0f",
        "colab_type": "text"
      },
      "source": [
        "$\\Rightarrow$\n",
        "<https://github.com/fpro-feup/public/blob/master/lectures/18/newton.py>"
      ]
    },
    {
      "cell_type": "markdown",
      "metadata": {
        "id": "Zz-UtV8ORH_t",
        "colab_type": "text"
      },
      "source": [
        "# Ticket to leave"
      ]
    },
    {
      "cell_type": "markdown",
      "metadata": {
        "id": "C-hchAExRRVh",
        "colab_type": "text"
      },
      "source": [
        "## Moodle activity\n",
        "\n",
        "[LE18: Effect-free programming style](https://moodle.up.pt/mod/quiz/view.php?id=47819)"
      ]
    },
    {
      "cell_type": "markdown",
      "metadata": {
        "id": "uV1OP6ahRYne",
        "colab_type": "text"
      },
      "source": [
        "\n",
        "$\\Rightarrow$ \n",
        "[Go back to the Table of Contents](00-contents.ipynb)\n",
        "\n",
        "$\\Rightarrow$ \n",
        "[Read the Preface](00-preface.ipynb)"
      ]
    }
  ]
}