{
  "nbformat": 4,
  "nbformat_minor": 0,
  "metadata": {
    "colab": {
      "name": "20-analysis.ipynb",
      "provenance": [],
      "private_outputs": true,
      "collapsed_sections": [
        "Zz-UtV8ORH_t"
      ],
      "toc_visible": true
    },
    "kernelspec": {
      "name": "python3",
      "display_name": "Python 3"
    }
  },
  "cells": [
    {
      "cell_type": "markdown",
      "metadata": {
        "id": "8z5cONg8rUrX",
        "colab_type": "text"
      },
      "source": [
        "# Analysis of Algorithms\n",
        "\n",
        "## Programming Fundamentals (NB20)\n",
        "\n",
        "### MIEIC/2019-20\n",
        "\n",
        "#### João Correia Lopes\n",
        "\n",
        "FEUP/DEI and INESC TEC"
      ]
    },
    {
      "cell_type": "markdown",
      "metadata": {
        "id": "MZzE7pYorju5",
        "colab_type": "text"
      },
      "source": [
        "## Goals\n",
        "\n",
        "By the end of this class, the student should be able to:\n",
        "\n",
        "- Describe why algorithm analysis is important\n",
        "\n",
        "- Use \"Big-O\" to describe execution time\n",
        "\n",
        "- Describe the \"Big-O\" execution time of common operations on Python\n",
        "    lists and dictionaries\n"
      ]
    },
    {
      "cell_type": "markdown",
      "metadata": {
        "id": "eR5Lh1jNroE2",
        "colab_type": "text"
      },
      "source": [
        "## Bibliography\n",
        "\n",
        "- Allen Downey, Think Python --- How to Think Like a Computer Scientist, \n",
        "    2nd Edition, Version 2.4.0, Green Tea Press, 2015 (Annex B)\n",
        "    [[HTML]](http://greenteapress.com/thinkpython2/html/thinkpython2022.html)\n",
        "\n",
        "- Brad Miller and David Ranum, *Problem Solving with Algorithms and Data\n",
        "    Structures using Python*  (Chapter 3)\n",
        "    [[HTML]](https://runestone.academy/runestone/books/published/pythonds/AlgorithmAnalysis/toctree.html)\n",
        "\n",
        "- Brad Miller and David Ranum, *Problem Solving with Algorithms and Data \n",
        "    Structures using Python* (Section 6.3, Section 6.4)\n",
        "    [[HTML]](https://runestone.academy/runestone/books/published/pythonds/SortSearch/toctree.html)"
      ]
    },
    {
      "cell_type": "markdown",
      "metadata": {
        "id": "rp0xhM5RT_-a",
        "colab_type": "text"
      },
      "source": [
        "# What is Algorithm analysis?"
      ]
    },
    {
      "cell_type": "markdown",
      "metadata": {
        "id": "IgM0SuPVVHtq",
        "colab_type": "text"
      },
      "source": [
        "### 3.2 What is Algorithm analysis?\n",
        "\n",
        "- Analysis of algorithms is a branch of computer science that studies\n",
        "    the performance of algorithms, especially their run time and space\n",
        "    requirements\n",
        "    ([Wikipedia](http://en.wikipedia.org/wiki/Analysis_of_algorithms))\n",
        "\n",
        "- The practical goal of algorithm analysis is to predict the\n",
        "    performance of different algorithms in order to guide design\n",
        "    decisions\n",
        "\n",
        "- Eric Schmidt jokingly asked Obama for \"the most efficient way to\n",
        "    sort a million 32-bit integers\" and he quickly replied: \"I think the\n",
        "    bubble sort would be the wrong way to go\"\n",
        "    ([YouTube](http://www.youtube.com/watch?v=k4RRi_ntQc8))"
      ]
    },
    {
      "cell_type": "markdown",
      "metadata": {
        "id": "Bu-OJkNRVZhG",
        "colab_type": "text"
      },
      "source": [
        "### Problems when Comparing Algorithms\n",
        "\n",
        "The goal of algorithm analysis is to make meaningful comparisons between\n",
        "algorithms, but there are some problems:\n",
        "\n",
        "- The relative performance of the algorithms might depend on\n",
        "    characteristics of the **hardware**\n",
        "\n",
        "    - the general solution to this problem is to specify a machine\n",
        "        model and analyze the number of steps, or operations, an\n",
        "        algorithm requires under a given model"
      ]
    },
    {
      "cell_type": "markdown",
      "metadata": {
        "id": "nnf6jm57VoX6",
        "colab_type": "text"
      },
      "source": [
        "- Relative performance might depend on the details of the\n",
        "    dataset **bold text**\n",
        "\n",
        "    - a common way to avoid this problem is to analyze the **worst\n",
        "        case scenario**\n",
        "\n",
        "- Relative performance also depends on the **size of the problem**\n",
        "\n",
        "    - the usual solution to this problem is to express run time (or\n",
        "        number of operations) as a function of problem size, and group\n",
        "        functions into categories depending on how quickly they grow as\n",
        "        problem size increases"
      ]
    },
    {
      "cell_type": "markdown",
      "metadata": {
        "id": "Ol37vYpXTQNe",
        "colab_type": "text"
      },
      "source": [
        "## B.1 Order of growth"
      ]
    },
    {
      "cell_type": "markdown",
      "metadata": {
        "id": "7Z3cCQpgV-o_",
        "colab_type": "text"
      },
      "source": [
        "### Run time\n",
        "\n",
        "- Suppose you have analyzed two algorithms and expressed their run\n",
        "    times in terms of the size of the input:\n",
        "\n",
        "    - Algorithm A takes $T(n) = 100n + 1$ steps to solve a problem \n",
        "        with size $n$\n",
        "\n",
        "    - Algorithm B takes $T(n) =n^2 + n + 1$ steps to solve a problem with size $n$\n",
        "\n",
        "- The following table shows the run time of these algorithms for\n",
        "    different problem sizes:\n",
        "\n",
        "| Input size | Run time of Algorithm A  | Run time of Algorithm B | \n",
        "| ----------:| ------------------------:| -----------------------:| \n",
        "|        10  |       1 001   |         111 | \n",
        "|       100  |      10 001   |      10 101 | \n",
        "|     1 000  |     100 001   |   1 001 001 | \n",
        "|    10 000  |   1 000 001   | $> 10^{10}$ | "
      ]
    },
    {
      "cell_type": "markdown",
      "metadata": {
        "id": "8IILCQTNYI5u",
        "colab_type": "text"
      },
      "source": [
        "### Order of growth\n",
        "\n",
        "- The **leading term** is the term with the highest exponent\n",
        "\n",
        "- There will always be some value of $n$ where $an^2 > bn$, for any\n",
        "    values of $a$ and $b$\n",
        "\n",
        "- For algorithmic analysis, functions with the same leading term are\n",
        "    considered equivalent, even if they have different coefficients\n",
        "\n",
        "- An order of growth is a set of functions whose growth behaviour is\n",
        "    considered equivalent\n",
        "\n",
        "    - For example, $2n$, $100n$ and $n + 1$ belong to the same order\n",
        "        of growth\n",
        "\n",
        "    - They are all linear"
      ]
    },
    {
      "cell_type": "markdown",
      "metadata": {
        "id": "6_kZLZbSTShG",
        "colab_type": "text"
      },
      "source": [
        "## 3.3 Big-O notation"
      ]
    },
    {
      "cell_type": "markdown",
      "metadata": {
        "id": "1Q40Pu2LhmGp",
        "colab_type": "text"
      },
      "source": [
        "### Big-O notation\n",
        "\n",
        "- $T(n)$ is the time it takes to solve a problem of size $n$\n",
        "\n",
        "- The **order of magnitude** function describes the part of $T(n)$\n",
        "    that increases the fastest as the value of $n$ increases\n",
        "\n",
        "- Order of magnitude is often called **Big-O notation** (for \"order\")\n",
        "    and written as $O(f(n))$\n",
        "\n",
        "- It provides a useful approximation to the actual number of steps in\n",
        "    the computation\n"
      ]
    },
    {
      "cell_type": "markdown",
      "metadata": {
        "id": "IvFsJwBkixMB",
        "colab_type": "text"
      },
      "source": [
        "### Common Order of Magnitude Functions\n",
        "\n",
        " | f(n)            | Name |\n",
        " |:----------------|:------------ |\n",
        " | $1$             | Constant |\n",
        " | $\\log n$        | Logarithmic |\n",
        " | $n$             | Linear |\n",
        " | $n$ $\\log n$    | Log Linear |\n",
        " | $n^2$           | Quadratic |\n",
        " | $n^3$           | Cubic |\n",
        " | $2^n$           | Exponential |"
      ]
    },
    {
      "cell_type": "markdown",
      "metadata": {
        "id": "lBKi7wfFZSB9",
        "colab_type": "text"
      },
      "source": [
        "### Common Order of Magnitude Functions\n",
        "\n",
        "![functions](images/20/graphs.png)\n"
      ]
    },
    {
      "cell_type": "markdown",
      "metadata": {
        "id": "s4Ljk2YeZe05",
        "colab_type": "text"
      },
      "source": [
        "### Compute $T(n)$\n",
        "\n",
        "```\n",
        "    a=5\n",
        "    b=6\n",
        "    c=10\n",
        "    for i in range(n):\n",
        "       for j in range(n):\n",
        "          x = i * i\n",
        "          y = j * j\n",
        "          z = i * j\n",
        "    for k in range(n):\n",
        "       w = a*k + 45\n",
        "       v = b*b\n",
        "    d = 33\n",
        "```"
      ]
    },
    {
      "cell_type": "markdown",
      "metadata": {
        "id": "X4GuoZ6EZrU6",
        "colab_type": "text"
      },
      "source": [
        "$$T(n) = 3 + 3 n^2 + 2n + 1 = 3n^2 + 2n + 4$$"
      ]
    },
    {
      "cell_type": "markdown",
      "metadata": {
        "id": "uwfzHnYpZuEa",
        "colab_type": "text"
      },
      "source": [
        "$$O(n^2)$$"
      ]
    },
    {
      "cell_type": "markdown",
      "metadata": {
        "id": "APQbG5EpTU81",
        "colab_type": "text"
      },
      "source": [
        "# Performance of Python data structures"
      ]
    },
    {
      "cell_type": "markdown",
      "metadata": {
        "id": "VpkPxpvhaPLC",
        "colab_type": "text"
      },
      "source": [
        "### Performance of Python Data Structures\n",
        "\n",
        "- Now that you have a general idea of Big-O notation and the\n",
        "    differences between the different functions\n",
        "\n",
        "- Let's talk about the Big-O performance for the operations on Python\n",
        "    lists and dictionaries\n",
        "\n",
        "- It is important for you to understand the efficiency of these Python\n",
        "    data structures because they are the building blocks we will use as\n",
        "    we implement other data structures\n",
        "\n",
        "- The designers of Python had many choices to make when they\n",
        "    implemented data structures\n",
        "\n",
        "$\\Rightarrow$\n",
        "<https://docs.python.org/3/faq/design.html#how-are-lists-implemented-in-cpython>"
      ]
    },
    {
      "cell_type": "markdown",
      "metadata": {
        "id": "xroLeO4nTXR8",
        "colab_type": "text"
      },
      "source": [
        "## 2.6 Lists"
      ]
    },
    {
      "cell_type": "markdown",
      "metadata": {
        "id": "625zaPIXbFp0",
        "colab_type": "text"
      },
      "source": [
        "### Lists\n",
        "\n",
        "  | Operation       | Big-O Efficiency  |\n",
        "  |:----------------|:------------------|\n",
        "  | index [ ]       | $O(1)$ |\n",
        "  | append          | $O(1)$ |\n",
        "  | pop()           | $O(1)$ |\n",
        "  | pop(i)          | $O(n)$ |\n",
        "  | insert(i,item)  | $O(n)$ |\n",
        "  | del operator    | $O(n)$ |\n",
        "  | iteration       | $O(n)$ |\n",
        "  | contains (in)   | $O(n)$ |\n",
        "  | reverse         | $O(n)$ |\n",
        "  | concatenate     | $O(k)$ |\n",
        "  | sort            | $O(n \\log n)$ |\n",
        "\n",
        "$\\Rightarrow$\n",
        "<https://github.com/fpro-feup/public/blob/master/lectures/20timing.py>"
      ]
    },
    {
      "cell_type": "markdown",
      "metadata": {
        "id": "4N2qNmNdfZRA",
        "colab_type": "text"
      },
      "source": [
        "### Compare pop() with pop(0) in a list"
      ]
    },
    {
      "cell_type": "markdown",
      "metadata": {
        "id": "sDay7aXYgayw",
        "colab_type": "text"
      },
      "source": [
        "Setup timer:"
      ]
    },
    {
      "cell_type": "code",
      "metadata": {
        "id": "y4c03yNLfhem",
        "colab_type": "code",
        "colab": {}
      },
      "source": [
        "import timeit\n",
        "\n",
        "# Python statement to time \"popping from the end\"\n",
        "# runs once to setup\n",
        "popend = timeit.Timer(\"x.pop()\", \"from __main__ import x\")"
      ],
      "execution_count": 0,
      "outputs": []
    },
    {
      "cell_type": "code",
      "metadata": {
        "id": "-b8UIIwPf8cZ",
        "colab_type": "code",
        "colab": {}
      },
      "source": [
        "# Python statement to time \"popping from the beginning\"\n",
        "# runs once to setup\n",
        "popzero = timeit.Timer(\"x.pop(0)\", \"from __main__ import x\")"
      ],
      "execution_count": 0,
      "outputs": []
    },
    {
      "cell_type": "markdown",
      "metadata": {
        "id": "s6K_ylk9lFZr",
        "colab_type": "text"
      },
      "source": [
        "Start with a 10^6 list, the list get's bigger by 10^6 each cicle and, for more accuracy, there's 10^3 executions for each measurement `pop()` and `pop(0)`."
      ]
    },
    {
      "cell_type": "code",
      "metadata": {
        "id": "LdnBeQ_Hmsh8",
        "colab_type": "code",
        "colab": {}
      },
      "source": [
        "# print the header\n",
        "print(\"\\n{:>9s} {:>9s} {:>10s}\".format(\"len(x)\", \"pop()\", \"pop(0)\"))\n",
        "\n",
        "for i in range(10**6, 12*10**6+1, 10**6):\n",
        "\n",
        "    x = list(range(i))               # the list get's bigger\n",
        "    pe = popend.timeit(number=1000)  # timeit for 1000 pop()\n",
        "\n",
        "    x = list(range(i))               # the list get's bigger\n",
        "    pz = popzero.timeit(number=1000) # timeit for 1000 pop(0)\n",
        "\n",
        "    # print the measurements\n",
        "    print(\"{:9d} {:9.5f} {:10.5f}\".format(i, pe, pz))"
      ],
      "execution_count": 0,
      "outputs": []
    },
    {
      "cell_type": "markdown",
      "metadata": {
        "id": "XDEe4WJGnSYT",
        "colab_type": "text"
      },
      "source": [
        "Any conclusions?"
      ]
    },
    {
      "cell_type": "markdown",
      "metadata": {
        "id": "jFIG5zZFzT7U",
        "colab_type": "text"
      },
      "source": [
        "### `pop()`\n",
        "\n",
        "![pop](images/20/pop.png)"
      ]
    },
    {
      "cell_type": "markdown",
      "metadata": {
        "id": "Hwqdc6HLzgEE",
        "colab_type": "text"
      },
      "source": [
        "### `pop(0)`\n",
        "\n",
        "![pop](images/20/pop0.png)"
      ]
    },
    {
      "cell_type": "markdown",
      "metadata": {
        "id": "tLFlHjLTTZo0",
        "colab_type": "text"
      },
      "source": [
        "## 3.7 Dictionaries"
      ]
    },
    {
      "cell_type": "markdown",
      "metadata": {
        "id": "V3jZ4ewvcz7R",
        "colab_type": "text"
      },
      "source": [
        "### Dictionaries\n",
        "\n",
        "- As you probably recall, dictionaries differ from lists in that you can\n",
        "access items in a dictionary by a key rather than a position\n",
        "\n",
        "\n",
        "  | Operation     | Big-O Efficiency  |\n",
        "  |:--------------|:------------------|\n",
        "  | copy          | $O(n)$ |\n",
        "  | get item      | $O(1)$ |\n",
        "  | set item      | $O(1)$ |\n",
        "  | delete item   | $O(1)$ |\n",
        "  | contains (in) | $O(1)$ |\n",
        "  | iteration     | $O(n)$ |"
      ]
    },
    {
      "cell_type": "markdown",
      "metadata": {
        "id": "Gkv4Dbf_d0LI",
        "colab_type": "text"
      },
      "source": [
        "## 3.8 Summary"
      ]
    },
    {
      "cell_type": "markdown",
      "metadata": {
        "id": "kUolIEJUd37t",
        "colab_type": "text"
      },
      "source": [
        "### Summary\n",
        "\n",
        "- Algorithm analysis is an implementation-independent way of measuring\n",
        "    an algorithm\n",
        "\n",
        "- Big-O notation allows algorithms to be classified by their dominant\n",
        "    process with respect to the size of the problem"
      ]
    },
    {
      "cell_type": "markdown",
      "metadata": {
        "id": "Zz-UtV8ORH_t",
        "colab_type": "text"
      },
      "source": [
        "# Ticket to leave"
      ]
    },
    {
      "cell_type": "markdown",
      "metadata": {
        "id": "C-hchAExRRVh",
        "colab_type": "text"
      },
      "source": [
        "## Moodle activity\n",
        "\n",
        "[LE20: Analysis of algorithms](https://moodle.up.pt/mod/quiz/view.php?id=48402)"
      ]
    },
    {
      "cell_type": "markdown",
      "metadata": {
        "id": "uV1OP6ahRYne",
        "colab_type": "text"
      },
      "source": [
        "\n",
        "$\\Rightarrow$ \n",
        "[Go back to the Table of Contents](00-contents.ipynb)\n",
        "\n",
        "$\\Rightarrow$ \n",
        "[Read the Preface](00-preface.ipynb)"
      ]
    }
  ]
}