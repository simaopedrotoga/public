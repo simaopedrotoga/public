{
  "nbformat": 4,
  "nbformat_minor": 0,
  "metadata": {
    "colab": {
      "name": "21-modules.ipynb",
      "provenance": [],
      "private_outputs": true,
      "collapsed_sections": [
        "Zz-UtV8ORH_t"
      ],
      "toc_visible": true
    },
    "kernelspec": {
      "name": "python3",
      "display_name": "Python 3"
    }
  },
  "cells": [
    {
      "cell_type": "markdown",
      "metadata": {
        "id": "8z5cONg8rUrX",
        "colab_type": "text"
      },
      "source": [
        "# Modules\n",
        "\n",
        "## Programming Fundamentals (NB21)\n",
        "\n",
        "### MIEIC/2019-20\n",
        "\n",
        "#### João Correia Lopes\n",
        "\n",
        "FEUP/DEI and INESC TEC"
      ]
    },
    {
      "cell_type": "markdown",
      "metadata": {
        "id": "MZzE7pYorju5",
        "colab_type": "text"
      },
      "source": [
        "## Goals\n",
        "\n",
        "By the end of this class, the student should be able to:\n",
        "\n",
        "- Give an overview of the Modules available in the Python Standard Library\n",
        "- Describe the contents of the `math`, `time` and `random` modules\n",
        "- Create programmer own modules\n",
        "- Describe namespaces, identifier scopes and lookup rules\n"
      ]
    },
    {
      "cell_type": "markdown",
      "metadata": {
        "id": "eR5Lh1jNroE2",
        "colab_type": "text"
      },
      "source": [
        "## Bibliography\n",
        "\n",
        "- Peter Wentworth, Jeffrey Elkner, Allen B. Downey, and Chris Meyers, *How to Think Like a Computer Scientist — Learning with Python 3* (Chapter 8)\n",
        "\n",
        "- The Python Tutorial, *6. Modules*, Python 3.7.5 documentation \n",
        "[[HTML]](https://docs.python.org/3.7/tutorial/modules.html)\n",
        "\n",
        "- The Python Standard Library, *Numeric and Mathematical Modules*, Python 3.7.5 documentation \n",
        "[[HTML]](https://docs.python.org/3.7/library/numeric.html)"
      ]
    },
    {
      "cell_type": "markdown",
      "metadata": {
        "id": "wCvIncHDGClD",
        "colab_type": "text"
      },
      "source": [
        "# Python Modules"
      ]
    },
    {
      "cell_type": "markdown",
      "metadata": {
        "id": "k1Sx2DqrGxq3",
        "colab_type": "text"
      },
      "source": [
        "### Modules\n",
        "\n",
        "- A module is a file containing Python definitions and statements\n",
        "    intended for use in other Python programs\n",
        "\n",
        "- There are many Python modules that come with Python as part of the\n",
        "    standard library (PSL)\n",
        "\n",
        "- We have seen some already: the `turtle` module, the `string` module,\n",
        "    the `functools` module\n",
        "\n",
        "- The help system contains a listing of all the standard modules that\n",
        "    are available with Python\n",
        "\n",
        "$\\Rightarrow$ <https://docs.python.org/3/library/>"
      ]
    },
    {
      "cell_type": "markdown",
      "metadata": {
        "id": "TyGp_ezjGGQM",
        "colab_type": "text"
      },
      "source": [
        "## 8.1 Random numbers"
      ]
    },
    {
      "cell_type": "markdown",
      "metadata": {
        "id": "-5M6GskMHMWK",
        "colab_type": "text"
      },
      "source": [
        "### Random numbers\n",
        "\n",
        "-   We often want to use random numbers in programs\n",
        "\n",
        "-   Python provides a module random that helps with tasks like this\n",
        "\n",
        "-   The `randrange` method call generates an integer between its lower\n",
        "    and upper argument, using the same semantics as `range`\n",
        "\n",
        "-   All the values have an equal probability of occurring (it's a\n",
        "    *uniform distribution*)\n",
        "\n",
        "```\n",
        "   import random\n",
        "\n",
        "   rng = random.Random() # create an object that generates random numbers\n",
        "\n",
        "   dice_throw = rng.randrange(1, 7)  # Return one of 1,2,3,4,5,6\n",
        "```\n",
        "$\\Rightarrow$\n",
        "<https://github.com/fpro-feup/public/tree/master/lectures/21/random.py>"
      ]
    },
    {
      "cell_type": "markdown",
      "metadata": {
        "id": "_qQJ7VRystmh",
        "colab_type": "text"
      },
      "source": [
        "Create a black box object that generates random numbers:"
      ]
    },
    {
      "cell_type": "code",
      "metadata": {
        "id": "eUM_7ESbrzUa",
        "colab_type": "code",
        "colab": {}
      },
      "source": [
        "import random\n",
        "\n",
        "rng = random.Random()"
      ],
      "execution_count": 0,
      "outputs": []
    },
    {
      "cell_type": "markdown",
      "metadata": {
        "id": "8TPo99YPsz1D",
        "colab_type": "text"
      },
      "source": [
        "Dice throw (return an int, one of 1, 2, 3, 4, 5, 6):"
      ]
    },
    {
      "cell_type": "code",
      "metadata": {
        "id": "A8ck9dkrs335",
        "colab_type": "code",
        "colab": {}
      },
      "source": [
        "print(rng.randrange(1, 7))"
      ],
      "execution_count": 0,
      "outputs": []
    },
    {
      "cell_type": "markdown",
      "metadata": {
        "id": "j7oE7_L8tMup",
        "colab_type": "text"
      },
      "source": [
        "Scale the results:"
      ]
    },
    {
      "cell_type": "code",
      "metadata": {
        "id": "M7e94YUvtQDf",
        "colab_type": "code",
        "colab": {}
      },
      "source": [
        "print(rng.random() * 5.0)"
      ],
      "execution_count": 0,
      "outputs": []
    },
    {
      "cell_type": "markdown",
      "metadata": {
        "id": "Kv_o2L9stV3i",
        "colab_type": "text"
      },
      "source": [
        "`randrange` can also take an optional step argument:"
      ]
    },
    {
      "cell_type": "code",
      "metadata": {
        "id": "j2FWAtG3tapE",
        "colab_type": "code",
        "colab": {}
      },
      "source": [
        "print(rng.randrange(1, 100, 2))"
      ],
      "execution_count": 0,
      "outputs": []
    },
    {
      "cell_type": "markdown",
      "metadata": {
        "id": "Je7x3DjWt-xu",
        "colab_type": "text"
      },
      "source": [
        "Create a deck and shuffle the cards:"
      ]
    },
    {
      "cell_type": "code",
      "metadata": {
        "id": "DMw9Xq6BuDlT",
        "colab_type": "code",
        "colab": {}
      },
      "source": [
        "cards = list(range(52))\n",
        "print(cards)\n",
        "\n",
        "rng.shuffle(cards)  # shuffle cannot work directly with a lazy promise\n",
        "print(cards)"
      ],
      "execution_count": 0,
      "outputs": []
    },
    {
      "cell_type": "markdown",
      "metadata": {
        "id": "WjscoYdugKsx",
        "colab_type": "text"
      },
      "source": [
        "### Repeatability and Testing\n",
        "\n",
        "- Random number generators are based on a **deterministic** algorithm\n",
        "    --- repeatable and predictable\n",
        "\n",
        "- So they're called **pseudo-random** generators --- they are not\n",
        "    genuinely random\n",
        "\n",
        "- They start with a *seed* value\n",
        "\n",
        "- Each time you ask for another random number, you'll get one based on\n",
        "    the current seed attribute, and the state of the seed will be\n",
        "    updated\n",
        "\n",
        "- But, for debugging and for writing unit tests, it is convenient to\n",
        "    have repeatability\n",
        "\n",
        "```\n",
        "  drng = random.Random(123)  # generator with known starting state\n",
        "```"
      ]
    },
    {
      "cell_type": "markdown",
      "metadata": {
        "id": "65cAszoRuZuI",
        "colab_type": "text"
      },
      "source": [
        "A deterministic random sequence:"
      ]
    },
    {
      "cell_type": "code",
      "metadata": {
        "id": "WjMnrZcguehB",
        "colab_type": "code",
        "colab": {}
      },
      "source": [
        "drng = random.Random(123)\n",
        "print(drng.random())"
      ],
      "execution_count": 0,
      "outputs": []
    },
    {
      "cell_type": "code",
      "metadata": {
        "id": "KTADC2iAuroz",
        "colab_type": "code",
        "colab": {}
      },
      "source": [
        "drng = random.Random(123000)\n",
        "print(drng.random())"
      ],
      "execution_count": 0,
      "outputs": []
    },
    {
      "cell_type": "markdown",
      "metadata": {
        "id": "CZj-CxV3gYk4",
        "colab_type": "text"
      },
      "source": [
        "### Picking balls from bags, throwing dice, shuffling a pack of cards\n",
        "\n",
        "- Pulling balls out of a bag with *replacement*\n",
        "\n",
        "```\n",
        "  def make_random_ints(num, lower_bound, upper_bound):\n",
        "      rng = random.Random()\n",
        "      result = []\n",
        "      for i in range(num):\n",
        "          result.append(rng.randrange(lower_bound, upper_bound))\n",
        "      return result\n",
        "```"
      ]
    },
    {
      "cell_type": "markdown",
      "metadata": {
        "id": "ofwZNBU5gcgH",
        "colab_type": "text"
      },
      "source": [
        "- Pulling balls out of the bag *without replacement*\n",
        "\n",
        "```\n",
        "   xs = list(range(1,13))  # Make list 1..12 (there are no duplicates)\n",
        "   rng = random.Random()   # Make a random number generator\n",
        "   rng.shuffle(xs)         # Shuffle the list\n",
        "   result = xs[:5]         # Take the first five elements\n",
        "```\n",
        "\n",
        "$\\Rightarrow$\n",
        "<https://github.com/fpro-feup/public/tree/master/lectures/21/randon_ints.py>"
      ]
    },
    {
      "cell_type": "markdown",
      "metadata": {
        "id": "LsSrb1I2vghe",
        "colab_type": "text"
      },
      "source": [
        "Generate a list containing num random ints between `lower_bound` and `upper_bound`. `upper_bound` is an open bound.\n",
        "\n",
        "The result list cannot contain duplicates."
      ]
    },
    {
      "cell_type": "code",
      "metadata": {
        "id": "o6ffm2a6vtPS",
        "colab_type": "code",
        "colab": {}
      },
      "source": [
        "def make_random_ints_no_dups(num, lower_bound, upper_bound):\n",
        "    \"\"\"\n",
        "    Generate a list containing num random ints between\n",
        "    lower_bound and upper_bound. upper_bound is an open bound.\n",
        "    The result list cannot contain duplicates.\n",
        "    \"\"\"\n",
        "    result = []\n",
        "    rng = random.Random()\n",
        "    for i in range(num):\n",
        "        while True:\n",
        "            candidate = rng.randrange(lower_bound, upper_bound)\n",
        "            if candidate not in result:\n",
        "                break\n",
        "        result.append(candidate)\n",
        "    return result\n",
        "\n",
        "xs = make_random_ints_no_dups(5, 1, 10000000)\n",
        "print(xs)"
      ],
      "execution_count": 0,
      "outputs": []
    },
    {
      "cell_type": "markdown",
      "metadata": {
        "id": "VqqYqiZswNN4",
        "colab_type": "text"
      },
      "source": [
        "Houston, we have problems!"
      ]
    },
    {
      "cell_type": "code",
      "metadata": {
        "id": "jb4TrmrHwPqJ",
        "colab_type": "code",
        "colab": {}
      },
      "source": [
        "make_random_ints_no_dups(10, 1, 6)"
      ],
      "execution_count": 0,
      "outputs": []
    },
    {
      "cell_type": "markdown",
      "metadata": {
        "id": "Q8VCHPDeGH5A",
        "colab_type": "text"
      },
      "source": [
        "## 8.2 The `time` module"
      ]
    },
    {
      "cell_type": "markdown",
      "metadata": {
        "id": "wQw6PoQhhC_o",
        "colab_type": "text"
      },
      "source": [
        "### The `time` module\n",
        "\n",
        "- The `time` module has a function called `clock` that can be used for\n",
        "    *timing* programs\n",
        "\n",
        "- Whenever `clock` is called, it returns a floating point number\n",
        "    representing how many seconds have elapsed since your program\n",
        "    started running\n",
        "\n",
        "$\\Rightarrow$\n",
        "<https://github.com/fpro-feup/public/tree/master/lectures/21/timing.py>"
      ]
    },
    {
      "cell_type": "markdown",
      "metadata": {
        "id": "X9-qo6QSxVaQ",
        "colab_type": "text"
      },
      "source": [
        "A function that sums a list of numbers:"
      ]
    },
    {
      "cell_type": "code",
      "metadata": {
        "id": "FJj_C7E-xgwN",
        "colab_type": "code",
        "colab": {}
      },
      "source": [
        "def do_my_sum(xs):\n",
        "    sum = 0\n",
        "    for v in xs:\n",
        "        sum += v\n",
        "    return sum"
      ],
      "execution_count": 0,
      "outputs": []
    },
    {
      "cell_type": "markdown",
      "metadata": {
        "id": "CTk5JtQ8xnE6",
        "colab_type": "text"
      },
      "source": [
        "Time a function call with 10 million elements in the list:"
      ]
    },
    {
      "cell_type": "code",
      "metadata": {
        "id": "oAHOPpGOxsOr",
        "colab_type": "code",
        "colab": {}
      },
      "source": [
        "SIZE = 10000000\n",
        "testdata = range(SIZE)\n",
        "\n",
        "import time\n",
        "\n",
        "t0 = time.clock()\n",
        "my_result = do_my_sum(testdata)\n",
        "t1 = time.clock()\n",
        "\n",
        "print(\"my_result    = {0} (time taken = {1:.4f} seconds)\"\n",
        "      .format(my_result, t1-t0))"
      ],
      "execution_count": 0,
      "outputs": []
    },
    {
      "cell_type": "markdown",
      "metadata": {
        "id": "3I4mYLWQGNbn",
        "colab_type": "text"
      },
      "source": [
        "## 8.3 The math module"
      ]
    },
    {
      "cell_type": "markdown",
      "metadata": {
        "id": "rz0we7hThJfu",
        "colab_type": "text"
      },
      "source": [
        "### The `math` module\n",
        "\n",
        "- The `math` module contains the kinds of mathematical functions you'd\n",
        "    typically find on your calculator\n",
        "\n",
        "- Functions: `sin`, `cos`, `sqrt`, `asin`, `log`, `log10`\n",
        "\n",
        "- Some mathematical constants like `pi` and `e`\n",
        "\n",
        "- Angles are expressed in radians rather than degrees\n",
        "\n",
        "- There are two functions `radians` and `degrees` to convert between\n",
        "    these two popular ways of measuring angles\n",
        "\n",
        "- Mathematical functions are \"pure\" and don't have any *state*\n",
        "\n",
        "$\\Rightarrow$\n",
        "<https://github.com/fpro-feup/public/tree/master/lectures/21/math.py>"
      ]
    },
    {
      "cell_type": "markdown",
      "metadata": {
        "id": "dwcksFoly0Lj",
        "colab_type": "text"
      },
      "source": [
        "Known constants:"
      ]
    },
    {
      "cell_type": "code",
      "metadata": {
        "id": "620ybaiEy2xN",
        "colab_type": "code",
        "colab": {}
      },
      "source": [
        "import math\n",
        "\n",
        "print(math.pi)\n",
        "print(math.e)"
      ],
      "execution_count": 0,
      "outputs": []
    },
    {
      "cell_type": "markdown",
      "metadata": {
        "id": "BsvClgeIy8T3",
        "colab_type": "text"
      },
      "source": [
        "Known operations:"
      ]
    },
    {
      "cell_type": "code",
      "metadata": {
        "id": "WDo1U5k-y-IJ",
        "colab_type": "code",
        "colab": {}
      },
      "source": [
        "print(math.sqrt(2.0))\n",
        "print(math.gcd(8, 36))"
      ],
      "execution_count": 0,
      "outputs": []
    },
    {
      "cell_type": "markdown",
      "metadata": {
        "id": "q9oK9yEc0GaC",
        "colab_type": "text"
      },
      "source": [
        "Find `sin` of 90 degrees:"
      ]
    },
    {
      "cell_type": "code",
      "metadata": {
        "id": "JJR8zYxo0KIV",
        "colab_type": "code",
        "colab": {}
      },
      "source": [
        "right_angle = math.radians(90)\n",
        "print(math.sin(right_angle))"
      ],
      "execution_count": 0,
      "outputs": []
    },
    {
      "cell_type": "markdown",
      "metadata": {
        "id": "NLbY7Tfd0aMe",
        "colab_type": "text"
      },
      "source": [
        "Double the `arcsin` of 1.0 to get `pi`:"
      ]
    },
    {
      "cell_type": "code",
      "metadata": {
        "id": "QW4ok1BM0eEZ",
        "colab_type": "code",
        "colab": {}
      },
      "source": [
        "print(math.asin(1.0) * 2)"
      ],
      "execution_count": 0,
      "outputs": []
    },
    {
      "cell_type": "markdown",
      "metadata": {
        "id": "4l2AmoLfGPxv",
        "colab_type": "text"
      },
      "source": [
        "## 8.4 Creating your own modules"
      ]
    },
    {
      "cell_type": "markdown",
      "metadata": {
        "id": "k8IBQt5vhPxe",
        "colab_type": "text"
      },
      "source": [
        "### Creating your own modules\n",
        "\n",
        "- All we need to do to create our own modules is to save our script as\n",
        "    a file with a `.py` extension\n",
        "\n",
        "- Suppose, for example, this script is saved as a file named\n",
        "    `seqtools.py`\n",
        "\n",
        "```\n",
        "   def remove_at(pos, seq):\n",
        "       return seq[:pos] + seq[pos+1:]\n",
        "```\n",
        "\n",
        "- We can now use our module, both in scripts we write, or in the\n",
        "    interactive Python interpreter\n",
        "\n",
        "- To do so, we must first import the module\n",
        "\n",
        "```\n",
        "  >>> import seqtools\n",
        "  >>> s = \"A string!\"\n",
        "  >>> seqtools.remove_at(4, s)\n",
        "  'A sting!'\n",
        "```"
      ]
    },
    {
      "cell_type": "markdown",
      "metadata": {
        "id": "Y5GMsSQ2hpVb",
        "colab_type": "text"
      },
      "source": [
        "### `__name__` \n",
        "\n",
        "- Before the Python interpreter executes your program, it defines the\n",
        "    variable `__name__`\n",
        "\n",
        "    - The variable is automatically set to the string value\n",
        "        `\"__main__\"` when the program is being executed by itself in a\n",
        "        standalone fashion\n",
        "\n",
        "    - On the other hand, if the program is being imported by another\n",
        "        program, then the `\"__name__\"` variable is set to the name of\n",
        "        that module\n",
        "\n",
        "- This ability to conditionally execute our main function can be\n",
        "    extremely useful when we are writing code that will potentially be\n",
        "    used by others\n",
        "\n",
        "$\\Rightarrow$\n",
        "<https://github.com/fpro-admin/lectures/blob/master/21/mymath.py>\\\n",
        "$\\Rightarrow$\n",
        "<https://github.com/fpro-admin/lectures/blob/master/21/import.py>"
      ]
    },
    {
      "cell_type": "markdown",
      "metadata": {
        "id": "9Mz9AeCe1iSC",
        "colab_type": "text"
      },
      "source": [
        "The `mymath` module (place this code in the file `mymath.py`):"
      ]
    },
    {
      "cell_type": "code",
      "metadata": {
        "id": "6hWgtsLH13c1",
        "colab_type": "code",
        "colab": {}
      },
      "source": [
        "def squareit(n):\n",
        "    return n * n\n",
        "\n",
        "\n",
        "def cubeit(n):\n",
        "    return n*n*n\n",
        "\n",
        "\n",
        "def main():\n",
        "    anum = int(input(\"(1) Please enter a number: \"))\n",
        "    print(squareit(anum))\n",
        "    print(cubeit(anum))\n",
        "\n",
        "\n",
        "# inside this source or is it an import?\n",
        "print(\"(1)\", __name__)\n",
        "\n",
        "# call main() only if the Python interpreter is running this source file\n",
        "if __name__ == \"__main__\":\n",
        "    main()"
      ],
      "execution_count": 0,
      "outputs": []
    },
    {
      "cell_type": "markdown",
      "metadata": {
        "id": "Yegxouqo3GUG",
        "colab_type": "text"
      },
      "source": [
        "Use my toy `mymath` library (place this code in onohther py file and run it):"
      ]
    },
    {
      "cell_type": "code",
      "metadata": {
        "id": "Odt-9Z6I2nAT",
        "colab_type": "code",
        "colab": {}
      },
      "source": [
        "import mymath\n",
        "\n",
        "anum = int(input(\"(2) Please enter a number: \"))\n",
        "print(mymath.squareit(anum))"
      ],
      "execution_count": 0,
      "outputs": []
    },
    {
      "cell_type": "markdown",
      "metadata": {
        "id": "BegXetbNGShp",
        "colab_type": "text"
      },
      "source": [
        "## 8.5 Namespaces"
      ]
    },
    {
      "cell_type": "markdown",
      "metadata": {
        "id": "LROPDMm_h42E",
        "colab_type": "text"
      },
      "source": [
        "### Namespaces\n",
        "\n",
        "- A `namespace` is a collection of identifiers that belong to a\n",
        "    module, or to a function\n",
        "\n",
        "- Each module has its own namespace, so we can use the same identifier\n",
        "    name in multiple modules without causing an identification problem\n",
        "\n",
        "```\n",
        "  # module1.py\n",
        "\n",
        "  question = \"What is the meaning of Life, the Universe, and Everything?\"\n",
        "  answer = 42\n",
        "```\n",
        "\n",
        "```\n",
        "  # module2.py\n",
        "\n",
        "  question = \"What is your quest?\"\n",
        "  answer = \"To seek the holy grail.\"\n",
        "```\n"
      ]
    },
    {
      "cell_type": "markdown",
      "metadata": {
        "id": "DExC-w6U3uFu",
        "colab_type": "text"
      },
      "source": [
        "```\n",
        "import module1\n",
        "import module2\n",
        "\n",
        "print(module1.question)\n",
        "print(module2.question)\n",
        "```\n",
        "\n",
        "$\\Rightarrow$\n",
        "<https://github.com/fpro-feup/public/tree/master/lectures/21/namespaces.py>"
      ]
    },
    {
      "cell_type": "markdown",
      "metadata": {
        "id": "OzMP0kzTiCWE",
        "colab_type": "text"
      },
      "source": [
        "### Function Namespaces\n",
        "\n",
        "- Functions also have their own namespaces:\n",
        "\n",
        "```\n",
        "   def f():\n",
        "       n = 7\n",
        "       print(\"printing n inside of f:\", n)\n",
        "\n",
        "   def g():\n",
        "       n = 42\n",
        "       print(\"printing n inside of g:\", n)\n",
        "\n",
        "   n = 11\n",
        "   f()\n",
        "   g()\n",
        "```\n",
        "\n",
        "> Python takes the module name from the file name, and this becomes the\n",
        "> name of the namespace: `math.py` is a filename, the module is called\n",
        "> `math`, and its namespace is `math`.\n",
        "\n",
        "$\\Rightarrow$\n",
        "<https://github.com/fpro-feup/public/tree/master/lectures/21/fnamespaces.py>"
      ]
    },
    {
      "cell_type": "markdown",
      "metadata": {
        "id": "hWMZfyFAGU4m",
        "colab_type": "text"
      },
      "source": [
        "## 8.6 Scope and lookup rules"
      ]
    },
    {
      "cell_type": "markdown",
      "metadata": {
        "id": "2n1pC0OAiV7n",
        "colab_type": "text"
      },
      "source": [
        "### Scope and lookup rules\n",
        "\n",
        "- The **scope** of an identifier is the region of program code in\n",
        "    which the identifier can be accessed, or used\n",
        "\n",
        "- There are three important scopes in Python:\n",
        "\n",
        "    - **Local scope** refers to identifiers declared within a\n",
        "        function: these identifiers are kept in the namespace that\n",
        "        belongs to the function, and each function has its own namespace\n",
        "\n",
        "    - **Global scope** refers to all the identifiers declared within\n",
        "        the current module, or file\n",
        "\n",
        "    - **Built-in scope** refers to all the identifiers built into\n",
        "        Python --- those like `range` and `min` that can be used without\n",
        "        having to import anything, and are (almost) always available\n",
        "\n",
        "- Functions `locals`, `globals`, and `dir` to see what is the scope\n",
        "\n",
        "- Python uses precedence rules: the innermost, or local scope, will\n",
        "    always take precedence over the global scope, and the global scope\n",
        "    always gets used in preference to the built-in scope\n",
        "\n",
        "$\\Rightarrow$\n",
        "<https://github.com/fpro-feup/public/tree/master/lectures/21/scope.py>"
      ]
    },
    {
      "cell_type": "markdown",
      "metadata": {
        "id": "wegVSFN75hFZ",
        "colab_type": "text"
      },
      "source": [
        "See it here:"
      ]
    },
    {
      "cell_type": "code",
      "metadata": {
        "id": "B7iRo8JQ5jSh",
        "colab_type": "code",
        "colab": {}
      },
      "source": [
        "n = 10\n",
        "m = 3\n",
        "\n",
        "def f(n):\n",
        "    m = 7\n",
        "    return 2 * n + m\n",
        "\n",
        "print(f(5), n, m)"
      ],
      "execution_count": 0,
      "outputs": []
    },
    {
      "cell_type": "markdown",
      "metadata": {
        "id": "27E-H2lMGXOk",
        "colab_type": "text"
      },
      "source": [
        "## 8.8 Three import statement variants"
      ]
    },
    {
      "cell_type": "markdown",
      "metadata": {
        "id": "9qee81XDid35",
        "colab_type": "text"
      },
      "source": [
        "### Three `import` statement variants\n",
        "\n",
        "- Here are three different ways to import names into the current\n",
        "    namespace, and to use them:\n",
        "\n",
        "```\n",
        "   # math is added to the current namespace\n",
        "   import math\n",
        "   x = math.sqrt(10)\n",
        "```"
      ]
    },
    {
      "cell_type": "markdown",
      "metadata": {
        "id": "DyKLpkKxinHB",
        "colab_type": "text"
      },
      "source": [
        "\n",
        "```\n",
        "   # names are added directly to the current namespace\n",
        "   from math import cos, sin, sqrt\n",
        "   x = sqrt(10)\n",
        "```"
      ]
    },
    {
      "cell_type": "markdown",
      "metadata": {
        "id": "8chiYkNVi4bD",
        "colab_type": "text"
      },
      "source": [
        "\n",
        "```\n",
        "   # importing a module under a different name\n",
        "   import math as m\n",
        "   m.pi\n",
        "```"
      ]
    },
    {
      "cell_type": "markdown",
      "metadata": {
        "id": "SW5rebYoG6jF",
        "colab_type": "text"
      },
      "source": [
        "# Packages"
      ]
    },
    {
      "cell_type": "markdown",
      "metadata": {
        "id": "LOyRpPvP8TgH",
        "colab_type": "text"
      },
      "source": [
        "### Packages\n",
        "\n",
        "- Packages are a way of structuring Python’s module namespace by using “dotted module names”\n",
        "\n",
        "- The module name `A.B` designates a submodule named `B` in a package named `A`\n",
        "\n",
        "- The use of dotted module names saves the authors of multi-module packages (like NumPy or Pillow) from having to worry about each other’s module names<sup>1</sup>\n",
        "\n",
        "- The `__init__.py` files are required to make Python treat directories containing the file as packages\n",
        "\n",
        "```\n",
        "import sound.effects.echo  # import individual modules from the package\n",
        "```\n",
        "\n",
        "<sup>1</sup> Just like the use of modules saves the authors of different modules from having to worry about each other’s global variable names"
      ]
    },
    {
      "cell_type": "markdown",
      "metadata": {
        "id": "Zz-UtV8ORH_t",
        "colab_type": "text"
      },
      "source": [
        "# Ticket to leave"
      ]
    },
    {
      "cell_type": "markdown",
      "metadata": {
        "id": "C-hchAExRRVh",
        "colab_type": "text"
      },
      "source": [
        "## Moodle activity\n",
        "\n",
        "[LE21: Modules](https://moodle.up.pt/mod/quiz/view.php?id=49614)"
      ]
    },
    {
      "cell_type": "markdown",
      "metadata": {
        "id": "uV1OP6ahRYne",
        "colab_type": "text"
      },
      "source": [
        "\n",
        "$\\Rightarrow$ \n",
        "[Go back to the Table of Contents](00-contents.ipynb)\n",
        "\n",
        "$\\Rightarrow$ \n",
        "[Read the Preface](00-preface.ipynb)"
      ]
    }
  ]
}