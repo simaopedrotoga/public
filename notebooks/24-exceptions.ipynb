{
  "nbformat": 4,
  "nbformat_minor": 0,
  "metadata": {
    "colab": {
      "name": "24-exceptions.ipynb",
      "provenance": [],
      "private_outputs": true,
      "collapsed_sections": [],
      "toc_visible": true
    },
    "kernelspec": {
      "name": "python3",
      "display_name": "Python 3"
    }
  },
  "cells": [
    {
      "cell_type": "markdown",
      "metadata": {
        "id": "8z5cONg8rUrX",
        "colab_type": "text"
      },
      "source": [
        "# Exceptions\n",
        "\n",
        "## Programming Fundamentals (NB24)\n",
        "\n",
        "### MIEIC/2019-20\n",
        "\n",
        "#### João Correia Lopes\n",
        "\n",
        "FEUP/DEI and INESC TEC"
      ]
    },
    {
      "cell_type": "markdown",
      "metadata": {
        "id": "MZzE7pYorju5",
        "colab_type": "text"
      },
      "source": [
        "## Goals\n",
        "\n",
        "By the end of this class, the student should be able to:\n",
        "\n",
        "- Write code to catch and handle *runtime* exceptions that may occur during program execution\n",
        "\n",
        "- Raise exceptions when a program detects an error condition\n",
        "\n",
        "- Assert conditions that must be true during execution\n"
      ]
    },
    {
      "cell_type": "markdown",
      "metadata": {
        "id": "eR5Lh1jNroE2",
        "colab_type": "text"
      },
      "source": [
        "## Bibliography\n",
        "\n",
        "- Peter Wentworth, Jeffrey Elkner, Allen B. Downey, and Chris Meyers, *How to Think Like a Computer Scientist — Learning with Python 3* (Appendix E)\n",
        "\n",
        "- The Python Tutorial, *8. Errors and Exceptions*, Python 3.7.5 documentation, December 10, 2019 (Section 8)\n"
      ]
    },
    {
      "cell_type": "markdown",
      "metadata": {
        "id": "8maMPjbu5rX-",
        "colab_type": "text"
      },
      "source": [
        "# Exceptions"
      ]
    },
    {
      "cell_type": "markdown",
      "metadata": {
        "id": "gxH2AKyT7Cdv",
        "colab_type": "text"
      },
      "source": [
        "### Divide by zero\n",
        "\n",
        "- For example, dividing by zero creates an exception:\n",
        "\n",
        "```\n",
        ">>> print(10/0)\n",
        "Traceback (most recent call last):\n",
        "File \"<interactive input>\", line 1, in <module>\n",
        "ZeroDivisionError: integer division or modulo by zero\n",
        "```"
      ]
    },
    {
      "cell_type": "markdown",
      "metadata": {
        "id": "zdz0Bg2HqFPV",
        "colab_type": "text"
      },
      "source": [
        "Try it:"
      ]
    },
    {
      "cell_type": "code",
      "metadata": {
        "id": "TtjAcogPp8Rj",
        "colab_type": "code",
        "colab": {}
      },
      "source": [
        "print(1/0)"
      ],
      "execution_count": 0,
      "outputs": []
    },
    {
      "cell_type": "markdown",
      "metadata": {
        "id": "zJtbo2t76pYB",
        "colab_type": "text"
      },
      "source": [
        "### Some Common Exceptions\n",
        "\n",
        "Here are some basic exceptions that you might encounter when\n",
        "writing programs:\n",
        "\n",
        "- `NameError` --- raised when the program cannot find a local or\n",
        "    global name\n",
        "\n",
        "- `TypeError` --- raised when a function is passed an object of the\n",
        "    inappropriate type as its argument\n",
        "\n",
        "- `ValueError` --- occurs when a function argument has the right type\n",
        "    but an inappropriate value\n",
        "\n",
        "- `ZeroDivisionError` --- raised when you provide the second argument\n",
        "    for a division or modulo operation as zero\n",
        "\n",
        "- `FileNotFoundError` --- raised when the file or directory that the\n",
        "    program requested does not exist\n",
        "\n",
        "$\\Rightarrow$\n",
        "[https://code.tutsplus.com/tutorials/](https://code.tutsplus.com/tutorials/how-to-handle-exceptions-in-python--cms-28621)"
      ]
    },
    {
      "cell_type": "markdown",
      "metadata": {
        "id": "2mzLdOQU5vtW",
        "colab_type": "text"
      },
      "source": [
        "## E.1 Catching exceptions"
      ]
    },
    {
      "cell_type": "markdown",
      "metadata": {
        "id": "oL_JQkfa6z2X",
        "colab_type": "text"
      },
      "source": [
        "### Runtime errors\n",
        "\n",
        "- Whenever a runtime error occurs, it creates an **exception** object\n",
        "\n",
        "- The program stops running at this point and Python prints out the\n",
        "    traceback, which ends with a message describing the exception that\n",
        "    occurred\n",
        "\n",
        "- The error message on the last line has two parts: the type of error\n",
        "    before the colon, and specifics about the error after the colon\n",
        "\n",
        "```\n",
        "   >>> tup = (\"a\", \"b\", \"d\", \"d\")\n",
        "   >>> tup[2] = \"c\"\n",
        "   Traceback (most recent call last):\n",
        "     File \"<interactive input>\", line 1, in <module>\n",
        "   TypeError: 'tuple' object does not support item assignment\n",
        "```"
      ]
    },
    {
      "cell_type": "markdown",
      "metadata": {
        "id": "AoJDfqp37c68",
        "colab_type": "text"
      },
      "source": [
        "### Catching exceptions\n",
        "\n",
        "- Sometimes we want to execute an operation that might cause an\n",
        "    exception, but we don't want the program to stop\n",
        "\n",
        "- We can handle the exception using the `try` statement to \"wrap\" a\n",
        "    region of code\n",
        "\n",
        "- The `except` statement *catches* the exception\n",
        "\n",
        "```\n",
        "  filename = input(\"Enter a file name: \")\n",
        "  try:\n",
        "      f = open(filename, \"r\")\n",
        "  except FileNotFoundError:\n",
        "      print(\"There is no file named\", filename)\n",
        "```\n",
        "\n",
        "- A `else` block is executed after the `try` one, if no exception\n",
        "    occurred\n",
        "\n",
        "- A `finally` block is executed in any case\n",
        "\n",
        "$\\Rightarrow$\n",
        "<https://github.com/fpro-feup/public/blob/master/lectures/24/try.py>"
      ]
    },
    {
      "cell_type": "markdown",
      "metadata": {
        "id": "GmnVDfk6r6vu",
        "colab_type": "text"
      },
      "source": [
        "Try this:"
      ]
    },
    {
      "cell_type": "code",
      "metadata": {
        "id": "Ww7MIgDTr8mj",
        "colab_type": "code",
        "colab": {}
      },
      "source": [
        "user_input = input(\"Type a number: \")\n",
        "\n",
        "try:\n",
        "    # Try do do something that could fail.\n",
        "    user_input_as_number = float(user_input)\n",
        "except ValueError:\n",
        "    # This will be executed if a \"ValueError\" is raised\n",
        "    print(\"You did not enter a number.\")\n",
        "else:\n",
        "    # This will be executed if not exception got raised in the \"try\"\n",
        "    print(\"The square of your number is \", user_input_as_number**2)\n",
        "finally:\n",
        "    # This will be executed whether or not an exception is raised\n",
        "    print(\"Thank you.\")"
      ],
      "execution_count": 0,
      "outputs": []
    },
    {
      "cell_type": "markdown",
      "metadata": {
        "id": "YOjTB1oD77Jg",
        "colab_type": "text"
      },
      "source": [
        "### Catching exceptions\n",
        "\n",
        "![image](images/24/realpython.png)\n",
        "\n",
        "$\\Rightarrow$ <https://realpython.com/python-exceptions/>"
      ]
    },
    {
      "cell_type": "markdown",
      "metadata": {
        "id": "9JrY4KXX9cKd",
        "colab_type": "text"
      },
      "source": [
        "### A Complete Example"
      ]
    },
    {
      "cell_type": "code",
      "metadata": {
        "id": "_Sy7--6L9hJ-",
        "colab_type": "code",
        "colab": {}
      },
      "source": [
        "import math\n",
        " \n",
        "number_list = [10, -5, 1.2, 'apple']\n",
        " \n",
        "for number in number_list:\n",
        "    try:\n",
        "        number_factorial = math.factorial(number)\n",
        "    except TypeError:\n",
        "        print(\"Factorial is not supported for given input type.\")\n",
        "    except ValueError:\n",
        "        print(\"Factorial only accepts positive integer values.\", number, \" is not a positive integer.\")\n",
        "    else:\n",
        "        print(\"The factorial of\", number, \"is\", number_factorial)\n",
        "    finally:\n",
        "        print(\"Release any resources in use.\")"
      ],
      "execution_count": 0,
      "outputs": []
    },
    {
      "cell_type": "markdown",
      "metadata": {
        "id": "KNoQkkuv902Z",
        "colab_type": "text"
      },
      "source": [
        "$\\Rightarrow$\n",
        "<https://github.com/fpro-feup/public/blob/master/lectures/24/example.py>\n"
      ]
    },
    {
      "cell_type": "markdown",
      "metadata": {
        "id": "3Pu5kVhr5zMl",
        "colab_type": "text"
      },
      "source": [
        "## E.2 Raising exceptions"
      ]
    },
    {
      "cell_type": "markdown",
      "metadata": {
        "id": "jJ670867-Oqj",
        "colab_type": "text"
      },
      "source": [
        "### Raising our own exceptions\n",
        "\n",
        "- Can our program deliberately cause its own exceptions?\n",
        "\n",
        "- If our program detects an error condition, we can raise an exception\n",
        "\n",
        "- If there's a chain of calls, \"*unwinding the call stack*\" takes\n",
        "    place until a `try ... except` is found\n",
        "\n",
        "```\n",
        "  def get_age():\n",
        "      age = int(input(\"Please enter your age: \"))\n",
        "      if age < 0:\n",
        "          # Create a new instance of an exception\n",
        "          my_error = ValueError(\"{0} is not a valid age\".format(age))\n",
        "          raise my_error\n",
        "      return age\n",
        "```\n",
        "\n",
        "$\\Rightarrow$\n",
        "<https://github.com/fpro-feup/public/blob/master/lectures/24/age.py>"
      ]
    },
    {
      "cell_type": "markdown",
      "metadata": {
        "id": "Jv0pWmDysyC7",
        "colab_type": "text"
      },
      "source": [
        "Test for a valid age."
      ]
    },
    {
      "cell_type": "code",
      "metadata": {
        "id": "V__D7Ng_tD5p",
        "colab_type": "code",
        "colab": {}
      },
      "source": [
        "def get_age(age):\n",
        "    if age < 0 or age > 120:\n",
        "        # Create a new instance of an exception\n",
        "        my_error = ValueError(\"{0} is not a valid age\".format(age))\n",
        "        raise my_error\n",
        "    return age\n",
        "\n",
        "age = int(input(\"Please enter your age: \"))\n",
        "print(get_age(age))"
      ],
      "execution_count": 0,
      "outputs": []
    },
    {
      "cell_type": "markdown",
      "metadata": {
        "id": "KrpUGT-J53B8",
        "colab_type": "text"
      },
      "source": [
        "## E.3 Revisiting an earlier example"
      ]
    },
    {
      "cell_type": "markdown",
      "metadata": {
        "id": "axz8GQNb-m42",
        "colab_type": "text"
      },
      "source": [
        "### Revisiting an earlier example\n",
        "\n",
        "- Using exception handling, we can now modify our `recursion_depth`\n",
        "  previous example so that it stops when it reaches the maximum recursion \n",
        "  depth allowed\n",
        "\n",
        "$\\Rightarrow$\n",
        "<https://github.com/fpro-feup/public/blob/master/lectures/24/rec_depth.py>"
      ]
    },
    {
      "cell_type": "code",
      "metadata": {
        "id": "m4AA5m4ptvfP",
        "colab_type": "code",
        "colab": {}
      },
      "source": [
        "def recursion_depth(number):\n",
        "    print(\"Recursion depth number\", number)\n",
        "    try:\n",
        "        recursion_depth(number + 1)\n",
        "    except:\n",
        "        print(\"I cannot go any deeper into this wormhole.\")\n",
        "\n",
        "recursion_depth(0)"
      ],
      "execution_count": 0,
      "outputs": []
    },
    {
      "cell_type": "markdown",
      "metadata": {
        "id": "780WFi1k56bG",
        "colab_type": "text"
      },
      "source": [
        "## E.4 The `finally` clause of the `try` statement"
      ]
    },
    {
      "cell_type": "markdown",
      "metadata": {
        "id": "UfF9uvny_GdJ",
        "colab_type": "text"
      },
      "source": [
        "### `finally`\n",
        "\n",
        "- A common programming pattern is to grab a resource of some kind\n",
        "\n",
        "- Then we perform some computation which may raise an exception, or\n",
        "    may work without any problems\n",
        "\n",
        "- Whatever happens, we want to \"clean up\" the resources we grabbed\n"
      ]
    },
    {
      "cell_type": "markdown",
      "metadata": {
        "id": "qXR_MlunIjsS",
        "colab_type": "text"
      },
      "source": [
        "\n",
        "Try it here:\n",
        "\n",
        "$\\Rightarrow$\n",
        "<https://github.com/fpro-feup/public/blob/master/lectures/24/show_poly.py>"
      ]
    },
    {
      "cell_type": "markdown",
      "metadata": {
        "id": "ADPN5Qef59xX",
        "colab_type": "text"
      },
      "source": [
        "## The `assert` statement"
      ]
    },
    {
      "cell_type": "markdown",
      "metadata": {
        "id": "HEyehW0c_PSc",
        "colab_type": "text"
      },
      "source": [
        "### Assertions\n",
        "\n",
        "- Assertions are statements that assert or state a fact\n",
        "\n",
        "- Assertions are simply boolean expressions that checks if the\n",
        "    conditions return true or not: if it's false, the program stops and\n",
        "    throws an error\n",
        "\n",
        "- `assert` statement takes an expression and optional message\n",
        "\n",
        "- Assertions are used to check types, values of argument and the\n",
        "    output of the function\n",
        "\n",
        "- Assertions are used as debugging tool as it halts the program at the\n",
        "    point where an error occurs\n",
        "\n",
        "$\\Rightarrow$\n",
        "<https://github.com/fpro-feup/public/blob/master/lectures/24/assert.py>"
      ]
    },
    {
      "cell_type": "markdown",
      "metadata": {
        "id": "taoBE-HOI43o",
        "colab_type": "text"
      },
      "source": [
        "Use assert [[Programiz]](https://www.programiz.com/python-programming/assert-statement):"
      ]
    },
    {
      "cell_type": "code",
      "metadata": {
        "id": "AMlTfRgNI-Wt",
        "colab_type": "code",
        "colab": {}
      },
      "source": [
        "def avg(marks):\n",
        "    # Cannot divide by zero\n",
        "    assert len(marks) != 0, \"List is empty.\"\n",
        "    return sum(marks)/len(marks)"
      ],
      "execution_count": 0,
      "outputs": []
    },
    {
      "cell_type": "code",
      "metadata": {
        "id": "5CyYK5YGJJyZ",
        "colab_type": "code",
        "colab": {}
      },
      "source": [
        "mark2 = [55, 88, 78, 90, 79]\n",
        "print(\"Average of mark2:\", avg(mark2))"
      ],
      "execution_count": 0,
      "outputs": []
    },
    {
      "cell_type": "code",
      "metadata": {
        "id": "kI0hVQAhJOYS",
        "colab_type": "code",
        "colab": {}
      },
      "source": [
        "mark1 = []\n",
        "print(\"Average of mark1:\", avg(mark1))"
      ],
      "execution_count": 0,
      "outputs": []
    },
    {
      "cell_type": "markdown",
      "metadata": {
        "id": "9UikHuJm6D10",
        "colab_type": "text"
      },
      "source": [
        "## Examples & Summary"
      ]
    },
    {
      "cell_type": "markdown",
      "metadata": {
        "id": "yoBPaWeQ_qwU",
        "colab_type": "text"
      },
      "source": [
        "### The Most Diabolical Python Antipattern\n",
        "\n",
        "- There are plenty of ways to write bad code. But in Python, one in\n",
        "    particular reigns as king\n",
        "\n",
        "```\n",
        "  try:\n",
        "      do_something()\n",
        "  except:\n",
        "      pass\n",
        "```\n",
        "\n",
        "$\\Rightarrow$\n",
        "<https://realpython.com/the-most-diabolical-python-antipattern/>"
      ]
    },
    {
      "cell_type": "markdown",
      "metadata": {
        "id": "OrlgCsDq_3nl",
        "colab_type": "text"
      },
      "source": [
        "### Validate user input\n",
        "\n",
        "```\n",
        "  def inputNumber(message):\n",
        "      while True:\n",
        "          try:\n",
        "              userInput = int(input(message))       \n",
        "          except ValueError:\n",
        "              print(\"Not an integer! Try again.\")\n",
        "              continue\n",
        "          else:\n",
        "              return userInput \n",
        "\n",
        "  age = inputNumber(\"How old are you?\")\n",
        "```"
      ]
    },
    {
      "cell_type": "markdown",
      "metadata": {
        "id": "IFFHbKh6ABZj",
        "colab_type": "text"
      },
      "source": [
        "### Nested `try`\n",
        "\n",
        "```\n",
        "  try:\n",
        "      try:\n",
        "          raise ValueError('1')\n",
        "      except TypeError:\n",
        "          print(\"Caught the type error\")\n",
        "  except ValueError:\n",
        "      print(\"Caught the value error!\")\n",
        "```\n",
        "\n",
        "$\\Rightarrow$\n",
        "<https://github.com/fpro-feup/public/blob/master/lectures/24/nested_try.py>"
      ]
    },
    {
      "cell_type": "markdown",
      "metadata": {
        "id": "-UVqQetCKPzf",
        "colab_type": "text"
      },
      "source": [
        "### Nested exceptions"
      ]
    },
    {
      "cell_type": "code",
      "metadata": {
        "id": "I_mIqXjXKUZ7",
        "colab_type": "code",
        "colab": {}
      },
      "source": [
        "try:\n",
        "    try:\n",
        "        raise ValueError('1')\n",
        "    except TypeError:\n",
        "        print(\"Caught the type error\")\n",
        "except ValueError:\n",
        "    print(\"Caught the value error!\")"
      ],
      "execution_count": 0,
      "outputs": []
    },
    {
      "cell_type": "markdown",
      "metadata": {
        "id": "VhtzuKHpKY08",
        "colab_type": "text"
      },
      "source": [
        "Another example:"
      ]
    },
    {
      "cell_type": "code",
      "metadata": {
        "id": "tfYQ2Zx6KeQc",
        "colab_type": "code",
        "colab": {}
      },
      "source": [
        "try:\n",
        "    try:\n",
        "        raise ValueError('1')\n",
        "    except TypeError:\n",
        "        pass\n",
        "    except ValueError:\n",
        "        print(\"Caught the inner valueError!\")\n",
        "except ValueError:\n",
        "    print(\"Caught the outer value error!'\")"
      ],
      "execution_count": 0,
      "outputs": []
    },
    {
      "cell_type": "markdown",
      "metadata": {
        "id": "yxv_I7GoAOsR",
        "colab_type": "text"
      },
      "source": [
        "### Summing Up\n",
        "\n",
        "- After seeing the difference between syntax errors and exceptions,\n",
        "    you learned about various ways to raise, catch, and handle\n",
        "    exceptions in Python:\n",
        "\n",
        "    - `raise` allows you to throw an exception at any time\n",
        "\n",
        "    - `assert` enables you to verify if a certain condition is met and\n",
        "        throw an exception if it isn't\n",
        "\n",
        "    - In the `try` clause, all statements are executed until an\n",
        "        exception is encountered\n",
        "\n",
        "    - `except` is used to catch and handle the exception(s) that are\n",
        "        encountered in the `try` clause\n",
        "\n",
        "    - `else` lets you code sections that should run only when no\n",
        "        exceptions are encountered in the try clause\n",
        "\n",
        "    - `finally` enables you to execute sections of code that should\n",
        "        always run, with or without any previously encountered\n",
        "        exceptions"
      ]
    },
    {
      "cell_type": "markdown",
      "metadata": {
        "id": "Zz-UtV8ORH_t",
        "colab_type": "text"
      },
      "source": [
        "# Ticket to leave"
      ]
    },
    {
      "cell_type": "markdown",
      "metadata": {
        "id": "C-hchAExRRVh",
        "colab_type": "text"
      },
      "source": [
        "## Moodle activity\n",
        "\n",
        "[LE24: Exceptions](https://moodle.up.pt/mod/quiz/view.php?id=49617)"
      ]
    },
    {
      "cell_type": "markdown",
      "metadata": {
        "id": "uV1OP6ahRYne",
        "colab_type": "text"
      },
      "source": [
        "\n",
        "$\\Rightarrow$ \n",
        "[Go back to the Table of Contents](00-contents.ipynb)\n",
        "\n",
        "$\\Rightarrow$ \n",
        "[Read the Preface](00-preface.ipynb)"
      ]
    }
  ]
}