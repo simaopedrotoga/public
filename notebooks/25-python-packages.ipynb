{
  "nbformat": 4,
  "nbformat_minor": 0,
  "metadata": {
    "celltoolbar": "Slideshow",
    "kernelspec": {
      "display_name": "Python 3",
      "language": "python",
      "name": "python3"
    },
    "language_info": {
      "codemirror_mode": {
        "name": "ipython",
        "version": 3
      },
      "file_extension": ".py",
      "mimetype": "text/x-python",
      "name": "python",
      "nbconvert_exporter": "python",
      "pygments_lexer": "ipython3",
      "version": "3.6.9"
    },
    "colab": {
      "name": "25-python-packages.ipynb",
      "provenance": [],
      "collapsed_sections": [
        "qZKFlccM3HJX"
      ],
      "toc_visible": true
    }
  },
  "cells": [
    {
      "cell_type": "markdown",
      "metadata": {
        "id": "IW9VCQ6q3HIp",
        "colab_type": "text"
      },
      "source": [
        "# About me\n",
        "\n",
        "My name is Ricardo Cruz. I am doing a PhD in Informatics, and I am working with machine learning and computer vision. https://rpmcruz.github.io/\n",
        "\n",
        "If you interested in neural networks and etc, I recommend you do your Masters thesis with **Professor Jaime S. Cardoso**.\n",
        "\n",
        "<img src=\"https://drive.google.com/uc?export=view&id=1wv592v9tLQz6P1MVyOn3Aly43xuXjvit\">"
      ]
    },
    {
      "cell_type": "markdown",
      "metadata": {
        "id": "sPwZSE2L3HIr",
        "colab_type": "text"
      },
      "source": [
        "# Python Packages\n",
        "\n",
        "We will focus today on packages for scientific programming.\n",
        "\n",
        "<img src=\"https://drive.google.com/uc?export=view&id=1mfqhkkfNZQSW0rjhqp_mhrWqQndpbPA6\">\n",
        "\n",
        "\\* the ones to be discussed today"
      ]
    },
    {
      "cell_type": "markdown",
      "metadata": {
        "id": "k3c6vSOp3HIs",
        "colab_type": "text"
      },
      "source": [
        "# NumPy\n",
        "\n",
        "We have been creating matrices using lists of lists.\n",
        "\n",
        "For example, we would write $$M=\\begin{pmatrix}1&2&3\\\\4&5&6\\end{pmatrix}$$\n",
        "\n",
        "as"
      ]
    },
    {
      "cell_type": "code",
      "metadata": {
        "id": "bjA3Sc0v3HIt",
        "colab_type": "code",
        "colab": {}
      },
      "source": [
        "M = [\n",
        "    [1, 2, 3],\n",
        "    [4, 5, 6]\n",
        "]\n",
        "M"
      ],
      "execution_count": 0,
      "outputs": []
    },
    {
      "cell_type": "code",
      "metadata": {
        "id": "e08HUVv33HIv",
        "colab_type": "code",
        "colab": {}
      },
      "source": [
        "M = [\n",
        "    [1, 2, 3],\n",
        "    [4, 5, 6]\n",
        "]"
      ],
      "execution_count": 0,
      "outputs": []
    },
    {
      "cell_type": "markdown",
      "metadata": {
        "id": "CnXwxIls3HIx",
        "colab_type": "text"
      },
      "source": [
        "What do I do if I want to select the **first row**?"
      ]
    },
    {
      "cell_type": "code",
      "metadata": {
        "id": "1wH4g_yn3HIy",
        "colab_type": "code",
        "colab": {}
      },
      "source": [
        "# demonstration"
      ],
      "execution_count": 0,
      "outputs": []
    },
    {
      "cell_type": "code",
      "metadata": {
        "id": "vD79J4by3HI0",
        "colab_type": "code",
        "colab": {}
      },
      "source": [
        "M = [\n",
        "    [1, 2, 3],\n",
        "    [4, 5, 6]\n",
        "]"
      ],
      "execution_count": 0,
      "outputs": []
    },
    {
      "cell_type": "markdown",
      "metadata": {
        "id": "tl52V3BF3HI2",
        "colab_type": "text"
      },
      "source": [
        "What do I do if I want to select the **third column**?"
      ]
    },
    {
      "cell_type": "markdown",
      "metadata": {
        "id": "pwjdInRS3HI2",
        "colab_type": "text"
      },
      "source": [
        "<img width=\"200\" height=\"200\" src=\"https://drive.google.com/uc?export=view&id=1_dtTWsVYnwHV1b4vTT6Wa30XcB8B9sYg\">\n",
        "\n",
        "It isn't as easy, uh?"
      ]
    },
    {
      "cell_type": "code",
      "metadata": {
        "id": "ayIy9dAg3HI3",
        "colab_type": "code",
        "colab": {}
      },
      "source": [
        "# demonstration"
      ],
      "execution_count": 0,
      "outputs": []
    },
    {
      "cell_type": "markdown",
      "metadata": {
        "id": "QdMjZI-u3HI5",
        "colab_type": "text"
      },
      "source": [
        "# NumPy to the rescue"
      ]
    },
    {
      "cell_type": "code",
      "metadata": {
        "id": "F_kSvtAb3HI5",
        "colab_type": "code",
        "colab": {}
      },
      "source": [
        "M = [\n",
        "    [1, 2, 3],\n",
        "    [4, 5, 6]\n",
        "]\n",
        "\n",
        "# demonstration"
      ],
      "execution_count": 0,
      "outputs": []
    },
    {
      "cell_type": "markdown",
      "metadata": {
        "id": "DIeUxQiS3HI7",
        "colab_type": "text"
      },
      "source": [
        "# YES !!\n",
        "\n",
        "<img src=\"https://drive.google.com/uc?export=view&id=1ZoGkLqZoTQwYlRQcvXsUuvMJscdDjEpn\">\n",
        "\n",
        "Furthermore: we don't need to be concerned about aliasing. `M.copy()` copies everything."
      ]
    },
    {
      "cell_type": "markdown",
      "metadata": {
        "id": "CYQ7BtMB3HI8",
        "colab_type": "text"
      },
      "source": [
        "# NumPy\n",
        "## How to create arrays\n",
        "\n",
        "| Type | Example |\n",
        "|:-|:-|\n",
        "| From lists | `np.array(M)` |\n",
        "| Zeros  | `np.zeros((2, 3))` |\n",
        "| Ones   | `np.ones((2, 3))` |\n",
        "| Random uniform | `np.random.rand(2, 3)` |\n",
        "| Random gaussian | `np.random.randn(2, 3)` |\n",
        "\n",
        "(Why does numpy call them *arrays*?)"
      ]
    },
    {
      "cell_type": "code",
      "metadata": {
        "id": "1y0vXM-a3HI8",
        "colab_type": "code",
        "colab": {}
      },
      "source": [
        "# demonstration\n",
        "# (show .shape)"
      ],
      "execution_count": 0,
      "outputs": []
    },
    {
      "cell_type": "markdown",
      "metadata": {
        "id": "uhW813RR3HI-",
        "colab_type": "text"
      },
      "source": [
        "# NumPy\n",
        "## Indexing & slicing\n",
        "\n",
        "The difference in slicing between python list and numpy array is that we can access different axis at the same time:"
      ]
    },
    {
      "cell_type": "code",
      "metadata": {
        "id": "1f7TOdTF3HI_",
        "colab_type": "code",
        "colab": {}
      },
      "source": [
        "a = np.zeros((5, 10, 2, 7))\n",
        "a.shape"
      ],
      "execution_count": 0,
      "outputs": []
    },
    {
      "cell_type": "code",
      "metadata": {
        "id": "TRnqusGX3HJB",
        "colab_type": "code",
        "colab": {}
      },
      "source": [
        "b = a[:, 3:10, -1, :]\n",
        "b.shape\n",
        "\n",
        "# Notice that indexing using negative values `a[-2]` is supported like in Python lists."
      ],
      "execution_count": 0,
      "outputs": []
    },
    {
      "cell_type": "markdown",
      "metadata": {
        "id": "AEMz-WvF3HJC",
        "colab_type": "text"
      },
      "source": [
        "Let's create a matrix of zeros with a square of ones:\n",
        "\n",
        "$$\\begin{pmatrix}0&0&0&0&0\\\\0&1&1&1&0\\\\0&1&1&1&0\\\\0&1&1&1&0\\\\0&0&0&0&0\\\\\\end{pmatrix}$$"
      ]
    },
    {
      "cell_type": "code",
      "metadata": {
        "id": "4GmxuVLf3HJD",
        "colab_type": "code",
        "colab": {}
      },
      "source": [
        "# demonstration\n",
        "M = ..."
      ],
      "execution_count": 0,
      "outputs": []
    },
    {
      "cell_type": "code",
      "metadata": {
        "id": "5ov7ozZK3HJF",
        "colab_type": "code",
        "colab": {}
      },
      "source": [
        "import matplotlib.pyplot as plt\n",
        "plt.imshow(M)\n",
        "plt.show()"
      ],
      "execution_count": 0,
      "outputs": []
    },
    {
      "cell_type": "markdown",
      "metadata": {
        "id": "uy37TQDN3HJH",
        "colab_type": "text"
      },
      "source": [
        "Let's create a circle:"
      ]
    },
    {
      "cell_type": "code",
      "metadata": {
        "id": "PYF79bYV3HJH",
        "colab_type": "code",
        "colab": {}
      },
      "source": [
        "# demonstration\n",
        "M = ..."
      ],
      "execution_count": 0,
      "outputs": []
    },
    {
      "cell_type": "code",
      "metadata": {
        "id": "O11YIdzE3HJJ",
        "colab_type": "code",
        "colab": {}
      },
      "source": [
        "import matplotlib.pyplot as plt\n",
        "plt.imshow(M)\n",
        "plt.show()"
      ],
      "execution_count": 0,
      "outputs": []
    },
    {
      "cell_type": "markdown",
      "metadata": {
        "id": "UuH8dk3g3HJL",
        "colab_type": "text"
      },
      "source": [
        "## What is an image?\n",
        "\n",
        "An image is simply three matrices, each matrix represents a color: <b><span style=\"color:red\">R</span><span style=\"color:green\">G</span><span style=\"color:blue\">B</span></b>.\n",
        "\n",
        "```python\n",
        "R = ...\n",
        "G = ...\n",
        "B = ...\n",
        "```\n",
        "\n",
        "Let's draw a red circle."
      ]
    },
    {
      "cell_type": "code",
      "metadata": {
        "id": "45WwWfXr3HJL",
        "colab_type": "code",
        "colab": {}
      },
      "source": [
        "# demonstration (use np.stack)"
      ],
      "execution_count": 0,
      "outputs": []
    },
    {
      "cell_type": "markdown",
      "metadata": {
        "id": "KCihr7fS3HJN",
        "colab_type": "text"
      },
      "source": [
        "# NumPy\n",
        "## Aggregate operations\n",
        "\n",
        "| Type | Example |\n",
        "|:-|:-|\n",
        "| Sum | `np.sum(array, axis)` |\n",
        "| Average  | `np.mean(array, axis)` |\n",
        "| Standard deviation   | `np.std(array, axis)` |"
      ]
    },
    {
      "cell_type": "code",
      "metadata": {
        "id": "cv26Mva43HJO",
        "colab_type": "code",
        "colab": {}
      },
      "source": [
        "# demonstration"
      ],
      "execution_count": 0,
      "outputs": []
    },
    {
      "cell_type": "markdown",
      "metadata": {
        "id": "V7XX0j2g3HJP",
        "colab_type": "text"
      },
      "source": [
        "# NumPy\n",
        "## Arithmetic operations\n",
        "\n",
        "| Type | Example |\n",
        "|:-|:-|\n",
        "| element-wise addition | `A+B` |\n",
        "| element-wise product | `A*B` |\n",
        "| matrix multiplication | `np.dot(A, B)` |"
      ]
    },
    {
      "cell_type": "code",
      "metadata": {
        "id": "HuoiEwL23HJQ",
        "colab_type": "code",
        "colab": {}
      },
      "source": [
        "# demonstration"
      ],
      "execution_count": 0,
      "outputs": []
    },
    {
      "cell_type": "markdown",
      "metadata": {
        "id": "BPbMw6tb3HJT",
        "colab_type": "text"
      },
      "source": [
        "## Arithmetic broadcasting\n",
        "\n",
        "NumPy supports arithmetic broadcasting:"
      ]
    },
    {
      "cell_type": "code",
      "metadata": {
        "id": "_MoOel0R3HJU",
        "colab_type": "code",
        "colab": {}
      },
      "source": [
        "A = np.array([[1, 2, 3], [4, 5, 6]])\n",
        "B = np.array([[1, 2, 3]])\n",
        "print('A:', A.shape, 'B:', B.shape)"
      ],
      "execution_count": 0,
      "outputs": []
    },
    {
      "cell_type": "code",
      "metadata": {
        "id": "PgGfLcGY3HJW",
        "colab_type": "code",
        "colab": {}
      },
      "source": [
        "A*B"
      ],
      "execution_count": 0,
      "outputs": []
    },
    {
      "cell_type": "markdown",
      "metadata": {
        "id": "qZKFlccM3HJX",
        "colab_type": "text"
      },
      "source": [
        "## Arithmetic broadcasting\n",
        "\n",
        "As long as A and B have the same dimensions (axes), NumPy automatically (implicitly) repeats the arithmetic operation along the dimension of different size.\n",
        "\n",
        "This is a time-saver but can also be a source of bugs. \"Implicit is better than explicit.\" Not in NumPy. :P\n",
        "\n",
        "*Other languages:* MATLAB 2016b added this feature which Octave already supported. Julia supports broadcasting but requires being explicit annotation."
      ]
    },
    {
      "cell_type": "markdown",
      "metadata": {
        "id": "2Ki4foMN3HJY",
        "colab_type": "text"
      },
      "source": [
        "# NumPy application\n",
        "\n",
        "<img src=\"https://drive.google.com/uc?export=view&id=1Be2pZIIovo0pCogsiEX_EFrtZdXGIeFE\">\n",
        "\n",
        "1. Face recognition?\n",
        "1. Background replacement?\n",
        "\n",
        "[change slide]"
      ]
    },
    {
      "cell_type": "markdown",
      "metadata": {
        "id": "rjXHmx1V3HJY",
        "colab_type": "text"
      },
      "source": [
        "The main Python package for computer vision is **OpenCV**:\n",
        "* It is quite old (2000)\n",
        "* The primary languages are C and C++\n",
        "* Python is the main secundary language\n",
        "* OpenCV is a bit archaic but it has many features."
      ]
    },
    {
      "cell_type": "code",
      "metadata": {
        "id": "OmFW9cLD3HJZ",
        "colab_type": "code",
        "colab": {}
      },
      "source": [
        "import cv2\n",
        "import numpy as np\n",
        "\n",
        "cap = cv2.VideoCapture(0)\n",
        "\n",
        "while True:\n",
        "    _, frame = cap.read()\n",
        "\n",
        "    ...\n",
        "    ...\n",
        "    \n",
        "    cv2.imshow('frame', frame)\n",
        "    if cv2.waitKey(1) == 27:  # Esc\n",
        "        break\n",
        "\n",
        "cap.release()\n",
        "cv2.destroyAllWindows()"
      ],
      "execution_count": 0,
      "outputs": []
    },
    {
      "cell_type": "markdown",
      "metadata": {
        "id": "OcemSWbW3HJb",
        "colab_type": "text"
      },
      "source": [
        "# Pandas\n",
        "\n",
        "<img src=\"https://drive.google.com/uc?export=view&id=17zVEbtr5m_tdbZ9m_bWZMFXnSxkJFRqQ\">"
      ]
    },
    {
      "cell_type": "markdown",
      "metadata": {
        "id": "ErlZydm63HJb",
        "colab_type": "text"
      },
      "source": [
        "<img src=\"https://drive.google.com/uc?export=view&id=1mfqhkkfNZQSW0rjhqp_mhrWqQndpbPA6\">\n",
        "\n",
        "Working with matrices in NumPy is better than using lists, right?\n",
        "\n",
        "But it could be even better. Pandas extends NumPy and Matplotlib:\n",
        "\n",
        "1. You can easily import/export to CSV or Excel\n",
        "1. You can access columns and rows using names\n",
        "1. It has functions to merge matrices according to a certain column\n",
        "1. It has functions to group and aggregate by categories\n",
        "1. It has functions to work with time series\n",
        "\n",
        "Matrices in Pandas are called **data frames** like in R and other statistical languages.\n",
        "\n",
        "Why use Python when other languages exist for statistics? Python is a generic programming language, therefore it is easier to interoperate and deploy in real systems."
      ]
    },
    {
      "cell_type": "markdown",
      "metadata": {
        "id": "k7ELzr6f3HJc",
        "colab_type": "text"
      },
      "source": [
        "# Pandas\n",
        "## Analyze students grades\n",
        "\n",
        "First, let us get your grades: https://moodle.up.pt/grade/report/grader/index.php?id=2126"
      ]
    },
    {
      "cell_type": "code",
      "metadata": {
        "id": "8btndUSQ3HJc",
        "colab_type": "code",
        "colab": {}
      },
      "source": [
        "from pandas_ods_reader import read_ods\n",
        "import pandas as pd\n",
        "import numpy as np\n",
        "import matplotlib.pyplot as plt"
      ],
      "execution_count": 0,
      "outputs": []
    },
    {
      "cell_type": "code",
      "metadata": {
        "id": "cGNbjnO43HJe",
        "colab_type": "code",
        "colab": {}
      },
      "source": [
        "df = read_ods('FEUP-EIC0005-20192020-1S Pauta.ods', 1)"
      ],
      "execution_count": 0,
      "outputs": []
    },
    {
      "cell_type": "code",
      "metadata": {
        "id": "oeQAQAMH3HJg",
        "colab_type": "code",
        "colab": {}
      },
      "source": [
        "df.columns"
      ],
      "execution_count": 0,
      "outputs": []
    },
    {
      "cell_type": "code",
      "metadata": {
        "id": "uLRxBWrt3HJh",
        "colab_type": "code",
        "colab": {}
      },
      "source": [
        "# Let us get some things we want\n",
        "df = df[['Endereço de e-mail', 'Total da unidade curricular (Real)']]"
      ],
      "execution_count": 0,
      "outputs": []
    },
    {
      "cell_type": "code",
      "metadata": {
        "id": "spIh6_QY3HJj",
        "colab_type": "code",
        "colab": {}
      },
      "source": [
        "df"
      ],
      "execution_count": 0,
      "outputs": []
    },
    {
      "cell_type": "code",
      "metadata": {
        "id": "RxWZhHSh3HJl",
        "colab_type": "code",
        "colab": {}
      },
      "source": [
        "df.columns = ['email', 'nota']\n",
        "df"
      ],
      "execution_count": 0,
      "outputs": []
    },
    {
      "cell_type": "code",
      "metadata": {
        "id": "rnXHkZ2X3HJm",
        "colab_type": "code",
        "colab": {}
      },
      "source": [
        "df['nota']"
      ],
      "execution_count": 0,
      "outputs": []
    },
    {
      "cell_type": "code",
      "metadata": {
        "id": "Jm30YkeP3HJq",
        "colab_type": "code",
        "colab": {}
      },
      "source": [
        "np.mean(df['nota'])"
      ],
      "execution_count": 0,
      "outputs": []
    },
    {
      "cell_type": "code",
      "metadata": {
        "id": "TqnnmAKf3HJs",
        "colab_type": "code",
        "colab": {}
      },
      "source": [
        "df['nota'] = df['nota'].replace('-', np.nan)"
      ],
      "execution_count": 0,
      "outputs": []
    },
    {
      "cell_type": "code",
      "metadata": {
        "id": "G13-DDX-3HJu",
        "colab_type": "code",
        "colab": {}
      },
      "source": [
        "np.mean(df['nota'])"
      ],
      "execution_count": 0,
      "outputs": []
    },
    {
      "cell_type": "code",
      "metadata": {
        "id": "djWH3it53HJv",
        "colab_type": "code",
        "colab": {}
      },
      "source": [
        "df"
      ],
      "execution_count": 0,
      "outputs": []
    },
    {
      "cell_type": "code",
      "metadata": {
        "id": "mDi6v45i3HJy",
        "colab_type": "code",
        "colab": {}
      },
      "source": [
        "# LE=10%\n",
        "# RE=10%\n",
        "# PE=50%\n",
        "# TE=30%\n",
        "df['nota'] = df['nota'] / 0.7"
      ],
      "execution_count": 0,
      "outputs": []
    },
    {
      "cell_type": "code",
      "metadata": {
        "id": "UjjUARIO3HJz",
        "colab_type": "code",
        "colab": {}
      },
      "source": [
        "df"
      ],
      "execution_count": 0,
      "outputs": []
    },
    {
      "cell_type": "code",
      "metadata": {
        "id": "DYLzm3fi3HJ1",
        "colab_type": "code",
        "colab": {}
      },
      "source": [
        "df['nota'].plot(kind='hist')"
      ],
      "execution_count": 0,
      "outputs": []
    },
    {
      "cell_type": "code",
      "metadata": {
        "id": "N0N4h7nK3HJ2",
        "colab_type": "code",
        "colab": {}
      },
      "source": [
        "plt.hist(df['nota'])"
      ],
      "execution_count": 0,
      "outputs": []
    },
    {
      "cell_type": "code",
      "metadata": {
        "id": "36w3ee9z3HJ4",
        "colab_type": "code",
        "colab": {}
      },
      "source": [
        "df.boxplot('nota')"
      ],
      "execution_count": 0,
      "outputs": []
    },
    {
      "cell_type": "markdown",
      "metadata": {
        "id": "B1WEpUYY3HJ5",
        "colab_type": "text"
      },
      "source": [
        "<img src=\"https://drive.google.com/uc?export=view&id=1N8fn2wpFSVX8a4qliVJdN8YOVo8zXJCf\">\n",
        "\n",
        "I suggest we either:\n",
        "\n",
        "1. Break grades by class\n",
        "1. Break grades by gender\n",
        "1. Break grades by student year."
      ]
    },
    {
      "cell_type": "markdown",
      "metadata": {
        "id": "djgdYDIA3HJ8",
        "colab_type": "text"
      },
      "source": [
        "# Conclusion\n",
        "\n",
        "We have learned about:\n",
        "1. Numpy\n",
        "1. Pandas\n",
        "1. Matplotlib\n",
        "1. OpenCV\n",
        "\n",
        "<img src=\"https://drive.google.com/uc?export=view&id=1pLbwUJwCBQV9M1oZRX8DaQ79RooWAUQ6\">\n",
        "\n",
        "### Questions?"
      ]
    }
  ]
}