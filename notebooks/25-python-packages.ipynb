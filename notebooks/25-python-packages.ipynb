{
 "cells": [
  {
   "cell_type": "markdown",
   "metadata": {
    "slideshow": {
     "slide_type": "slide"
    }
   },
   "source": [
    "# Python Packages\n",
    "\n",
    "## Programming Fundamentals (NB25)\n",
    "\n",
    "### MIEIC/2019-20\n",
    "\n",
    "#### Ricardo Cruz\n",
    "\n",
    "INESC TEC"
   ]
  },
  {
   "cell_type": "markdown",
   "metadata": {
    "slideshow": {
     "slide_type": "slide"
    }
   },
   "source": [
    "# About me\n",
    "\n",
    "My name is Ricardo Cruz. I am doing a PhD in Informatics, and I am working with machine learning and computer vision.\n",
    "\n",
    "If you interested in neural networks and etc, I recommend you do your Masters thesis with **Professor Jaime S. Cardoso**.\n",
    "\n",
    "<img src=\"images/25/insulator.jpg\">"
   ]
  },
  {
   "cell_type": "markdown",
   "metadata": {
    "slideshow": {
     "slide_type": "slide"
    }
   },
   "source": [
    "# Python Packages\n",
    "\n",
    "We will focus today on packages for scientific programming.\n",
    "\n",
    "<img src=\"images/25/diagram.svg\">\n",
    "\n",
    "\\* the ones to be discussed today"
   ]
  },
  {
   "cell_type": "markdown",
   "metadata": {
    "slideshow": {
     "slide_type": "slide"
    }
   },
   "source": [
    "# NumPy\n",
    "\n",
    "We have been creating matrices using lists of lists.\n",
    "\n",
    "For example, we would write $$M=\\begin{pmatrix}1&2&3\\\\4&5&6\\end{pmatrix}$$\n",
    "\n",
    "as"
   ]
  },
  {
   "cell_type": "code",
   "execution_count": null,
   "metadata": {
    "slideshow": {
     "slide_type": "fragment"
    }
   },
   "outputs": [],
   "source": [
    "M = [\n",
    "    [1, 2, 3],\n",
    "    [4, 5, 6]\n",
    "]\n",
    "M"
   ]
  },
  {
   "cell_type": "code",
   "execution_count": null,
   "metadata": {
    "slideshow": {
     "slide_type": "slide"
    }
   },
   "outputs": [],
   "source": [
    "M = [\n",
    "    [1, 2, 3],\n",
    "    [4, 5, 6]\n",
    "]"
   ]
  },
  {
   "cell_type": "markdown",
   "metadata": {
    "slideshow": {
     "slide_type": "fragment"
    }
   },
   "source": [
    "What do I do if I want to select the **first row**?"
   ]
  },
  {
   "cell_type": "code",
   "execution_count": null,
   "metadata": {
    "slideshow": {
     "slide_type": "fragment"
    }
   },
   "outputs": [],
   "source": [
    "# demonstration"
   ]
  },
  {
   "cell_type": "code",
   "execution_count": null,
   "metadata": {
    "slideshow": {
     "slide_type": "slide"
    }
   },
   "outputs": [],
   "source": [
    "M = [\n",
    "    [1, 2, 3],\n",
    "    [4, 5, 6]\n",
    "]"
   ]
  },
  {
   "cell_type": "markdown",
   "metadata": {
    "slideshow": {
     "slide_type": "fragment"
    }
   },
   "source": [
    "What do I do if I want to select the **third column**?"
   ]
  },
  {
   "cell_type": "markdown",
   "metadata": {
    "slideshow": {
     "slide_type": "fragment"
    }
   },
   "source": [
    "<img width=\"200\" height=\"200\" src=\"images/25/hard.png\">\n",
    "\n",
    "It isn't as easy, uh?"
   ]
  },
  {
   "cell_type": "code",
   "execution_count": null,
   "metadata": {
    "slideshow": {
     "slide_type": "fragment"
    }
   },
   "outputs": [],
   "source": [
    "# demonstration"
   ]
  },
  {
   "cell_type": "markdown",
   "metadata": {
    "slideshow": {
     "slide_type": "slide"
    }
   },
   "source": [
    "# NumPy to the rescue"
   ]
  },
  {
   "cell_type": "code",
   "execution_count": null,
   "metadata": {
    "slideshow": {
     "slide_type": "fragment"
    }
   },
   "outputs": [],
   "source": [
    "M = [\n",
    "    [1, 2, 3],\n",
    "    [4, 5, 6]\n",
    "]\n",
    "\n",
    "# demonstration"
   ]
  },
  {
   "cell_type": "markdown",
   "metadata": {
    "slideshow": {
     "slide_type": "slide"
    }
   },
   "source": [
    "# YES !!\n",
    "\n",
    "<img src=\"images/25/yes.jpg\">\n",
    "\n",
    "Furthermore: we don't need to be concerned about aliasing. `M.copy()` copies everything."
   ]
  },
  {
   "cell_type": "markdown",
   "metadata": {
    "slideshow": {
     "slide_type": "slide"
    }
   },
   "source": [
    "# NumPy\n",
    "## How to create arrays\n",
    "\n",
    "| Type | Example |\n",
    "|:-|:-|\n",
    "| From lists | `np.array(M)` |\n",
    "| Zeros  | `np.zeros((2, 3))` |\n",
    "| Ones   | `np.ones((2, 3))` |\n",
    "| Random uniform | `np.random.rand(2, 3)` |\n",
    "| Random gaussian | `np.random.randn(2, 3)` |\n",
    "\n",
    "(Why does numpy call them *arrays*?)"
   ]
  },
  {
   "cell_type": "code",
   "execution_count": null,
   "metadata": {
    "slideshow": {
     "slide_type": "fragment"
    }
   },
   "outputs": [],
   "source": [
    "# demonstration\n",
    "# (show .shape)"
   ]
  },
  {
   "cell_type": "markdown",
   "metadata": {
    "slideshow": {
     "slide_type": "slide"
    }
   },
   "source": [
    "# NumPy\n",
    "## Indexing & slicing\n",
    "\n",
    "The difference in slicing between python list and numpy array is that we can access different axis at the same time:"
   ]
  },
  {
   "cell_type": "code",
   "execution_count": null,
   "metadata": {
    "slideshow": {
     "slide_type": "fragment"
    }
   },
   "outputs": [],
   "source": [
    "a = np.zeros((5, 10, 2, 7))\n",
    "a.shape"
   ]
  },
  {
   "cell_type": "code",
   "execution_count": null,
   "metadata": {
    "slideshow": {
     "slide_type": "fragment"
    }
   },
   "outputs": [],
   "source": [
    "b = a[:, 3:10, -1, :]\n",
    "b.shape\n",
    "\n",
    "# Notice that indexing using negative values `a[-2]` is supported like in Python lists."
   ]
  },
  {
   "cell_type": "markdown",
   "metadata": {
    "slideshow": {
     "slide_type": "slide"
    }
   },
   "source": [
    "Let's create a matrix of zeros with a square of ones:\n",
    "\n",
    "$$\\begin{pmatrix}0&0&0&0&0\\\\0&1&1&1&0\\\\0&1&1&1&0\\\\0&1&1&1&0\\\\0&0&0&0&0\\\\\\end{pmatrix}$$"
   ]
  },
  {
   "cell_type": "code",
   "execution_count": null,
   "metadata": {
    "slideshow": {
     "slide_type": "fragment"
    }
   },
   "outputs": [],
   "source": [
    "# demonstration\n",
    "M = ..."
   ]
  },
  {
   "cell_type": "code",
   "execution_count": null,
   "metadata": {
    "slideshow": {
     "slide_type": "fragment"
    }
   },
   "outputs": [],
   "source": [
    "import matplotlib.pyplot as plt\n",
    "plt.imshow(M)\n",
    "plt.show()"
   ]
  },
  {
   "cell_type": "markdown",
   "metadata": {
    "slideshow": {
     "slide_type": "slide"
    }
   },
   "source": [
    "Let's create a circle:"
   ]
  },
  {
   "cell_type": "code",
   "execution_count": null,
   "metadata": {
    "slideshow": {
     "slide_type": "fragment"
    }
   },
   "outputs": [],
   "source": [
    "# demonstration\n",
    "M = ..."
   ]
  },
  {
   "cell_type": "code",
   "execution_count": null,
   "metadata": {
    "slideshow": {
     "slide_type": "fragment"
    }
   },
   "outputs": [],
   "source": [
    "import matplotlib.pyplot as plt\n",
    "plt.imshow(M)\n",
    "plt.show()"
   ]
  },
  {
   "cell_type": "markdown",
   "metadata": {
    "slideshow": {
     "slide_type": "slide"
    }
   },
   "source": [
    "## What is an image?\n",
    "\n",
    "An image is simply three matrices, each matrix represents a color: <b><span style=\"color:red\">R</span><span style=\"color:green\">G</span><span style=\"color:blue\">B</span></b>.\n",
    "\n",
    "```python\n",
    "R = ...\n",
    "G = ...\n",
    "B = ...\n",
    "```\n",
    "\n",
    "Let's draw a red circle."
   ]
  },
  {
   "cell_type": "code",
   "execution_count": null,
   "metadata": {
    "slideshow": {
     "slide_type": "fragment"
    }
   },
   "outputs": [],
   "source": [
    "# demonstration (use np.stack)"
   ]
  },
  {
   "cell_type": "markdown",
   "metadata": {
    "slideshow": {
     "slide_type": "slide"
    }
   },
   "source": [
    "# NumPy\n",
    "## Aggregate operations\n",
    "\n",
    "| Type | Example |\n",
    "|:-|:-|\n",
    "| Sum | `np.sum(array, axis)` |\n",
    "| Average  | `np.mean(array, axis)` |\n",
    "| Standard deviation   | `np.std(array, axis)` |"
   ]
  },
  {
   "cell_type": "code",
   "execution_count": null,
   "metadata": {
    "slideshow": {
     "slide_type": "fragment"
    }
   },
   "outputs": [],
   "source": [
    "# demonstration"
   ]
  },
  {
   "cell_type": "markdown",
   "metadata": {
    "slideshow": {
     "slide_type": "slide"
    }
   },
   "source": [
    "# NumPy\n",
    "## Arithmetic operations\n",
    "\n",
    "| Type | Example |\n",
    "|:-|:-|\n",
    "| element-wise addition | `A+B` |\n",
    "| element-wise product | `A*B` |\n",
    "| matrix multiplication | `np.dot(A, B)` |"
   ]
  },
  {
   "cell_type": "code",
   "execution_count": null,
   "metadata": {
    "slideshow": {
     "slide_type": "fragment"
    }
   },
   "outputs": [],
   "source": [
    "# demonstration"
   ]
  },
  {
   "cell_type": "markdown",
   "metadata": {
    "slideshow": {
     "slide_type": "slide"
    }
   },
   "source": [
    "## Arithmetic broadcasting\n",
    "\n",
    "NumPy supports arithmetic broadcasting:"
   ]
  },
  {
   "cell_type": "code",
   "execution_count": null,
   "metadata": {
    "slideshow": {
     "slide_type": "fragment"
    }
   },
   "outputs": [],
   "source": [
    "A = np.array([[1, 2, 3], [4, 5, 6]])\n",
    "B = np.array([[1, 2, 3]])\n",
    "print('A:', A.shape, 'B:', B.shape)"
   ]
  },
  {
   "cell_type": "code",
   "execution_count": null,
   "metadata": {
    "slideshow": {
     "slide_type": "fragment"
    }
   },
   "outputs": [],
   "source": [
    "A*B"
   ]
  },
  {
   "cell_type": "markdown",
   "metadata": {
    "slideshow": {
     "slide_type": "slide"
    }
   },
   "source": [
    "## Arithmetic broadcasting\n",
    "\n",
    "As long as A and B have the same dimensions (axes), NumPy automatically (implicitly) repeats the arithmetic operation along the dimension of different size.\n",
    "\n",
    "This is a time-saver but can also be a source of bugs. \"Implicit is better than explicit.\" Not in NumPy. :P\n",
    "\n",
    "*Other languages:* MATLAB 2016b added this feature which Octave already supported. Julia supports broadcasting but requires being explicit annotation."
   ]
  },
  {
   "cell_type": "markdown",
   "metadata": {
    "slideshow": {
     "slide_type": "slide"
    }
   },
   "source": [
    "# NumPy application\n",
    "\n",
    "<img src=\"images/25/nowwhat.jpg\">\n",
    "\n",
    "1. Face recognition?\n",
    "1. Background replacement? [[wiki](https://en.wikipedia.org/wiki/Foreground_detection)]\n",
    "\n",
    "[change slide]"
   ]
  },
  {
   "cell_type": "markdown",
   "metadata": {
    "slideshow": {
     "slide_type": "slide"
    }
   },
   "source": [
    "The main Python package for computer vision is **OpenCV**:\n",
    "* It is quite old (2000)\n",
    "* The primary languages are C and C++\n",
    "* Python is the main secundary language\n",
    "* OpenCV is a bit archaic but it has many features."
   ]
  },
  {
   "cell_type": "code",
   "execution_count": null,
   "metadata": {
    "slideshow": {
     "slide_type": "fragment"
    }
   },
   "outputs": [],
   "source": [
    "import cv2\n",
    "import numpy as np\n",
    "\n",
    "cap = cv2.VideoCapture(0)\n",
    "\n",
    "while True:\n",
    "    _, frame = cap.read()\n",
    "\n",
    "    ...\n",
    "    ...\n",
    "    \n",
    "    cv2.imshow('frame', frame)\n",
    "    if cv2.waitKey(1) == 27:  # Esc\n",
    "        break\n",
    "\n",
    "cap.release()\n",
    "cv2.destroyAllWindows()"
   ]
  },
  {
   "cell_type": "markdown",
   "metadata": {
    "slideshow": {
     "slide_type": "slide"
    }
   },
   "source": [
    "# Pandas\n",
    "\n",
    "<img src=\"images/25/pandas.jpg\">"
   ]
  },
  {
   "cell_type": "markdown",
   "metadata": {
    "slideshow": {
     "slide_type": "slide"
    }
   },
   "source": [
    "<img src=\"images/25/diagram.svg\">\n",
    "\n",
    "Working with matrices in NumPy is better than using lists, right?\n",
    "\n",
    "But it could be even better. Pandas extends NumPy and Matplotlib:\n",
    "\n",
    "1. You can easily import/export to CSV or Excel\n",
    "1. You can access columns and rows using names\n",
    "1. It has functions to merge matrices according to a certain column\n",
    "1. It has functions to group and aggregate by categories\n",
    "1. It has functions to work with time series\n",
    "\n",
    "Matrices in Pandas are called **data frames** like in R and other statistical languages.\n",
    "\n",
    "Why use Python when other languages exist for statistics? Python is a generic programming language, therefore it is easier to interoperate and deploy in real systems."
   ]
  },
  {
   "cell_type": "markdown",
   "metadata": {
    "slideshow": {
     "slide_type": "slide"
    }
   },
   "source": [
    "# Pandas\n",
    "## Analyze students grades\n",
    "\n",
    "First, let us get your grades: https://moodle.up.pt/grade/report/grader/index.php?id=2126"
   ]
  },
  {
   "cell_type": "code",
   "execution_count": null,
   "metadata": {
    "slideshow": {
     "slide_type": "slide"
    }
   },
   "outputs": [],
   "source": [
    "from pandas_ods_reader import read_ods\n",
    "import pandas as pd\n",
    "import numpy as np\n",
    "import matplotlib.pyplot as plt"
   ]
  },
  {
   "cell_type": "code",
   "execution_count": null,
   "metadata": {
    "slideshow": {
     "slide_type": "fragment"
    }
   },
   "outputs": [],
   "source": [
    "df = read_ods('FEUP-EIC0005-20192020-1S Pauta.ods', 1)"
   ]
  },
  {
   "cell_type": "code",
   "execution_count": null,
   "metadata": {
    "slideshow": {
     "slide_type": "fragment"
    }
   },
   "outputs": [],
   "source": [
    "df.columns"
   ]
  },
  {
   "cell_type": "code",
   "execution_count": null,
   "metadata": {
    "slideshow": {
     "slide_type": "fragment"
    }
   },
   "outputs": [],
   "source": [
    "# Let us get some things we want\n",
    "df = df[['Endereço de e-mail', 'Total da unidade curricular (Real)']]"
   ]
  },
  {
   "cell_type": "code",
   "execution_count": null,
   "metadata": {
    "slideshow": {
     "slide_type": "fragment"
    }
   },
   "outputs": [],
   "source": [
    "df"
   ]
  },
  {
   "cell_type": "code",
   "execution_count": null,
   "metadata": {
    "slideshow": {
     "slide_type": "slide"
    }
   },
   "outputs": [],
   "source": [
    "df.columns = ['email', 'nota']\n",
    "df"
   ]
  },
  {
   "cell_type": "code",
   "execution_count": null,
   "metadata": {
    "slideshow": {
     "slide_type": "slide"
    }
   },
   "outputs": [],
   "source": [
    "df['nota']"
   ]
  },
  {
   "cell_type": "code",
   "execution_count": null,
   "metadata": {
    "slideshow": {
     "slide_type": "fragment"
    }
   },
   "outputs": [],
   "source": [
    "np.mean(df['nota'])"
   ]
  },
  {
   "cell_type": "code",
   "execution_count": null,
   "metadata": {
    "slideshow": {
     "slide_type": "fragment"
    }
   },
   "outputs": [],
   "source": [
    "df['nota'] = df['nota'].replace('-', np.nan)"
   ]
  },
  {
   "cell_type": "code",
   "execution_count": null,
   "metadata": {
    "slideshow": {
     "slide_type": "fragment"
    }
   },
   "outputs": [],
   "source": [
    "np.mean(df['nota'])"
   ]
  },
  {
   "cell_type": "code",
   "execution_count": null,
   "metadata": {
    "slideshow": {
     "slide_type": "slide"
    }
   },
   "outputs": [],
   "source": [
    "df"
   ]
  },
  {
   "cell_type": "code",
   "execution_count": null,
   "metadata": {
    "slideshow": {
     "slide_type": "fragment"
    }
   },
   "outputs": [],
   "source": [
    "# LE=10%\n",
    "# RE=10%\n",
    "# PE=50%\n",
    "# TE=30%\n",
    "df['nota'] = df['nota'] / 0.7"
   ]
  },
  {
   "cell_type": "code",
   "execution_count": null,
   "metadata": {
    "slideshow": {
     "slide_type": "fragment"
    }
   },
   "outputs": [],
   "source": [
    "df"
   ]
  },
  {
   "cell_type": "code",
   "execution_count": null,
   "metadata": {
    "slideshow": {
     "slide_type": "slide"
    }
   },
   "outputs": [],
   "source": [
    "df['nota'].plot(kind='hist')"
   ]
  },
  {
   "cell_type": "code",
   "execution_count": null,
   "metadata": {
    "slideshow": {
     "slide_type": "fragment"
    }
   },
   "outputs": [],
   "source": [
    "plt.hist(df['nota'])"
   ]
  },
  {
   "cell_type": "code",
   "execution_count": null,
   "metadata": {
    "slideshow": {
     "slide_type": "slide"
    }
   },
   "outputs": [],
   "source": [
    "df.boxplot('nota')"
   ]
  },
  {
   "cell_type": "markdown",
   "metadata": {
    "slideshow": {
     "slide_type": "slide"
    }
   },
   "source": [
    "<img src=\"images/25/whatnow.jpg\">\n",
    "\n",
    "I suggest we either:\n",
    "\n",
    "1. Break grades by class\n",
    "1. Break grades by gender\n",
    "1. Break grades by student year."
   ]
  },
  {
   "cell_type": "markdown",
   "metadata": {
    "slideshow": {
     "slide_type": "slide"
    }
   },
   "source": [
    "# Conclusion\n",
    "\n",
    "We have learned about:\n",
    "1. Numpy\n",
    "1. Pandas\n",
    "1. Matplotlib\n",
    "1. OpenCV\n",
    "\n",
    "### Questions?"
   ]
  },
  {
   "cell_type": "markdown",
   "metadata": {
    "slideshow": {
     "slide_type": "slide"
    }
   },
   "source": [
    "<img src=\"images/25/diagram.svg\">\n",
    "\n",
    "We must speak about **SymPy**."
   ]
  },
  {
   "cell_type": "markdown",
   "metadata": {
    "slideshow": {
     "slide_type": "slide"
    }
   },
   "source": [
    "## SymPy\n",
    "\n",
    "We have been working with numbers directly. NumPy is a **numerical** package.\n",
    "\n",
    "On the other hand, SymPy is an **analytical** or **symbolical** package. It can manipulate mathematical abstractions.\n",
    "\n",
    "* It can simplify mathematical expressions\n",
    "* It can solve equations\n",
    "* It can do differentiation and anti-differentiation\n",
    "* It can plot mathematical expressions."
   ]
  },
  {
   "cell_type": "markdown",
   "metadata": {
    "slideshow": {
     "slide_type": "slide"
    }
   },
   "source": [
    "## Solve expressions"
   ]
  },
  {
   "cell_type": "code",
   "execution_count": null,
   "metadata": {
    "slideshow": {
     "slide_type": "fragment"
    }
   },
   "outputs": [],
   "source": [
    "solve(x**2 - 1)"
   ]
  },
  {
   "cell_type": "markdown",
   "metadata": {
    "slideshow": {
     "slide_type": "slide"
    }
   },
   "source": [
    "## Derivatives & primitives"
   ]
  },
  {
   "cell_type": "code",
   "execution_count": null,
   "metadata": {
    "slideshow": {
     "slide_type": "fragment"
    }
   },
   "outputs": [],
   "source": [
    "diff(x**2)"
   ]
  },
  {
   "cell_type": "code",
   "execution_count": null,
   "metadata": {
    "slideshow": {
     "slide_type": "fragment"
    }
   },
   "outputs": [],
   "source": [
    "integrate(x**2)"
   ]
  },
  {
   "cell_type": "markdown",
   "metadata": {
    "slideshow": {
     "slide_type": "slide"
    }
   },
   "source": [
    "# What now?\n",
    "\n",
    "1. Website for doing derivatives\n",
    "1. GUI for doing derivatives\n",
    "\n",
    "<img src=\"images/25/ui.png\">"
   ]
  },
  {
   "cell_type": "markdown",
   "metadata": {
    "slideshow": {
     "slide_type": "slide"
    }
   },
   "source": [
    "## How does the Internet work in one image\n",
    "\n",
    "<img src=\"images/25/internet.svg\">"
   ]
  },
  {
   "cell_type": "markdown",
   "metadata": {
    "slideshow": {
     "slide_type": "slide"
    }
   },
   "source": [
    "## User interfaces\n",
    "\n",
    "Major user interface packages for Python:\n",
    "1. **Tkinter (tk):** a bit ugly, but comes bundled with Python!\n",
    "1. **ttk:** prettier version of Tkinter, but does not come bundled with Python\n",
    "1. **GTK:** the most used toolkit for Linux (also works in Windows and Mac)\n",
    "1. **Qt:** cross-platform toolkit\n",
    "1. **wxWidgets:** wrapper for native toolkit."
   ]
  },
  {
   "cell_type": "markdown",
   "metadata": {
    "slideshow": {
     "slide_type": "slide"
    }
   },
   "source": [
    "# Ticket to leave\n",
    "\n",
    "## Moodle activity\n",
    "\n",
    "[LE25: Python frameworks](https://moodle.up.pt/mod/quiz/view.php?id=49618)"
   ]
  },
  {
   "cell_type": "markdown",
   "metadata": {
    "slideshow": {
     "slide_type": "slide"
    }
   },
   "source": [
    "$\\Rightarrow$ \n",
    "[Go back to the Table of Contents](00-contents.ipynb)\n",
    "\n",
    "$\\Rightarrow$ \n",
    "[Read the Preface](00-preface.ipynb)"
   ]
  }
 ],
 "metadata": {
  "celltoolbar": "Slideshow",
  "kernelspec": {
   "display_name": "Python 3",
   "language": "python",
   "name": "python3"
  },
  "language_info": {
   "codemirror_mode": {
    "name": "ipython",
    "version": 3
   },
   "file_extension": ".py",
   "mimetype": "text/x-python",
   "name": "python",
   "nbconvert_exporter": "python",
   "pygments_lexer": "ipython3",
   "version": "3.6.9"
  }
 },
 "nbformat": 4,
 "nbformat_minor": 2
}
