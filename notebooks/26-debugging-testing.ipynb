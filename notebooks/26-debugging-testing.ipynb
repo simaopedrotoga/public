{
  "nbformat": 4,
  "nbformat_minor": 0,
  "metadata": {
    "celltoolbar": "Slideshow",
    "kernelspec": {
      "display_name": "Python 3",
      "language": "python",
      "name": "python3"
    },
    "language_info": {
      "codemirror_mode": {
        "name": "ipython",
        "version": 3
      },
      "file_extension": ".py",
      "mimetype": "text/x-python",
      "name": "python",
      "nbconvert_exporter": "python",
      "pygments_lexer": "ipython3",
      "version": "3.6.9"
    },
    "colab": {
      "name": "26-debugging-testing.ipynb",
      "provenance": [],
      "collapsed_sections": [],
      "toc_visible": true
    }
  },
  "cells": [
    {
      "cell_type": "markdown",
      "metadata": {
        "id": "GY5uPAMoS9BO",
        "colab_type": "text"
      },
      "source": [
        "# Debugging & Testing\n",
        "\n",
        "## Programming Fundamentals (NB26)\n",
        "\n",
        "### MIEIC/2019-20\n",
        "\n",
        "#### Ricardo Cruz\n",
        "\n",
        "INESC TEC"
      ]
    },
    {
      "cell_type": "markdown",
      "metadata": {
        "id": "Co-r1hAX1GlX",
        "colab_type": "text"
      },
      "source": [
        "# Debugging & Testing\n",
        "\n",
        "But first...\n",
        "\n",
        "Let us finish the previous class...\n",
        "\n",
        "<img src=\"https://drive.google.com/uc?export=view&id=1mfqhkkfNZQSW0rjhqp_mhrWqQndpbPA6\">\n",
        "\n",
        "We must speak about **SymPy**."
      ]
    },
    {
      "cell_type": "markdown",
      "metadata": {
        "id": "FOSVoT5L1GlZ",
        "colab_type": "text"
      },
      "source": [
        "## SymPy\n",
        "\n",
        "We have been working with numbers directly. NumPy is a **numerical** package.\n",
        "\n",
        "On the other hand, SymPy is an **analytical** or **symbolical** package. It can manipulate mathematical abstractions.\n",
        "\n",
        "* It can simplify mathematical expressions\n",
        "* It can solve equations\n",
        "* It can do differentiation and anti-differentiation\n",
        "* It can plot mathematical expressions."
      ]
    },
    {
      "cell_type": "markdown",
      "metadata": {
        "id": "Tw-_DZDx1Gla",
        "colab_type": "text"
      },
      "source": [
        "## Simplify expressions"
      ]
    },
    {
      "cell_type": "code",
      "metadata": {
        "id": "dchtW5ZN1Glb",
        "colab_type": "code",
        "colab": {}
      },
      "source": [
        "from sympy import *\n",
        "x = Symbol('x')\n",
        "expr = x*x/x\n",
        "expr"
      ],
      "execution_count": 0,
      "outputs": []
    },
    {
      "cell_type": "markdown",
      "metadata": {
        "id": "X-SwZDO01Gld",
        "colab_type": "text"
      },
      "source": [
        "## Solve expressions"
      ]
    },
    {
      "cell_type": "code",
      "metadata": {
        "id": "1vXs1Wlu1Glg",
        "colab_type": "code",
        "colab": {}
      },
      "source": [
        "solve(x**2 - 1)"
      ],
      "execution_count": 0,
      "outputs": []
    },
    {
      "cell_type": "markdown",
      "metadata": {
        "id": "X7zeRC2i1Gli",
        "colab_type": "text"
      },
      "source": [
        "## Derivatives & primitives"
      ]
    },
    {
      "cell_type": "code",
      "metadata": {
        "id": "dd6DgVRA1Gli",
        "colab_type": "code",
        "colab": {}
      },
      "source": [
        "diff(x**2)"
      ],
      "execution_count": 0,
      "outputs": []
    },
    {
      "cell_type": "code",
      "metadata": {
        "id": "rvNupsOL1Glk",
        "colab_type": "code",
        "colab": {}
      },
      "source": [
        "integrate(x**2)"
      ],
      "execution_count": 0,
      "outputs": []
    },
    {
      "cell_type": "markdown",
      "metadata": {
        "id": "EU-xlV7K1Glm",
        "colab_type": "text"
      },
      "source": [
        "# What now?\n",
        "\n",
        "1. Website for doing derivatives\n",
        "1. GUI for doing derivatives\n",
        "\n",
        "<img src=\"https://drive.google.com/uc?export=view&id=1OvLqU0NFl101SQPLRcqP_rN8vs5qy1FI\">"
      ]
    },
    {
      "cell_type": "markdown",
      "metadata": {
        "id": "HGC0rSMn1Gln",
        "colab_type": "text"
      },
      "source": [
        "## How does the Internet work in one image\n",
        "\n",
        "<img src=\"https://drive.google.com/uc?export=view&id=1QzmoPH1n-qOZry8fpTSFC15yzxKsw1AA\">"
      ]
    },
    {
      "cell_type": "markdown",
      "metadata": {
        "id": "dYWGrl_01Glp",
        "colab_type": "text"
      },
      "source": [
        "## User interfaces\n",
        "\n",
        "Major user interface packages for Python:\n",
        "1. **Tkinter (tk):** a bit ugly, but comes bundled with Python!\n",
        "1. **ttk:** prettier version of Tkinter, but does not come bundled with Python\n",
        "1. **GTK:** the most used toolkit for Linux (also works in Windows and Mac)\n",
        "1. **Qt:** cross-platform toolkit\n",
        "1. **wxWidgets:** wrapper for native toolkit."
      ]
    },
    {
      "cell_type": "markdown",
      "metadata": {
        "id": "9hpwzEoc1Glp",
        "colab_type": "text"
      },
      "source": [
        "# Debugging & Testing\n",
        "\n",
        "Agenda:\n",
        "\n",
        "1. Comments\n",
        "1. Assertion & static typing\n",
        "1. Unit testing\n",
        "1. Debugger / prints"
      ]
    },
    {
      "cell_type": "markdown",
      "metadata": {
        "id": "R-GqYFl01Glq",
        "colab_type": "text"
      },
      "source": [
        "## Comments\n",
        "\n",
        "The best comments is often <u>no comments</u>.\n",
        "\n",
        "Good code is self-documenting.\n",
        "\n",
        "Is this code easy to understand?"
      ]
    },
    {
      "cell_type": "code",
      "metadata": {
        "id": "40r-CnA41Glr",
        "colab_type": "code",
        "colab": {}
      },
      "source": [
        "def f(x):\n",
        "    # multiply x by 10.5 until 2; afterwards, multiply by 4\n",
        "    return x*10.5 if x <= 2 else 2*10.5 + (x-2)*4"
      ],
      "execution_count": 0,
      "outputs": []
    },
    {
      "cell_type": "markdown",
      "metadata": {
        "id": "7yf7EAS91Glt",
        "colab_type": "text"
      },
      "source": [
        "https://fpro.fe.up.pt/play/py04/dogs"
      ]
    },
    {
      "cell_type": "markdown",
      "metadata": {
        "id": "R53LudGB1Glu",
        "colab_type": "text"
      },
      "source": [
        "How could we improve it?"
      ]
    },
    {
      "cell_type": "code",
      "metadata": {
        "id": "fCSBaPus1Glu",
        "colab_type": "code",
        "colab": {}
      },
      "source": [
        "# Demonstration"
      ],
      "execution_count": 0,
      "outputs": []
    },
    {
      "cell_type": "markdown",
      "metadata": {
        "id": "xMHLJlCU1Glw",
        "colab_type": "text"
      },
      "source": [
        "Comments should never say what the code **is** doing.\n",
        "\n",
        "A better comment explains what the code **does**.\n",
        "\n",
        "For example:"
      ]
    },
    {
      "cell_type": "code",
      "metadata": {
        "id": "fSrEnuJE1Glx",
        "colab_type": "code",
        "colab": {}
      },
      "source": [
        "# square root of n with Newton-Raphson approximation\n",
        "n = 16\n",
        "r = n/2\n",
        "while abs(r-(n/r)) > 0.01:\n",
        "    r = 0.5*(r+(n/r))\n",
        "print('r =', r)"
      ],
      "execution_count": 0,
      "outputs": []
    },
    {
      "cell_type": "markdown",
      "metadata": {
        "id": "jfeK1eDJ1Gl0",
        "colab_type": "text"
      },
      "source": [
        "Even better would be to avoid explaining what the code does by placing it into a well-named function:"
      ]
    },
    {
      "cell_type": "code",
      "metadata": {
        "id": "CtSJDP_z1Gl1",
        "colab_type": "code",
        "colab": {}
      },
      "source": [
        "def SquareRootApproximation(n: float) -> float:\n",
        "    r = n/2\n",
        "    while abs(r-(n/r)) > 0.01:\n",
        "        r = 0.5*(r+(n/r))\n",
        "    return r\n",
        "print('r =', SquareRootApproximation(16))"
      ],
      "execution_count": 0,
      "outputs": []
    },
    {
      "cell_type": "markdown",
      "metadata": {
        "id": "9cis3LXE1Gl3",
        "colab_type": "text"
      },
      "source": [
        "## When are comments useful? (IMHO)\n",
        "\n",
        "**Case #1:** Comments are useful as a reference when implementing an algorithm:\n",
        "\n",
        "https://fpro.fe.up.pt/play/py07/tfidf"
      ]
    },
    {
      "cell_type": "code",
      "metadata": {
        "id": "PWlf8X7_1Gl3",
        "colab_type": "code",
        "colab": {}
      },
      "source": [
        "# demonstration"
      ],
      "execution_count": 0,
      "outputs": []
    },
    {
      "cell_type": "markdown",
      "metadata": {
        "id": "CNW-0F-81Gl5",
        "colab_type": "text"
      },
      "source": [
        "**Case #2:** Comments are useful when using an external package that is not intuitive."
      ]
    },
    {
      "cell_type": "code",
      "metadata": {
        "id": "sRysMmC11Gl6",
        "colab_type": "code",
        "colab": {}
      },
      "source": [
        "import matplotlib.pyplot as plt\n",
        "plt.ion()  # do not block"
      ],
      "execution_count": 0,
      "outputs": []
    },
    {
      "cell_type": "markdown",
      "metadata": {
        "id": "QVGzo1Bs1Gl8",
        "colab_type": "text"
      },
      "source": [
        "You could also wrap this into your own function, but sometimes it isn't practical."
      ]
    },
    {
      "cell_type": "markdown",
      "metadata": {
        "id": "0dNqfB5U1Gl9",
        "colab_type": "text"
      },
      "source": [
        "**Case #3:** Comments are useful when breaking things into functions is not possible or practical.\n",
        "\n",
        "```python\n",
        "running = True\n",
        "while running:\n",
        "    # game logic\n",
        "    if keys[pygame.K_LEFT]:\n",
        "        pos_x += 0.5*dx\n",
        "    ...\n",
        "    # rendering\n",
        "    screen.fill((0, 0, 0))\n",
        "    screen.blit(jogador_img, (pos_x, pos_y))\n",
        "    pygame.display.flip()\n",
        "```"
      ]
    },
    {
      "cell_type": "markdown",
      "metadata": {
        "id": "cMY31Wzw1Gl-",
        "colab_type": "text"
      },
      "source": [
        "Also, instead of:\n",
        "\n",
        "```python\n",
        "screen.fill((0, 0, 0))\n",
        "```\n",
        "\n",
        "Some programmers argue you should do\n",
        "\n",
        "```python\n",
        "def draw_background(screen):\n",
        "    screen.fill((0, 0, 0))\n",
        "\n",
        "draw_background(screen)\n",
        "```\n",
        "\n",
        "But personally, I would avoid the extra code and just do:\n",
        "\n",
        "```python\n",
        "screen.fill((0, 0, 0))  # draw background\n",
        "```"
      ]
    },
    {
      "cell_type": "markdown",
      "metadata": {
        "id": "5DMIFhz81Gl_",
        "colab_type": "text"
      },
      "source": [
        "**Case #4:** Automatically generate documentation for your packages (docstring).\n",
        "\n",
        "Multiple styles exist. For example: \n",
        "\n",
        "```python\n",
        "def some_function(argument1):\n",
        "    \"\"\"Summary or Description of the Function\n",
        "\n",
        "    Parameters:\n",
        "    argument1 (int): Description of arg1\n",
        "\n",
        "    Returns:\n",
        "    int:Returning value\n",
        "    \"\"\"\n",
        "    return argument1\n",
        "```"
      ]
    },
    {
      "cell_type": "markdown",
      "metadata": {
        "id": "xBr_BABY1Gl_",
        "colab_type": "text"
      },
      "source": [
        "# Assertion\n",
        "\n",
        "There are two types of errors:\n",
        "1. Syntatic or run-time errors\n",
        "1. Programming is misbehaving (semantic error)\n",
        "\n",
        "Which ones are easier to catch and fix?"
      ]
    },
    {
      "cell_type": "markdown",
      "metadata": {
        "id": "qczr1AVK1GmA",
        "colab_type": "text"
      },
      "source": [
        "The first rule in debugging is to preemptively avoid debugging and transform possible run-time errors into syntatic errors.\n",
        "\n",
        "For example, if I am writing a function and I know it can only work for valid angles then I could do:"
      ]
    },
    {
      "cell_type": "code",
      "metadata": {
        "id": "jtrodFCM1GmB",
        "colab_type": "code",
        "colab": {}
      },
      "source": [
        "def f(angle: float) -> float:\n",
        "    assert 0 <= angle < 360\n",
        "    return ..."
      ],
      "execution_count": 0,
      "outputs": []
    },
    {
      "cell_type": "markdown",
      "metadata": {
        "id": "l3GwLSys1GmD",
        "colab_type": "text"
      },
      "source": [
        "BTW: static typing can be seen as a type of assertion."
      ]
    },
    {
      "cell_type": "markdown",
      "metadata": {
        "id": "8OEvdaP71GmD",
        "colab_type": "text"
      },
      "source": [
        "# Unit Testing\n",
        "\n",
        "*The earlier you catch bugs the easier!*\n",
        "\n",
        "When writting a function, it's a good idea to write a unit testing to test the function. You should run the unit tests everytime you change the code."
      ]
    },
    {
      "cell_type": "code",
      "metadata": {
        "id": "o09Sr9s01GmE",
        "colab_type": "code",
        "colab": {}
      },
      "source": [
        "import math\n",
        "def radians_to_degrees(radians: float) -> float:\n",
        "    return 180*radians/math.pi\n",
        "\n",
        "if __name__ == '__main__':\n",
        "    assert radians_to_degrees(0) == 0\n",
        "    assert radians_to_degrees(math.pi/4) == 45\n",
        "    assert radians_to_degrees(math.pi) == 180"
      ],
      "execution_count": 0,
      "outputs": []
    },
    {
      "cell_type": "markdown",
      "metadata": {
        "id": "m2TUxdDj1GmH",
        "colab_type": "text"
      },
      "source": [
        "# Debugging\n",
        "\n",
        "If a program is misbehaving, there are two forms of debugging a program:\n",
        "\n",
        "1. Prints\n",
        "1. Using a debugger (like pdb and pythontutor)\n",
        "\n",
        "<img src=\"https://drive.google.com/uc?export=view&id=1yGodK45M2jjjMUUmwO1qvMscXrky3b6z\">"
      ]
    },
    {
      "cell_type": "markdown",
      "metadata": {
        "id": "kZHMXvii1GmH",
        "colab_type": "text"
      },
      "source": [
        "**First simplify:**\n",
        "\n",
        "But first, you should simplify your program. For example, if you suspect the problem is in list comprehension, you should expanded into a normal cycle and convert it back after you debug it, because you cannot debug list comprehension.\n",
        "\n",
        "This advise applies to other things you have not learned yet, like multi-threading."
      ]
    },
    {
      "cell_type": "markdown",
      "metadata": {
        "id": "Pvfl6E051GmI",
        "colab_type": "text"
      },
      "source": [
        "That is debug another piece of code using **prints**.\n",
        "\n",
        "This is the code from one student for: https://fpro.fe.up.pt/test/pe04/repeated"
      ]
    },
    {
      "cell_type": "code",
      "metadata": {
        "id": "xfeKxqhd1GmJ",
        "colab_type": "code",
        "colab": {}
      },
      "source": [
        "import functools\n",
        "def repeated(nlist):\n",
        "    pares = list(filter(lambda x : x% 2 == 0, nlist))\n",
        "    impares = list(filter(lambda x : x% 2 != 0, nlist))\n",
        "    freq_p = list(map(lambda x: pares.count(x)-1, pares))\n",
        "    freq_i = list(map(lambda x: impares.count(x)-1, impares))\n",
        "    a = functools.reduce(lambda x, y :x+y, freq_p)\n",
        "    b = functools.reduce(lambda x, y : x+ y, freq_i)\n",
        "    return (a-b)\n",
        "\n",
        "print(repeated([2, 3, 3]))  # -1\n",
        "print(repeated([2, 0, 5, -1, 2, 3, -1, 5, 0, 2, -1]))  # 0\n",
        "print(repeated([0, 4, 0, 6, 4, 5, 3, 0, 5, 8, 3, 0, 2, 3, 4, 4, 6, 6, 2, 4, 5, 6, 3, 6, 2, 0, 3]))  # 8\n",
        "print(repeated([7, 5, 8, 8, 5, 9, 2, 2, 8, 6, 4, 6, 9, 6, 7, 7, 8, 2, 3, 7, 8, 0, 0, 3, 0]))  # 4"
      ],
      "execution_count": 0,
      "outputs": []
    },
    {
      "cell_type": "markdown",
      "metadata": {
        "id": "s-YUEu2x1GmM",
        "colab_type": "text"
      },
      "source": [
        "That being said, let us debug this code using **pdb** inside Spyder:\n",
        "\n",
        "This is the code from one student also for: https://fpro.fe.up.pt/test/pe04/repeated"
      ]
    },
    {
      "cell_type": "code",
      "metadata": {
        "id": "ESTuyC1X1GmN",
        "colab_type": "code",
        "colab": {}
      },
      "source": [
        "def fun2(x,nlist):\n",
        "    nlist.remove(x)\n",
        "    if x not in nlist:\n",
        "        return 0\n",
        "    if x in nlist:\n",
        "        return -1\n",
        "    if x%2 != 0 and x not in nlist:\n",
        "        return 1\n",
        "\n",
        "def fun(x,nlist):\n",
        "    nlist.remove(x)\n",
        "    if x not in nlist:\n",
        "        return 0\n",
        "    if x in nlist:\n",
        "        return -1\n",
        "    if x%2 == 0 and x not in nlist:\n",
        "        return 1\n",
        "    else:\n",
        "        return 0\n",
        "\n",
        "def repeated(nlist):\n",
        "     odd = [fun(x,nlist) for x in nlist if x%2 == 0]\n",
        "     even = [fun2(x,nlist) for x in nlist if x%2 != 0]\n",
        "     return sum(even) - sum(odd)\n",
        "\n",
        "print(repeated([2, 3, 3]))  # -1\n",
        "print(repeated([2, 0, 5, -1, 2, 3, -1, 5, 0, 2, -1]))  # 0\n",
        "print(repeated([0, 4, 0, 6, 4, 5, 3, 0, 5, 8, 3, 0, 2, 3, 4, 4, 6, 6, 2, 4, 5, 6, 3, 6, 2, 0, 3]))  # 8\n",
        "print(repeated([7, 5, 8, 8, 5, 9, 2, 2, 8, 6, 4, 6, 9, 6, 7, 7, 8, 2, 3, 7, 8, 0, 0, 3, 0]))  # 4"
      ],
      "execution_count": 0,
      "outputs": []
    },
    {
      "cell_type": "markdown",
      "metadata": {
        "id": "J4N3gysV1GmP",
        "colab_type": "text"
      },
      "source": [
        "<img src=\"https://drive.google.com/uc?export=view&id=1fn8vhRd72DaTQjoHUxUaq4oJrNj5iGBm\">\n",
        "\n",
        "Often it's easier to re-write the entire thing rather than debug the problem."
      ]
    },
    {
      "cell_type": "markdown",
      "metadata": {
        "id": "71aroLKL1GmP",
        "colab_type": "text"
      },
      "source": [
        "# Should I use a debugger or a print?\n",
        "\n",
        "You should use whatever you prefer.\n",
        "\n",
        "Many people say a debugger is better.\n",
        "\n",
        "No, it is not. You should use whatever you prefer.\n",
        "\n",
        "These people prefer to use prints rather than debuggers: [[ref](https://lemire.me/blog/2016/06/21/i-do-not-use-a-debugger/)]\n",
        "1. Guido van Rossum: the author of Python\n",
        "1. Linus Torvalds: the creator of Linux (and git), does not use a debugger\n",
        "1. Robert C. Martin: inventor of agile programming\n",
        "1. John Graham-Cumming, Brian W. Kernighan, Rob Pike: authors of important books."
      ]
    },
    {
      "cell_type": "markdown",
      "metadata": {
        "id": "yCTC2byC1GmQ",
        "colab_type": "text"
      },
      "source": [
        "That being said, there are some situations when you need to use a debugger or prints.\n",
        "\n",
        "## When is a debugger necessary:\n",
        "\n",
        "1. Run-time errors for C and C++. These programming languages <b><i>\\*crash\\*</i></b> when there is a run-time error. There is no nice error like in Python. A debugger will help you find where it crashes.\n",
        "1. When working with a low-level language (Assembly), doing a print is not user-friendly and requires many lines.\n",
        "\n",
        "## When are prints necessary:\n",
        "\n",
        "1. Debuggers usually do not work with programs that use multiple threads or processes.\n",
        "1. Debuggers do not work when your program is running in another computer; for example a web server.\n",
        "1. Debuggers might not work for real-time programs."
      ]
    },
    {
      "cell_type": "markdown",
      "metadata": {
        "id": "99tjcXJw1GmQ",
        "colab_type": "text"
      },
      "source": [
        "# Conclusion\n",
        "\n",
        "1. Sympy\n",
        "    1. User interface\n",
        "1. Debug & testing\n",
        "    1. Comments\n",
        "    1. Assertion & static typing\n",
        "    1. Unit testing\n",
        "    1. Debugger / prints\n",
        "\n",
        "### Questions?"
      ]
    },
    {
      "cell_type": "markdown",
      "metadata": {
        "id": "BJp1U7dLTald",
        "colab_type": "text"
      },
      "source": [
        "# Ticket to leave"
      ]
    },
    {
      "cell_type": "markdown",
      "metadata": {
        "id": "C-hchAExRRVh",
        "colab_type": "text"
      },
      "source": [
        "## Moodle activity\n",
        "\n",
        "[LE26: Debugging & testing](https://moodle.up.pt/mod/quiz/view.php?id=49619)"
      ]
    },
    {
      "cell_type": "markdown",
      "metadata": {
        "id": "uV1OP6ahRYne",
        "colab_type": "text"
      },
      "source": [
        "\n",
        "$\\Rightarrow$ \n",
        "[Go back to the Table of Contents](00-contents.ipynb)\n",
        "\n",
        "$\\Rightarrow$ \n",
        "[Read the Preface](00-preface.ipynb)"
      ]
    }
  ]
}