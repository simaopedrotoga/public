{
 "cells": [
  {
   "cell_type": "markdown",
   "metadata": {
    "slideshow": {
     "slide_type": "slide"
    }
   },
   "source": [
    "# Good Programming Practices [NOT GRADED]\n",
    "\n",
    "# Debugging & Testing\n",
    "\n",
    "## Programming Fundamentals (NB26)\n",
    "\n",
    "### MIEIC/2019-20\n",
    "\n",
    "#### Ricardo Cruz\n",
    "\n",
    "INESC TEC"
   ]
  },
  {
   "cell_type": "markdown",
   "metadata": {
    "slideshow": {
     "slide_type": "slide"
    }
   },
   "source": [
    "# Good Programming Practices\n",
    "\n",
    "<img width=\"400\" height=\"400\" src=\"images/26/bugs.png\">\n",
    "\n",
    "Agenda:\n",
    "\n",
    "* **A.** The Art of Programming\n",
    "* **B.** Comments\n",
    "* **C.** Assertion & static typing *(Prevent bugs)*\n",
    "* **D.** Unit testing *(Prevent bugs)*\n",
    "* **E.** Debugger / prints *(Find bugs)*"
   ]
  },
  {
   "cell_type": "markdown",
   "metadata": {
    "slideshow": {
     "slide_type": "slide"
    }
   },
   "source": [
    "# Which programmer are you?\n",
    "\n",
    "<img src=\"images/26/art-spain.jpg\">"
   ]
  },
  {
   "cell_type": "markdown",
   "metadata": {
    "slideshow": {
     "slide_type": "slide"
    }
   },
   "source": [
    "# Which programmer are you?\n",
    "\n",
    "<img src=\"images/26/art-modern.jpg\">"
   ]
  },
  {
   "cell_type": "markdown",
   "metadata": {
    "slideshow": {
     "slide_type": "slide"
    }
   },
   "source": [
    "# A. The Art of Programming\n",
    "\n",
    "## Case Study 1\n",
    "\n",
    "Let us write a program that converts a calendar day/month/year into the day since the start of the year:\n",
    "\n",
    "<img width=\"600\" height=\"600\" src=\"images/26/calendar.png\">\n",
    "\n",
    "**Output:** 41"
   ]
  },
  {
   "cell_type": "code",
   "execution_count": null,
   "metadata": {
    "slideshow": {
     "slide_type": "slide"
    }
   },
   "outputs": [],
   "source": [
    "def day_of_year(month, day_of_month, year):\n",
    "    if month == 2:\n",
    "        dayOfMonth += 31\n",
    "    elif month == 3:\n",
    "        dayOfMonth += 59\n",
    "    elif month == 4:\n",
    "        dayOfMonth += 90\n",
    "    elif month == 5:\n",
    "        dayOfMonth += 31 + 28 + 31 + 30\n",
    "    elif month == 6:\n",
    "        dayOfMonth += 31 + 28 + 31 + 30 + 31\n",
    "    elif month == 7:\n",
    "        dayOfMonth += 31 + 28 + 31 + 30 + 31 + 30\n",
    "    elif month == 8:\n",
    "        dayOfMonth += 31 + 28 + 31 + 30 + 31 + 30 + 31\n",
    "    elif month == 9:\n",
    "        dayOfMonth += 31 + 28 + 31 + 30 + 31 + 30 + 31 + 31\n",
    "    elif month == 10:\n",
    "        dayOfMonth += 31 + 28 + 31 + 30 + 31 + 30 + 31 + 31 + 30\n",
    "    elif month == 11:\n",
    "        dayOfMonth += 31 + 28 + 31 + 30 + 31 + 30 + 31 + 31 + 30 + 31\n",
    "    elif month == 12:\n",
    "        dayOfMonth += 31 + 28 + 31 + 30 + 31 + 30 + 31 + 31 + 30 + 31 + 31\n",
    "    return dayOfMonth"
   ]
  },
  {
   "cell_type": "code",
   "execution_count": null,
   "metadata": {
    "slideshow": {
     "slide_type": "slide"
    }
   },
   "outputs": [],
   "source": [
    "# rewriting it...\n",
    "\n",
    "days_per_month = [31, 28, 31, 30, 31, 30, 31, 31, 30, 31, 30, 31]\n",
    "\n",
    "def day_of_year(month, day_of_month, year):\n",
    "    day_of_year = day_of_month\n",
    "    for cur_month in range(1, month):\n",
    "        day_of_year += days_per_month[cur_month]\n",
    "    return day_of_year"
   ]
  },
  {
   "cell_type": "markdown",
   "metadata": {
    "slideshow": {
     "slide_type": "slide"
    }
   },
   "source": [
    "## Case Study 2\n",
    "\n",
    "What about years like **2020** when February has 29 days (leap years)?"
   ]
  },
  {
   "cell_type": "code",
   "execution_count": null,
   "metadata": {
    "slideshow": {
     "slide_type": "fragment"
    }
   },
   "outputs": [],
   "source": [
    "def leap(y: int) -> bool:\n",
    "    tmp = str(y)\n",
    "    if tmp[2] == '1' or tmp[2] == '3' or tmp[2] == 5 or tmp[2] == '7' or tmp.charAt(2) == '9':\n",
    "        if tmp[3]=='2' or tmp[3]=='6': return True\n",
    "        else:\n",
    "            return False\n",
    "    else:\n",
    "        if (tmp[2] == '0' and tmp[3] == '0'):\n",
    "            return False\n",
    "        if (tmp[3]=='0' or tmp[3]=='4' or tmp[3]=='8'):return True\n",
    "    return False"
   ]
  },
  {
   "cell_type": "markdown",
   "metadata": {
    "slideshow": {
     "slide_type": "slide"
    }
   },
   "source": [
    "<img src=\"images/26/debug.jpg\">\n",
    "\n",
    "Often it's easier to re-write the entire thing rather than debug the problem."
   ]
  },
  {
   "cell_type": "code",
   "execution_count": null,
   "metadata": {
    "slideshow": {
     "slide_type": "slide"
    }
   },
   "outputs": [],
   "source": [
    "def is_leap(year):\n",
    "    # https://en.wikipedia.org/wiki/Leap_year#Algorithm\n",
    "    if year % 4 != 0: return False\n",
    "    if year % 100 != 0: return True\n",
    "    if year % 400 != 0: return False\n",
    "    return True"
   ]
  },
  {
   "cell_type": "markdown",
   "metadata": {
    "slideshow": {
     "slide_type": "slide"
    }
   },
   "source": [
    "## Case Study 3"
   ]
  },
  {
   "cell_type": "code",
   "execution_count": null,
   "metadata": {
    "slideshow": {
     "slide_type": "fragment"
    }
   },
   "outputs": [],
   "source": [
    "LONG_WORD_LENGTH = 5\n",
    "longest_word = \"\"\n",
    "\n",
    "def count_long_words(words):\n",
    "    global longest_word\n",
    "    n = 0\n",
    "    for word in words:\n",
    "        if len(word) > LONG_WORD_LENGTH: n += 1\n",
    "        if len(word) > len(longest_word): longest_word = word\n",
    "    print(n)"
   ]
  },
  {
   "cell_type": "markdown",
   "metadata": {
    "slideshow": {
     "slide_type": "slide"
    }
   },
   "source": [
    "# B. Comments\n",
    "\n",
    "The best comments is often <u>no comments</u>.\n",
    "\n",
    "Good code is self-documenting.\n",
    "\n",
    "Is this code easy to understand?"
   ]
  },
  {
   "cell_type": "code",
   "execution_count": null,
   "metadata": {
    "slideshow": {
     "slide_type": "fragment"
    }
   },
   "outputs": [],
   "source": [
    "# this function receives an integer x and returns the result as an integer\n",
    "def f(x):\n",
    "    # multiply x by 10.5 until 2; afterwards, multiply by 4\n",
    "    return x*10.5 if x <= 2 else 2*10.5 + (x-2)*4"
   ]
  },
  {
   "cell_type": "markdown",
   "metadata": {
    "slideshow": {
     "slide_type": "fragment"
    }
   },
   "source": [
    "https://fpro.fe.up.pt/play/py04/dogs"
   ]
  },
  {
   "cell_type": "markdown",
   "metadata": {
    "slideshow": {
     "slide_type": "slide"
    }
   },
   "source": [
    "How could we improve it?"
   ]
  },
  {
   "cell_type": "code",
   "execution_count": null,
   "metadata": {
    "slideshow": {
     "slide_type": "fragment"
    }
   },
   "outputs": [],
   "source": [
    "# demonstration"
   ]
  },
  {
   "cell_type": "markdown",
   "metadata": {
    "slideshow": {
     "slide_type": "slide"
    }
   },
   "source": [
    "Comments should never say what the code **is** doing.\n",
    "\n",
    "A better comment explains what the code **does**.\n",
    "\n",
    "For example:"
   ]
  },
  {
   "cell_type": "code",
   "execution_count": null,
   "metadata": {
    "slideshow": {
     "slide_type": "fragment"
    }
   },
   "outputs": [],
   "source": [
    "# square root of n with Newton-Raphson approximation\n",
    "n = 16\n",
    "r = n/2\n",
    "while abs(r-(n/r)) > 0.01:\n",
    "    r = 0.5*(r+(n/r))\n",
    "print('r =', r)"
   ]
  },
  {
   "cell_type": "markdown",
   "metadata": {
    "slideshow": {
     "slide_type": "fragment"
    }
   },
   "source": [
    "Many programmers argue that even better is to place blocks of code into well-named function:"
   ]
  },
  {
   "cell_type": "code",
   "execution_count": null,
   "metadata": {
    "slideshow": {
     "slide_type": "fragment"
    }
   },
   "outputs": [],
   "source": [
    "def square_root_approximation(n: float) -> float:\n",
    "    r = n/2\n",
    "    while abs(r-(n/r)) > 0.01:\n",
    "        r = 0.5*(r+(n/r))\n",
    "    return r\n",
    "print('r =', square_root_approximation(16))"
   ]
  },
  {
   "cell_type": "markdown",
   "metadata": {
    "slideshow": {
     "slide_type": "slide"
    }
   },
   "source": [
    "## When are comments useful? (IMHO)\n",
    "\n",
    "**Case #1:** Comments are useful as a reference when implementing an algorithm:\n",
    "\n",
    "https://fpro.fe.up.pt/play/py07/tfidf"
   ]
  },
  {
   "cell_type": "code",
   "execution_count": null,
   "metadata": {
    "slideshow": {
     "slide_type": "fragment"
    }
   },
   "outputs": [],
   "source": [
    "# demonstration"
   ]
  },
  {
   "cell_type": "markdown",
   "metadata": {
    "slideshow": {
     "slide_type": "slide"
    }
   },
   "source": [
    "**Case #2:** Comments are useful when using an external package that is not intuitive."
   ]
  },
  {
   "cell_type": "code",
   "execution_count": null,
   "metadata": {
    "slideshow": {
     "slide_type": "fragment"
    }
   },
   "outputs": [],
   "source": [
    "import matplotlib.pyplot as plt\n",
    "plt.ion()  # do not block"
   ]
  },
  {
   "cell_type": "markdown",
   "metadata": {
    "slideshow": {
     "slide_type": "fragment"
    }
   },
   "source": [
    "You could also wrap this into your own function, but sometimes it isn't practical."
   ]
  },
  {
   "cell_type": "markdown",
   "metadata": {
    "slideshow": {
     "slide_type": "slide"
    }
   },
   "source": [
    "Also, instead of:\n",
    "\n",
    "```python\n",
    "screen.fill((0, 0, 0))\n",
    "```\n",
    "\n",
    "Some programmers argue you should do\n",
    "\n",
    "```python\n",
    "def draw_background(screen):\n",
    "    screen.fill((0, 0, 0))\n",
    "\n",
    "draw_background(screen)\n",
    "```\n",
    "\n",
    "But personally, I would avoid the extra code and just do:\n",
    "\n",
    "```python\n",
    "screen.fill((0, 0, 0))  # draw background\n",
    "```"
   ]
  },
  {
   "cell_type": "markdown",
   "metadata": {
    "slideshow": {
     "slide_type": "slide"
    }
   },
   "source": [
    "**Case #3:** Comments are useful when breaking things into functions is not possible or practical.\n",
    "\n",
    "```python\n",
    "running = True\n",
    "while running:\n",
    "    # game logic\n",
    "    if keys[pygame.K_LEFT]:\n",
    "        pos_x += 0.5*dx\n",
    "    ...\n",
    "    # rendering\n",
    "    screen.fill((0, 0, 0))\n",
    "    screen.blit(jogador_img, (pos_x, pos_y))\n",
    "    pygame.display.flip()\n",
    "```"
   ]
  },
  {
   "cell_type": "markdown",
   "metadata": {
    "slideshow": {
     "slide_type": "slide"
    }
   },
   "source": [
    "**Case #4:** Automatically generate documentation for your packages (docstring).\n",
    "\n",
    "Multiple styles exist. For example: \n",
    "\n",
    "```python\n",
    "def some_function(argument1):\n",
    "    \"\"\"Summary or Description of the Function\n",
    "\n",
    "    Parameters:\n",
    "    argument1 (int): Description of arg1\n",
    "\n",
    "    Returns:\n",
    "    int:Returning value\n",
    "    \"\"\"\n",
    "    return argument1\n",
    "```"
   ]
  },
  {
   "cell_type": "markdown",
   "metadata": {
    "slideshow": {
     "slide_type": "slide"
    }
   },
   "source": [
    "# C. Assertions\n",
    "\n",
    "There are two types of errors:\n",
    "1. Syntatic or run-time errors\n",
    "1. Programming is misbehaving (semantic error)\n",
    "\n",
    "Which ones are easier to catch and fix?"
   ]
  },
  {
   "cell_type": "markdown",
   "metadata": {
    "slideshow": {
     "slide_type": "slide"
    }
   },
   "source": [
    "The first rule in debugging is to preemptively avoid debugging.\n",
    "\n",
    "As much as possible, try to transform possible semantic errors into explicit errors.\n",
    "\n",
    "For example, if I am writing a function and I know it can only work for valid angles then I could do:"
   ]
  },
  {
   "cell_type": "code",
   "execution_count": null,
   "metadata": {
    "slideshow": {
     "slide_type": "fragment"
    }
   },
   "outputs": [],
   "source": [
    "def f(angle: float) -> float:\n",
    "    assert 0 <= angle < 360\n",
    "    return ..."
   ]
  },
  {
   "cell_type": "markdown",
   "metadata": {
    "slideshow": {
     "slide_type": "fragment"
    }
   },
   "source": [
    "Static typing can be seen as a type of assertion."
   ]
  },
  {
   "cell_type": "markdown",
   "metadata": {
    "slideshow": {
     "slide_type": "slide"
    }
   },
   "source": [
    "# D. Unit Testing\n",
    "\n",
    "*The earlier you catch bugs, the easier!*\n",
    "\n",
    "When writting a function, it's a good idea to write a unit testing to test the function. You should run the unit tests everytime you change the code.\n",
    "\n",
    "<img src=\"images/26/unit-test.png\">"
   ]
  },
  {
   "cell_type": "code",
   "execution_count": null,
   "metadata": {
    "slideshow": {
     "slide_type": "slide"
    }
   },
   "outputs": [],
   "source": [
    "import math\n",
    "def radians_to_degrees(radians: float) -> float:\n",
    "    return 180*radians/math.pi\n",
    "\n",
    "if __name__ == '__main__':\n",
    "    assert radians_to_degrees(0) == 0\n",
    "    assert radians_to_degrees(math.pi/4) == 45\n",
    "    assert radians_to_degrees(math.pi) == 180"
   ]
  },
  {
   "cell_type": "markdown",
   "metadata": {
    "slideshow": {
     "slide_type": "slide"
    }
   },
   "source": [
    "# E. Debugging\n",
    "\n",
    "If a program is misbehaving, there are two forms of debugging a program:\n",
    "\n",
    "1. Prints\n",
    "1. Using a debugger (like pdb and pythontutor)\n",
    "\n",
    "<img src=\"images/26/debug2.jpg\">"
   ]
  },
  {
   "cell_type": "markdown",
   "metadata": {
    "slideshow": {
     "slide_type": "slide"
    }
   },
   "source": [
    "**Before debugging, first simplify:**\n",
    "\n",
    "But first, you should simplify your program. For example, if you suspect the problem is in list comprehension, you should expanded into a normal cycle and convert it back after you debug it, because you cannot debug list comprehension.\n",
    "\n",
    "This advise applies to other things you have not learned yet, like disabling features like multi-threading.\n",
    "\n",
    "Let us debug the code from one student for: https://fpro.fe.up.pt/test/pe04/repeated"
   ]
  },
  {
   "cell_type": "markdown",
   "metadata": {
    "slideshow": {
     "slide_type": "slide"
    }
   },
   "source": [
    "<h1>3. Repeated odd and even numbers</h1>\n",
    "<p>Write the Python function <code>repeated(nlist)</code> that, given a list of integers in <code>nlist</code>, returns the difference between the number of repetitions of <em>even</em> numbers and the number of repetitions of <em>odd</em> numbers. A number that occurs <em>n</em> times in the list counts as <em>n</em>-1 repetitions. Zero is an even number.</p>\n",
    "<p>You <strong>cannot</strong> use cycles, only map/filter/reduce or list comprehensions.</p>\n",
    "\n",
    "<table>\n",
    "  <tr>\n",
    "    <td colspan=\"4\">Public Tests</td>\n",
    "  </tr>\n",
    "    <tr>\n",
    "      <td>#</td>\n",
    "      <td>Input</td>\n",
    "      <td>Expected Output</td>\n",
    "      <td>Student Output</td>\n",
    "    </tr>\n",
    "  <tbody>\n",
    "    <tr>\n",
    "      <td>1</td>\n",
    "      <td><code>[2, 3, 3]</code></td>\n",
    "      <td><code>-1</code></td>\n",
    "      <td><code></code></td>\n",
    "    </tr>\n",
    "    <tr>\n",
    "      <td>2</td>\n",
    "      <td><code>[2, 0, 5, -1, 2, 3, -1, 5, 0, 2, -1]</code></td>\n",
    "      <td><code>0</code></td>\n",
    "      <td><code></code></td>\n",
    "    </tr>\n",
    "    <tr>\n",
    "      <td>3</td>\n",
    "      <td><code>[0, 4, 0, 6, 4, 5, 3, 0, 5, 8, 3, 0, 2, 3, 4, 4, 6, 6, 2, 4, 5, 6, 3, 6, 2, 0, 3]</code></td>\n",
    "      <td><code>8</code></td>\n",
    "      <td><code></code></td>\n",
    "    </tr>\n",
    "    <tr>\n",
    "      <td>4</td>\n",
    "      <td><code>[7, 5, 8, 8, 5, 9, 2, 2, 8, 6, 4, 6, 9, 6, 7, 7, 8, 2, 3, 7, 8, 0, 0, 3, 0]</code></td>\n",
    "      <td><code>4</code></td>\n",
    "      <td><code></code></td>\n",
    "    </tr>\n",
    "  </tbody>\n",
    "</table>"
   ]
  },
  {
   "cell_type": "code",
   "execution_count": null,
   "metadata": {
    "slideshow": {
     "slide_type": "fragment"
    }
   },
   "outputs": [],
   "source": [
    "import functools\n",
    "def repeated(nlist):\n",
    "    pares = list(filter(lambda x : x% 2 == 0, nlist))\n",
    "    impares = list(filter(lambda x : x% 2 != 0, nlist))\n",
    "    freq_p = list(map(lambda x: pares.count(x)-1, pares))\n",
    "    freq_i = list(map(lambda x: impares.count(x)-1, impares))\n",
    "    a = functools.reduce(lambda x, y :x+y, freq_p)\n",
    "    b = functools.reduce(lambda x, y : x+ y, freq_i)\n",
    "    return (a-b)\n",
    "\n",
    "print(repeated([2, 3, 3]))  # -1\n",
    "print(repeated([2, 0, 5, -1, 2, 3, -1, 5, 0, 2, -1]))  # 0\n",
    "print(repeated([0, 4, 0, 6, 4, 5, 3, 0, 5, 8, 3, 0, 2, 3, 4, 4, 6, 6, 2, 4, 5, 6, 3, 6, 2, 0, 3]))  # 8\n",
    "print(repeated([7, 5, 8, 8, 5, 9, 2, 2, 8, 6, 4, 6, 9, 6, 7, 7, 8, 2, 3, 7, 8, 0, 0, 3, 0]))  # 4"
   ]
  },
  {
   "cell_type": "markdown",
   "metadata": {
    "slideshow": {
     "slide_type": "slide"
    }
   },
   "source": [
    "<img src=\"images/26/spyder-pdb.png\">"
   ]
  },
  {
   "cell_type": "markdown",
   "metadata": {
    "slideshow": {
     "slide_type": "slide"
    }
   },
   "source": [
    "This is the code from one student also for: https://fpro.fe.up.pt/test/pe04/repeated"
   ]
  },
  {
   "cell_type": "code",
   "execution_count": null,
   "metadata": {
    "slideshow": {
     "slide_type": "fragment"
    }
   },
   "outputs": [],
   "source": [
    "def fun2(x,nlist):\n",
    "    nlist.remove(x)\n",
    "    if x not in nlist:\n",
    "        return 0\n",
    "    if x in nlist:\n",
    "        return -1\n",
    "    if x%2 != 0 and x not in nlist:\n",
    "        return 1\n",
    "\n",
    "def fun(x,nlist):\n",
    "    nlist.remove(x)\n",
    "    if x not in nlist:\n",
    "        return 0\n",
    "    if x in nlist:\n",
    "        return -1\n",
    "    if x%2 == 0 and x not in nlist:\n",
    "        return 1\n",
    "    else:\n",
    "        return 0\n",
    "\n",
    "def repeated(nlist):\n",
    "    odd = [fun(x,nlist) for x in nlist if x%2 == 0]\n",
    "    even = [fun2(x,nlist) for x in nlist if x%2 != 0]\n",
    "    return sum(even) - sum(odd)\n",
    "\n",
    "print(repeated([2, 3, 3]))  # -1\n",
    "print(repeated([2, 0, 5, -1, 2, 3, -1, 5, 0, 2, -1]))  # 0\n",
    "print(repeated([0, 4, 0, 6, 4, 5, 3, 0, 5, 8, 3, 0, 2, 3, 4, 4, 6, 6, 2, 4, 5, 6, 3, 6, 2, 0, 3]))  # 8\n",
    "print(repeated([7, 5, 8, 8, 5, 9, 2, 2, 8, 6, 4, 6, 9, 6, 7, 7, 8, 2, 3, 7, 8, 0, 0, 3, 0]))  # 4"
   ]
  },
  {
   "cell_type": "markdown",
   "metadata": {
    "slideshow": {
     "slide_type": "slide"
    }
   },
   "source": [
    "# Should I use a debugger or a print?\n",
    "\n",
    "You should use whatever you prefer.\n",
    "\n",
    "Many people say a debugger is better.\n",
    "\n",
    "No, it is not. You should use whatever you prefer.\n",
    "\n",
    "These people prefer to use prints rather than debuggers: [[ref](https://lemire.me/blog/2016/06/21/i-do-not-use-a-debugger/)]\n",
    "1. Guido van Rossum: the author of Python\n",
    "1. Linus Torvalds: the creator of Linux (and git), does not use a debugger\n",
    "1. Robert C. Martin: inventor of agile programming\n",
    "1. John Graham-Cumming, Brian W. Kernighan, Rob Pike: authors of important books."
   ]
  },
  {
   "cell_type": "markdown",
   "metadata": {
    "slideshow": {
     "slide_type": "slide"
    }
   },
   "source": [
    "That being said, there are some situations when you need to use a debugger or prints.\n",
    "\n",
    "## When is a debugger necessary:\n",
    "\n",
    "1. Run-time errors for C and C++. These programming languages <b><i>\\*crash\\*</i></b> when there is a run-time error. There is no nice error like in Python. A debugger will help you find where it crashes.\n",
    "1. When working with a low-level language (Assembly), doing a print is not user-friendly and requires many lines.\n",
    "\n",
    "## When are prints necessary:\n",
    "\n",
    "1. Debuggers usually do not work with programs that use multiple threads or processes.\n",
    "1. Debuggers do not work when your program is running in another computer; for example a web server.\n",
    "1. Debuggers might not work for real-time programs."
   ]
  },
  {
   "cell_type": "markdown",
   "metadata": {
    "slideshow": {
     "slide_type": "slide"
    }
   },
   "source": [
    "# Conclusions\n",
    "\n",
    "1. **The art of programming** and **Comments:** make bugs hard to hide\n",
    "1. **Assertions:** transform semantic errors into explicit errors\n",
    "1. **Unit testing:** catch bugs as early as they appear\n",
    "1. **Debugger / prints:** Last case scenario\n",
    "\n",
    "### Questions?"
   ]
  },
  {
   "cell_type": "markdown",
   "metadata": {
    "slideshow": {
     "slide_type": "slide"
    }
   },
   "source": [
    "# Ticket to leave\n",
    "\n",
    "## Moodle activity\n",
    "\n",
    "[LE26: Debugging & testing](https://moodle.up.pt/mod/quiz/view.php?id=49619)"
   ]
  },
  {
   "cell_type": "markdown",
   "metadata": {
    "slideshow": {
     "slide_type": "slide"
    }
   },
   "source": [
    "$\\Rightarrow$ \n",
    "[Go back to the Table of Contents](00-contents.ipynb)\n",
    "\n",
    "$\\Rightarrow$ \n",
    "[Read the Preface](00-preface.ipynb)"
   ]
  }
 ],
 "metadata": {
  "celltoolbar": "Slideshow",
  "kernelspec": {
   "display_name": "Python 3",
   "language": "python",
   "name": "python3"
  },
  "language_info": {
   "codemirror_mode": {
    "name": "ipython",
    "version": 3
   },
   "file_extension": ".py",
   "mimetype": "text/x-python",
   "name": "python",
   "nbconvert_exporter": "python",
   "pygments_lexer": "ipython3",
   "version": "3.6.9"
  }
 },
 "nbformat": 4,
 "nbformat_minor": 2
}
